{
  "cells": [
    {
      "cell_type": "markdown",
      "metadata": {
        "id": "2DK_-uXMBt96"
      },
      "source": [
        "Project Bimbingan Karir Data Science\n",
        "Table Of Contents\n",
        "[ Minggu ke-1 ]\n",
        "1. Pengumoulan data\n",
        "2. Menelaah data\n",
        "3. Validasi data\n",
        "4. Menentukan Objek Data\n",
        "5. Membersihkan data\n",
        "[ Minggu ke-2 ]\n",
        "6. Kontruksi Data\n",
        "7. Modelling\n",
        "8. Evaluasi\n",
        "[ Minggu ke-3 ]\n",
        "9. Streamlit\n",
        "10. Kesimpulan"
      ]
    },
    {
      "cell_type": "code",
      "execution_count": 1,
      "metadata": {
        "id": "nH56fHIsjWGR"
      },
      "outputs": [],
      "source": [
        "#dir = 'hungarian.data'"
      ]
    },
    {
      "cell_type": "markdown",
      "metadata": {
        "id": "_iNBfIaSC30u"
      },
      "source": [
        "2. Menelaah **Data**\n",
        "Pilih dan masukan library yang anda butuhkan untuk menelaah data"
      ]
    },
    {
      "cell_type": "code",
      "execution_count": 2,
      "metadata": {
        "id": "P8F18mIEkppU"
      },
      "outputs": [],
      "source": [
        "import pandas as pd\n",
        "import numpy as np\n",
        "import re\n",
        "import itertools"
      ]
    },
    {
      "cell_type": "markdown",
      "metadata": {
        "id": "NNFv3J6iDGqW"
      },
      "source": [
        "3. Load Data\n",
        "Masukan dataset yang dibutuhkan dengan alamat penyimpanan yang tepat dan simpan kedalam sebuah variabel"
      ]
    },
    {
      "cell_type": "code",
      "execution_count": 3,
      "metadata": {
        "id": "l4fs7Caplopr"
      },
      "outputs": [],
      "source": [
        "#dir adalah variasi yang digunakan untuk menyimpan data\n",
        "dir = 'heart+disease/hungarian.data'"
      ]
    },
    {
      "cell_type": "markdown",
      "metadata": {
        "id": "hFIBs6HewYjq"
      },
      "source": [
        "Buatlah literasi untuk membaca dataset"
      ]
    },
    {
      "cell_type": "code",
      "execution_count": 4,
      "metadata": {
        "colab": {
          "base_uri": "https://localhost:8080/"
        },
        "id": "_m-YtYnvzDig",
        "outputId": "fe9bfc02-1287-4ee0-f6d4-7ba0a22d2328"
      },
      "outputs": [
        {
          "data": {
            "text/plain": [
              "['1254 0 40 1 1 0 0',\n",
              " '-9 2 140 0 289 -9 -9 -9',\n",
              " '0 -9 -9 0 12 16 84 0',\n",
              " '0 0 0 0 150 18 -9 7',\n",
              " '172 86 200 110 140 86 0 0',\n",
              " '0 -9 26 20 -9 -9 -9 -9',\n",
              " '-9 -9 -9 -9 -9 -9 -9 12',\n",
              " '20 84 0 -9 -9 -9 -9 -9',\n",
              " '-9 -9 -9 -9 -9 1 1 1',\n",
              " '1 1 -9. -9. name']"
            ]
          },
          "execution_count": 4,
          "metadata": {},
          "output_type": "execute_result"
        }
      ],
      "source": [
        "with open(dir, encoding='Latin1') as file:\n",
        "  lines = [line.strip()for line in file]\n",
        "\n",
        "lines [0:10]"
      ]
    },
    {
      "cell_type": "markdown",
      "metadata": {
        "id": "ltK2XZEVwfvF"
      },
      "source": [
        "Setelah membaca file dataset lakukan literasi sesuai jumlah kolom dan baris yang ada pada dataset. Untuk keterangan kolom dan baris dapat dilihat melalui deskripsi dataset yang sudah dijelaskan sebelumnya"
      ]
    },
    {
      "cell_type": "code",
      "execution_count": 5,
      "metadata": {
        "id": "k9C7lqlq1sa4"
      },
      "outputs": [],
      "source": [
        "data = itertools.takewhile(\n",
        "    lambda x: len(x) == 76,\n",
        "    (' '.join(lines[i:(i+10)]).split() for i in range(0, len(lines),10))\n",
        ")\n",
        "#for element in data:\n",
        "  #print(element)\n",
        "\n",
        "df = pd.DataFrame.from_records(data)"
      ]
    },
    {
      "cell_type": "code",
      "execution_count": 6,
      "metadata": {
        "colab": {
          "base_uri": "https://localhost:8080/",
          "height": 235
        },
        "id": "2aHVb0FB2fe9",
        "outputId": "77e032b3-c58f-4d64-9b56-7b642041fe55"
      },
      "outputs": [
        {
          "data": {
            "text/html": [
              "<div>\n",
              "<style scoped>\n",
              "    .dataframe tbody tr th:only-of-type {\n",
              "        vertical-align: middle;\n",
              "    }\n",
              "\n",
              "    .dataframe tbody tr th {\n",
              "        vertical-align: top;\n",
              "    }\n",
              "\n",
              "    .dataframe thead th {\n",
              "        text-align: right;\n",
              "    }\n",
              "</style>\n",
              "<table border=\"1\" class=\"dataframe\">\n",
              "  <thead>\n",
              "    <tr style=\"text-align: right;\">\n",
              "      <th></th>\n",
              "      <th>0</th>\n",
              "      <th>1</th>\n",
              "      <th>2</th>\n",
              "      <th>3</th>\n",
              "      <th>4</th>\n",
              "      <th>5</th>\n",
              "      <th>6</th>\n",
              "      <th>7</th>\n",
              "      <th>8</th>\n",
              "      <th>9</th>\n",
              "      <th>...</th>\n",
              "      <th>66</th>\n",
              "      <th>67</th>\n",
              "      <th>68</th>\n",
              "      <th>69</th>\n",
              "      <th>70</th>\n",
              "      <th>71</th>\n",
              "      <th>72</th>\n",
              "      <th>73</th>\n",
              "      <th>74</th>\n",
              "      <th>75</th>\n",
              "    </tr>\n",
              "  </thead>\n",
              "  <tbody>\n",
              "    <tr>\n",
              "      <th>0</th>\n",
              "      <td>1254</td>\n",
              "      <td>0</td>\n",
              "      <td>40</td>\n",
              "      <td>1</td>\n",
              "      <td>1</td>\n",
              "      <td>0</td>\n",
              "      <td>0</td>\n",
              "      <td>-9</td>\n",
              "      <td>2</td>\n",
              "      <td>140</td>\n",
              "      <td>...</td>\n",
              "      <td>-9</td>\n",
              "      <td>-9</td>\n",
              "      <td>1</td>\n",
              "      <td>1</td>\n",
              "      <td>1</td>\n",
              "      <td>1</td>\n",
              "      <td>1</td>\n",
              "      <td>-9.</td>\n",
              "      <td>-9.</td>\n",
              "      <td>name</td>\n",
              "    </tr>\n",
              "    <tr>\n",
              "      <th>1</th>\n",
              "      <td>1255</td>\n",
              "      <td>0</td>\n",
              "      <td>49</td>\n",
              "      <td>0</td>\n",
              "      <td>1</td>\n",
              "      <td>0</td>\n",
              "      <td>0</td>\n",
              "      <td>-9</td>\n",
              "      <td>3</td>\n",
              "      <td>160</td>\n",
              "      <td>...</td>\n",
              "      <td>-9</td>\n",
              "      <td>-9</td>\n",
              "      <td>1</td>\n",
              "      <td>1</td>\n",
              "      <td>1</td>\n",
              "      <td>1</td>\n",
              "      <td>1</td>\n",
              "      <td>-9.</td>\n",
              "      <td>-9.</td>\n",
              "      <td>name</td>\n",
              "    </tr>\n",
              "    <tr>\n",
              "      <th>2</th>\n",
              "      <td>1256</td>\n",
              "      <td>0</td>\n",
              "      <td>37</td>\n",
              "      <td>1</td>\n",
              "      <td>1</td>\n",
              "      <td>0</td>\n",
              "      <td>0</td>\n",
              "      <td>-9</td>\n",
              "      <td>2</td>\n",
              "      <td>130</td>\n",
              "      <td>...</td>\n",
              "      <td>-9</td>\n",
              "      <td>-9</td>\n",
              "      <td>1</td>\n",
              "      <td>1</td>\n",
              "      <td>1</td>\n",
              "      <td>1</td>\n",
              "      <td>1</td>\n",
              "      <td>-9.</td>\n",
              "      <td>-9.</td>\n",
              "      <td>name</td>\n",
              "    </tr>\n",
              "    <tr>\n",
              "      <th>3</th>\n",
              "      <td>1257</td>\n",
              "      <td>0</td>\n",
              "      <td>48</td>\n",
              "      <td>0</td>\n",
              "      <td>1</td>\n",
              "      <td>1</td>\n",
              "      <td>1</td>\n",
              "      <td>-9</td>\n",
              "      <td>4</td>\n",
              "      <td>138</td>\n",
              "      <td>...</td>\n",
              "      <td>2</td>\n",
              "      <td>-9</td>\n",
              "      <td>1</td>\n",
              "      <td>1</td>\n",
              "      <td>1</td>\n",
              "      <td>1</td>\n",
              "      <td>1</td>\n",
              "      <td>-9.</td>\n",
              "      <td>-9.</td>\n",
              "      <td>name</td>\n",
              "    </tr>\n",
              "    <tr>\n",
              "      <th>4</th>\n",
              "      <td>1258</td>\n",
              "      <td>0</td>\n",
              "      <td>54</td>\n",
              "      <td>1</td>\n",
              "      <td>1</td>\n",
              "      <td>0</td>\n",
              "      <td>1</td>\n",
              "      <td>-9</td>\n",
              "      <td>3</td>\n",
              "      <td>150</td>\n",
              "      <td>...</td>\n",
              "      <td>1</td>\n",
              "      <td>-9</td>\n",
              "      <td>1</td>\n",
              "      <td>1</td>\n",
              "      <td>1</td>\n",
              "      <td>1</td>\n",
              "      <td>1</td>\n",
              "      <td>-9.</td>\n",
              "      <td>-9.</td>\n",
              "      <td>name</td>\n",
              "    </tr>\n",
              "  </tbody>\n",
              "</table>\n",
              "<p>5 rows × 76 columns</p>\n",
              "</div>"
            ],
            "text/plain": [
              "     0  1   2  3  4  5  6   7  8    9   ...  66  67 68 69 70 71 72   73   74  \\\n",
              "0  1254  0  40  1  1  0  0  -9  2  140  ...  -9  -9  1  1  1  1  1  -9.  -9.   \n",
              "1  1255  0  49  0  1  0  0  -9  3  160  ...  -9  -9  1  1  1  1  1  -9.  -9.   \n",
              "2  1256  0  37  1  1  0  0  -9  2  130  ...  -9  -9  1  1  1  1  1  -9.  -9.   \n",
              "3  1257  0  48  0  1  1  1  -9  4  138  ...   2  -9  1  1  1  1  1  -9.  -9.   \n",
              "4  1258  0  54  1  1  0  1  -9  3  150  ...   1  -9  1  1  1  1  1  -9.  -9.   \n",
              "\n",
              "     75  \n",
              "0  name  \n",
              "1  name  \n",
              "2  name  \n",
              "3  name  \n",
              "4  name  \n",
              "\n",
              "[5 rows x 76 columns]"
            ]
          },
          "execution_count": 6,
          "metadata": {},
          "output_type": "execute_result"
        }
      ],
      "source": [
        "df.head()"
      ]
    },
    {
      "cell_type": "markdown",
      "metadata": {
        "id": "CdBmHnluxGKn"
      },
      "source": [
        "Menampilkan informasi dari file dataset yang dimasukan kedalam dataframe"
      ]
    },
    {
      "cell_type": "code",
      "execution_count": 7,
      "metadata": {
        "colab": {
          "base_uri": "https://localhost:8080/"
        },
        "id": "5MRRxT192ngP",
        "outputId": "08bcd8ce-09ec-4b2d-d133-dc9dc5efb77f"
      },
      "outputs": [
        {
          "data": {
            "text/plain": [
              "0     object\n",
              "1     object\n",
              "2     object\n",
              "3     object\n",
              "4     object\n",
              "       ...  \n",
              "71    object\n",
              "72    object\n",
              "73    object\n",
              "74    object\n",
              "75    object\n",
              "Length: 76, dtype: object"
            ]
          },
          "execution_count": 7,
          "metadata": {},
          "output_type": "execute_result"
        }
      ],
      "source": [
        "df.dtypes"
      ]
    },
    {
      "cell_type": "markdown",
      "metadata": {
        "id": "L-GphodJxQVh"
      },
      "source": [
        "Pada kondisi dataset yang kita miliki terdapat kondisi khusus yang dimana sebelum memasuki tahap validasi data untuk tipe data object atau string perlu dilakukan penghapusan fitur dikarenakan pada dataset ini nilai null disimbolkan dengan angka -9.0"
      ]
    },
    {
      "cell_type": "code",
      "execution_count": 8,
      "metadata": {
        "id": "Hu3JUM4r2tet"
      },
      "outputs": [],
      "source": [
        "df = df.iloc[:,:-1]\n",
        "df = df.drop(df.columns[0], axis=1)"
      ]
    },
    {
      "cell_type": "markdown",
      "metadata": {
        "id": "iGDdZsNUxtXU"
      },
      "source": [
        "Mengubah tipe datafile dataset menjadi tipe data float sesuai dengan nilai null yaitu -9.0"
      ]
    },
    {
      "cell_type": "code",
      "execution_count": 9,
      "metadata": {
        "id": "ES5F1jH63Irn"
      },
      "outputs": [],
      "source": [
        "df = df.astype(float)"
      ]
    },
    {
      "cell_type": "code",
      "execution_count": 10,
      "metadata": {
        "colab": {
          "base_uri": "https://localhost:8080/"
        },
        "id": "vhjUxcKu3O3X",
        "outputId": "e5565aec-befe-4156-d13f-9779c0054ee7"
      },
      "outputs": [
        {
          "data": {
            "text/plain": [
              "<bound method DataFrame.info of       1     2    3    4    5    6    7    8      9    10  ...   65   66   67  \\\n",
              "0    0.0  40.0  1.0  1.0  0.0  0.0 -9.0  2.0  140.0  0.0  ... -9.0 -9.0 -9.0   \n",
              "1    0.0  49.0  0.0  1.0  0.0  0.0 -9.0  3.0  160.0  1.0  ... -9.0 -9.0 -9.0   \n",
              "2    0.0  37.0  1.0  1.0  0.0  0.0 -9.0  2.0  130.0  0.0  ... -9.0 -9.0 -9.0   \n",
              "3    0.0  48.0  0.0  1.0  1.0  1.0 -9.0  4.0  138.0  0.0  ... -9.0  2.0 -9.0   \n",
              "4    0.0  54.0  1.0  1.0  0.0  1.0 -9.0  3.0  150.0  0.0  ... -9.0  1.0 -9.0   \n",
              "..   ...   ...  ...  ...  ...  ...  ...  ...    ...  ...  ...  ...  ...  ...   \n",
              "289  0.0  48.0  0.0  0.0  0.0  0.0 -9.0  2.0   -9.0  0.0  ... -9.0 -9.0 -9.0   \n",
              "290  0.0  36.0  1.0  1.0  0.0  0.0 -9.0  2.0  120.0  0.0  ... -9.0 -9.0 -9.0   \n",
              "291  0.0  48.0  1.0  0.0  0.0  0.0 -9.0  3.0  110.0  0.0  ... -9.0 -9.0 -9.0   \n",
              "292  0.0  47.0  0.0  0.0  0.0  0.0 -9.0  2.0  140.0  1.0  ... -9.0 -9.0 -9.0   \n",
              "293  0.0  53.0  1.0  1.0  1.0  1.0 -9.0  4.0  130.0  0.0  ... -9.0  1.0  1.0   \n",
              "\n",
              "      68   69   70   71   72   73   74  \n",
              "0    1.0  1.0  1.0  1.0  1.0 -9.0 -9.0  \n",
              "1    1.0  1.0  1.0  1.0  1.0 -9.0 -9.0  \n",
              "2    1.0  1.0  1.0  1.0  1.0 -9.0 -9.0  \n",
              "3    1.0  1.0  1.0  1.0  1.0 -9.0 -9.0  \n",
              "4    1.0  1.0  1.0  1.0  1.0 -9.0 -9.0  \n",
              "..   ...  ...  ...  ...  ...  ...  ...  \n",
              "289  1.0  1.0  1.0  1.0  1.0 -9.0 -9.0  \n",
              "290  1.0  1.0  1.0  1.0  1.0 -9.0 -9.0  \n",
              "291  1.0  1.0  1.0  1.0  1.0 -9.0 -9.0  \n",
              "292  1.0  1.0  1.0  1.0  1.0 -9.0 -9.0  \n",
              "293  1.0  1.0  1.0  1.0  1.0 -9.0 -9.0  \n",
              "\n",
              "[294 rows x 74 columns]>"
            ]
          },
          "execution_count": 10,
          "metadata": {},
          "output_type": "execute_result"
        }
      ],
      "source": [
        "df.info"
      ]
    },
    {
      "cell_type": "markdown",
      "metadata": {
        "id": "FtkNJu-IyGUI"
      },
      "source": [
        "3. Validasi data\n",
        "Pada tahap ini bertujuan untuk mengetahui dan memahami isi dari dataset agar dapat dilakukan penanganan sesuai dengan kondisinya mengubah nilai -9.0 menjadi nilai null value sesuai dengan deskripsi dataset"
      ]
    },
    {
      "cell_type": "code",
      "execution_count": 11,
      "metadata": {
        "id": "-YkAMWiX3Wpg"
      },
      "outputs": [],
      "source": [
        "df.replace(-9.0, np.nan, inplace=True)"
      ]
    },
    {
      "cell_type": "markdown",
      "metadata": {
        "id": "Y0MizwDvyi0A"
      },
      "source": [
        "Menghitung jumlah nilai null value"
      ]
    },
    {
      "cell_type": "code",
      "execution_count": 12,
      "metadata": {
        "colab": {
          "base_uri": "https://localhost:8080/"
        },
        "id": "ejdn5gBL3oXb",
        "outputId": "8a6dd57d-607d-4100-f8b8-0277441b27a7"
      },
      "outputs": [
        {
          "data": {
            "text/plain": [
              "1       0\n",
              "2       0\n",
              "3       0\n",
              "4       0\n",
              "5       0\n",
              "     ... \n",
              "70      0\n",
              "71      0\n",
              "72      0\n",
              "73    266\n",
              "74    294\n",
              "Length: 74, dtype: int64"
            ]
          },
          "execution_count": 12,
          "metadata": {},
          "output_type": "execute_result"
        }
      ],
      "source": [
        "df.isnull().sum()"
      ]
    },
    {
      "cell_type": "code",
      "execution_count": 13,
      "metadata": {
        "colab": {
          "base_uri": "https://localhost:8080/",
          "height": 235
        },
        "id": "WYck2ZUv3tlu",
        "outputId": "05e805f0-ce28-45ff-c708-9847eba694e6"
      },
      "outputs": [
        {
          "data": {
            "text/html": [
              "<div>\n",
              "<style scoped>\n",
              "    .dataframe tbody tr th:only-of-type {\n",
              "        vertical-align: middle;\n",
              "    }\n",
              "\n",
              "    .dataframe tbody tr th {\n",
              "        vertical-align: top;\n",
              "    }\n",
              "\n",
              "    .dataframe thead th {\n",
              "        text-align: right;\n",
              "    }\n",
              "</style>\n",
              "<table border=\"1\" class=\"dataframe\">\n",
              "  <thead>\n",
              "    <tr style=\"text-align: right;\">\n",
              "      <th></th>\n",
              "      <th>1</th>\n",
              "      <th>2</th>\n",
              "      <th>3</th>\n",
              "      <th>4</th>\n",
              "      <th>5</th>\n",
              "      <th>6</th>\n",
              "      <th>7</th>\n",
              "      <th>8</th>\n",
              "      <th>9</th>\n",
              "      <th>10</th>\n",
              "      <th>...</th>\n",
              "      <th>65</th>\n",
              "      <th>66</th>\n",
              "      <th>67</th>\n",
              "      <th>68</th>\n",
              "      <th>69</th>\n",
              "      <th>70</th>\n",
              "      <th>71</th>\n",
              "      <th>72</th>\n",
              "      <th>73</th>\n",
              "      <th>74</th>\n",
              "    </tr>\n",
              "  </thead>\n",
              "  <tbody>\n",
              "    <tr>\n",
              "      <th>0</th>\n",
              "      <td>0.0</td>\n",
              "      <td>40.0</td>\n",
              "      <td>1.0</td>\n",
              "      <td>1.0</td>\n",
              "      <td>0.0</td>\n",
              "      <td>0.0</td>\n",
              "      <td>NaN</td>\n",
              "      <td>2.0</td>\n",
              "      <td>140.0</td>\n",
              "      <td>0.0</td>\n",
              "      <td>...</td>\n",
              "      <td>NaN</td>\n",
              "      <td>NaN</td>\n",
              "      <td>NaN</td>\n",
              "      <td>1.0</td>\n",
              "      <td>1.0</td>\n",
              "      <td>1.0</td>\n",
              "      <td>1.0</td>\n",
              "      <td>1.0</td>\n",
              "      <td>NaN</td>\n",
              "      <td>NaN</td>\n",
              "    </tr>\n",
              "    <tr>\n",
              "      <th>1</th>\n",
              "      <td>0.0</td>\n",
              "      <td>49.0</td>\n",
              "      <td>0.0</td>\n",
              "      <td>1.0</td>\n",
              "      <td>0.0</td>\n",
              "      <td>0.0</td>\n",
              "      <td>NaN</td>\n",
              "      <td>3.0</td>\n",
              "      <td>160.0</td>\n",
              "      <td>1.0</td>\n",
              "      <td>...</td>\n",
              "      <td>NaN</td>\n",
              "      <td>NaN</td>\n",
              "      <td>NaN</td>\n",
              "      <td>1.0</td>\n",
              "      <td>1.0</td>\n",
              "      <td>1.0</td>\n",
              "      <td>1.0</td>\n",
              "      <td>1.0</td>\n",
              "      <td>NaN</td>\n",
              "      <td>NaN</td>\n",
              "    </tr>\n",
              "    <tr>\n",
              "      <th>2</th>\n",
              "      <td>0.0</td>\n",
              "      <td>37.0</td>\n",
              "      <td>1.0</td>\n",
              "      <td>1.0</td>\n",
              "      <td>0.0</td>\n",
              "      <td>0.0</td>\n",
              "      <td>NaN</td>\n",
              "      <td>2.0</td>\n",
              "      <td>130.0</td>\n",
              "      <td>0.0</td>\n",
              "      <td>...</td>\n",
              "      <td>NaN</td>\n",
              "      <td>NaN</td>\n",
              "      <td>NaN</td>\n",
              "      <td>1.0</td>\n",
              "      <td>1.0</td>\n",
              "      <td>1.0</td>\n",
              "      <td>1.0</td>\n",
              "      <td>1.0</td>\n",
              "      <td>NaN</td>\n",
              "      <td>NaN</td>\n",
              "    </tr>\n",
              "    <tr>\n",
              "      <th>3</th>\n",
              "      <td>0.0</td>\n",
              "      <td>48.0</td>\n",
              "      <td>0.0</td>\n",
              "      <td>1.0</td>\n",
              "      <td>1.0</td>\n",
              "      <td>1.0</td>\n",
              "      <td>NaN</td>\n",
              "      <td>4.0</td>\n",
              "      <td>138.0</td>\n",
              "      <td>0.0</td>\n",
              "      <td>...</td>\n",
              "      <td>NaN</td>\n",
              "      <td>2.0</td>\n",
              "      <td>NaN</td>\n",
              "      <td>1.0</td>\n",
              "      <td>1.0</td>\n",
              "      <td>1.0</td>\n",
              "      <td>1.0</td>\n",
              "      <td>1.0</td>\n",
              "      <td>NaN</td>\n",
              "      <td>NaN</td>\n",
              "    </tr>\n",
              "    <tr>\n",
              "      <th>4</th>\n",
              "      <td>0.0</td>\n",
              "      <td>54.0</td>\n",
              "      <td>1.0</td>\n",
              "      <td>1.0</td>\n",
              "      <td>0.0</td>\n",
              "      <td>1.0</td>\n",
              "      <td>NaN</td>\n",
              "      <td>3.0</td>\n",
              "      <td>150.0</td>\n",
              "      <td>0.0</td>\n",
              "      <td>...</td>\n",
              "      <td>NaN</td>\n",
              "      <td>1.0</td>\n",
              "      <td>NaN</td>\n",
              "      <td>1.0</td>\n",
              "      <td>1.0</td>\n",
              "      <td>1.0</td>\n",
              "      <td>1.0</td>\n",
              "      <td>1.0</td>\n",
              "      <td>NaN</td>\n",
              "      <td>NaN</td>\n",
              "    </tr>\n",
              "  </tbody>\n",
              "</table>\n",
              "<p>5 rows × 74 columns</p>\n",
              "</div>"
            ],
            "text/plain": [
              "    1     2    3    4    5    6   7    8      9    10  ...  65   66  67   68  \\\n",
              "0  0.0  40.0  1.0  1.0  0.0  0.0 NaN  2.0  140.0  0.0  ... NaN  NaN NaN  1.0   \n",
              "1  0.0  49.0  0.0  1.0  0.0  0.0 NaN  3.0  160.0  1.0  ... NaN  NaN NaN  1.0   \n",
              "2  0.0  37.0  1.0  1.0  0.0  0.0 NaN  2.0  130.0  0.0  ... NaN  NaN NaN  1.0   \n",
              "3  0.0  48.0  0.0  1.0  1.0  1.0 NaN  4.0  138.0  0.0  ... NaN  2.0 NaN  1.0   \n",
              "4  0.0  54.0  1.0  1.0  0.0  1.0 NaN  3.0  150.0  0.0  ... NaN  1.0 NaN  1.0   \n",
              "\n",
              "    69   70   71   72  73  74  \n",
              "0  1.0  1.0  1.0  1.0 NaN NaN  \n",
              "1  1.0  1.0  1.0  1.0 NaN NaN  \n",
              "2  1.0  1.0  1.0  1.0 NaN NaN  \n",
              "3  1.0  1.0  1.0  1.0 NaN NaN  \n",
              "4  1.0  1.0  1.0  1.0 NaN NaN  \n",
              "\n",
              "[5 rows x 74 columns]"
            ]
          },
          "execution_count": 13,
          "metadata": {},
          "output_type": "execute_result"
        }
      ],
      "source": [
        "df.head()"
      ]
    },
    {
      "cell_type": "code",
      "execution_count": 14,
      "metadata": {
        "colab": {
          "base_uri": "https://localhost:8080/"
        },
        "id": "tkI8gOKq3xIx",
        "outputId": "bc47233f-6155-4da8-d1bb-427b6158fa51"
      },
      "outputs": [
        {
          "name": "stdout",
          "output_type": "stream",
          "text": [
            "<class 'pandas.core.frame.DataFrame'>\n",
            "RangeIndex: 294 entries, 0 to 293\n",
            "Data columns (total 74 columns):\n",
            " #   Column  Non-Null Count  Dtype  \n",
            "---  ------  --------------  -----  \n",
            " 0   1       294 non-null    float64\n",
            " 1   2       294 non-null    float64\n",
            " 2   3       294 non-null    float64\n",
            " 3   4       294 non-null    float64\n",
            " 4   5       294 non-null    float64\n",
            " 5   6       294 non-null    float64\n",
            " 6   7       0 non-null      float64\n",
            " 7   8       294 non-null    float64\n",
            " 8   9       293 non-null    float64\n",
            " 9   10      293 non-null    float64\n",
            " 10  11      271 non-null    float64\n",
            " 11  12      12 non-null     float64\n",
            " 12  13      1 non-null      float64\n",
            " 13  14      0 non-null      float64\n",
            " 14  15      286 non-null    float64\n",
            " 15  16      21 non-null     float64\n",
            " 16  17      1 non-null      float64\n",
            " 17  18      293 non-null    float64\n",
            " 18  19      294 non-null    float64\n",
            " 19  20      294 non-null    float64\n",
            " 20  21      294 non-null    float64\n",
            " 21  22      293 non-null    float64\n",
            " 22  23      292 non-null    float64\n",
            " 23  24      293 non-null    float64\n",
            " 24  25      293 non-null    float64\n",
            " 25  26      293 non-null    float64\n",
            " 26  27      285 non-null    float64\n",
            " 27  28      292 non-null    float64\n",
            " 28  29      104 non-null    float64\n",
            " 29  30      292 non-null    float64\n",
            " 30  31      293 non-null    float64\n",
            " 31  32      293 non-null    float64\n",
            " 32  33      293 non-null    float64\n",
            " 33  34      293 non-null    float64\n",
            " 34  35      293 non-null    float64\n",
            " 35  36      293 non-null    float64\n",
            " 36  37      293 non-null    float64\n",
            " 37  38      292 non-null    float64\n",
            " 38  39      294 non-null    float64\n",
            " 39  40      104 non-null    float64\n",
            " 40  41      293 non-null    float64\n",
            " 41  42      294 non-null    float64\n",
            " 42  43      4 non-null      float64\n",
            " 43  44      0 non-null      float64\n",
            " 44  45      0 non-null      float64\n",
            " 45  46      0 non-null      float64\n",
            " 46  47      3 non-null      float64\n",
            " 47  48      0 non-null      float64\n",
            " 48  49      2 non-null      float64\n",
            " 49  50      28 non-null     float64\n",
            " 50  51      27 non-null     float64\n",
            " 51  52      17 non-null     float64\n",
            " 52  53      0 non-null      float64\n",
            " 53  54      294 non-null    float64\n",
            " 54  55      294 non-null    float64\n",
            " 55  56      294 non-null    float64\n",
            " 56  57      294 non-null    float64\n",
            " 57  58      19 non-null     float64\n",
            " 58  59      58 non-null     float64\n",
            " 59  60      48 non-null     float64\n",
            " 60  61      18 non-null     float64\n",
            " 61  62      59 non-null     float64\n",
            " 62  63      9 non-null      float64\n",
            " 63  64      23 non-null     float64\n",
            " 64  65      5 non-null      float64\n",
            " 65  66      50 non-null     float64\n",
            " 66  67      25 non-null     float64\n",
            " 67  68      294 non-null    float64\n",
            " 68  69      294 non-null    float64\n",
            " 69  70      294 non-null    float64\n",
            " 70  71      294 non-null    float64\n",
            " 71  72      294 non-null    float64\n",
            " 72  73      28 non-null     float64\n",
            " 73  74      0 non-null      float64\n",
            "dtypes: float64(74)\n",
            "memory usage: 170.1 KB\n"
          ]
        }
      ],
      "source": [
        "df.info()"
      ]
    },
    {
      "cell_type": "markdown",
      "metadata": {
        "id": "S9tXcnCDNqVW"
      },
      "source": [
        "4. Menentukan Object Data\n",
        "Memilih 14 fitur yang akan digunakan sesuai dengan deskripsi dataset"
      ]
    },
    {
      "cell_type": "code",
      "execution_count": 15,
      "metadata": {
        "id": "OaPT9Qt932e-"
      },
      "outputs": [],
      "source": [
        "df_selected = df.iloc[:, [1,2,7,8,10,14,17,30,36,38,39,42,49,56]]"
      ]
    },
    {
      "cell_type": "code",
      "execution_count": 16,
      "metadata": {
        "colab": {
          "base_uri": "https://localhost:8080/",
          "height": 206
        },
        "id": "H7YFNNjU4KRr",
        "outputId": "48afa54c-a4cf-41b3-818b-d4d2a35f492b"
      },
      "outputs": [
        {
          "data": {
            "text/html": [
              "<div>\n",
              "<style scoped>\n",
              "    .dataframe tbody tr th:only-of-type {\n",
              "        vertical-align: middle;\n",
              "    }\n",
              "\n",
              "    .dataframe tbody tr th {\n",
              "        vertical-align: top;\n",
              "    }\n",
              "\n",
              "    .dataframe thead th {\n",
              "        text-align: right;\n",
              "    }\n",
              "</style>\n",
              "<table border=\"1\" class=\"dataframe\">\n",
              "  <thead>\n",
              "    <tr style=\"text-align: right;\">\n",
              "      <th></th>\n",
              "      <th>2</th>\n",
              "      <th>3</th>\n",
              "      <th>8</th>\n",
              "      <th>9</th>\n",
              "      <th>11</th>\n",
              "      <th>15</th>\n",
              "      <th>18</th>\n",
              "      <th>31</th>\n",
              "      <th>37</th>\n",
              "      <th>39</th>\n",
              "      <th>40</th>\n",
              "      <th>43</th>\n",
              "      <th>50</th>\n",
              "      <th>57</th>\n",
              "    </tr>\n",
              "  </thead>\n",
              "  <tbody>\n",
              "    <tr>\n",
              "      <th>0</th>\n",
              "      <td>40.0</td>\n",
              "      <td>1.0</td>\n",
              "      <td>2.0</td>\n",
              "      <td>140.0</td>\n",
              "      <td>289.0</td>\n",
              "      <td>0.0</td>\n",
              "      <td>0.0</td>\n",
              "      <td>172.0</td>\n",
              "      <td>0.0</td>\n",
              "      <td>0.0</td>\n",
              "      <td>NaN</td>\n",
              "      <td>NaN</td>\n",
              "      <td>NaN</td>\n",
              "      <td>0.0</td>\n",
              "    </tr>\n",
              "    <tr>\n",
              "      <th>1</th>\n",
              "      <td>49.0</td>\n",
              "      <td>0.0</td>\n",
              "      <td>3.0</td>\n",
              "      <td>160.0</td>\n",
              "      <td>180.0</td>\n",
              "      <td>0.0</td>\n",
              "      <td>0.0</td>\n",
              "      <td>156.0</td>\n",
              "      <td>0.0</td>\n",
              "      <td>1.0</td>\n",
              "      <td>2.0</td>\n",
              "      <td>NaN</td>\n",
              "      <td>NaN</td>\n",
              "      <td>1.0</td>\n",
              "    </tr>\n",
              "    <tr>\n",
              "      <th>2</th>\n",
              "      <td>37.0</td>\n",
              "      <td>1.0</td>\n",
              "      <td>2.0</td>\n",
              "      <td>130.0</td>\n",
              "      <td>283.0</td>\n",
              "      <td>0.0</td>\n",
              "      <td>1.0</td>\n",
              "      <td>98.0</td>\n",
              "      <td>0.0</td>\n",
              "      <td>0.0</td>\n",
              "      <td>NaN</td>\n",
              "      <td>NaN</td>\n",
              "      <td>NaN</td>\n",
              "      <td>0.0</td>\n",
              "    </tr>\n",
              "    <tr>\n",
              "      <th>3</th>\n",
              "      <td>48.0</td>\n",
              "      <td>0.0</td>\n",
              "      <td>4.0</td>\n",
              "      <td>138.0</td>\n",
              "      <td>214.0</td>\n",
              "      <td>0.0</td>\n",
              "      <td>0.0</td>\n",
              "      <td>108.0</td>\n",
              "      <td>1.0</td>\n",
              "      <td>1.5</td>\n",
              "      <td>2.0</td>\n",
              "      <td>NaN</td>\n",
              "      <td>NaN</td>\n",
              "      <td>3.0</td>\n",
              "    </tr>\n",
              "    <tr>\n",
              "      <th>4</th>\n",
              "      <td>54.0</td>\n",
              "      <td>1.0</td>\n",
              "      <td>3.0</td>\n",
              "      <td>150.0</td>\n",
              "      <td>NaN</td>\n",
              "      <td>0.0</td>\n",
              "      <td>0.0</td>\n",
              "      <td>122.0</td>\n",
              "      <td>0.0</td>\n",
              "      <td>0.0</td>\n",
              "      <td>NaN</td>\n",
              "      <td>NaN</td>\n",
              "      <td>NaN</td>\n",
              "      <td>0.0</td>\n",
              "    </tr>\n",
              "  </tbody>\n",
              "</table>\n",
              "</div>"
            ],
            "text/plain": [
              "     2    3    8      9      11   15   18     31   37   39   40  43  50   57\n",
              "0  40.0  1.0  2.0  140.0  289.0  0.0  0.0  172.0  0.0  0.0  NaN NaN NaN  0.0\n",
              "1  49.0  0.0  3.0  160.0  180.0  0.0  0.0  156.0  0.0  1.0  2.0 NaN NaN  1.0\n",
              "2  37.0  1.0  2.0  130.0  283.0  0.0  1.0   98.0  0.0  0.0  NaN NaN NaN  0.0\n",
              "3  48.0  0.0  4.0  138.0  214.0  0.0  0.0  108.0  1.0  1.5  2.0 NaN NaN  3.0\n",
              "4  54.0  1.0  3.0  150.0    NaN  0.0  0.0  122.0  0.0  0.0  NaN NaN NaN  0.0"
            ]
          },
          "execution_count": 16,
          "metadata": {},
          "output_type": "execute_result"
        }
      ],
      "source": [
        "df_selected.head()"
      ]
    },
    {
      "cell_type": "code",
      "execution_count": 17,
      "metadata": {
        "colab": {
          "base_uri": "https://localhost:8080/"
        },
        "id": "fKtvB9sC4QKo",
        "outputId": "0b8195e3-37bb-468e-ff09-7df6a5cdb275"
      },
      "outputs": [
        {
          "name": "stdout",
          "output_type": "stream",
          "text": [
            "<class 'pandas.core.frame.DataFrame'>\n",
            "RangeIndex: 294 entries, 0 to 293\n",
            "Data columns (total 14 columns):\n",
            " #   Column  Non-Null Count  Dtype  \n",
            "---  ------  --------------  -----  \n",
            " 0   2       294 non-null    float64\n",
            " 1   3       294 non-null    float64\n",
            " 2   8       294 non-null    float64\n",
            " 3   9       293 non-null    float64\n",
            " 4   11      271 non-null    float64\n",
            " 5   15      286 non-null    float64\n",
            " 6   18      293 non-null    float64\n",
            " 7   31      293 non-null    float64\n",
            " 8   37      293 non-null    float64\n",
            " 9   39      294 non-null    float64\n",
            " 10  40      104 non-null    float64\n",
            " 11  43      4 non-null      float64\n",
            " 12  50      28 non-null     float64\n",
            " 13  57      294 non-null    float64\n",
            "dtypes: float64(14)\n",
            "memory usage: 32.3 KB\n"
          ]
        }
      ],
      "source": [
        "df_selected.info()"
      ]
    },
    {
      "cell_type": "markdown",
      "metadata": {
        "id": "M7E9jWNAzAvo"
      },
      "source": [
        "Mengganti nama kolom sesuai dengan 14 nama kolom yang ada pada deskripsi data set"
      ]
    },
    {
      "cell_type": "code",
      "execution_count": 18,
      "metadata": {
        "colab": {
          "base_uri": "https://localhost:8080/"
        },
        "id": "CDdtkX4q4a_A",
        "outputId": "9022247d-1994-47fd-f6d2-74dcdf22d699"
      },
      "outputs": [
        {
          "name": "stderr",
          "output_type": "stream",
          "text": [
            "C:\\Users\\habib\\AppData\\Local\\Temp\\ipykernel_82172\\1055719507.py:18: SettingWithCopyWarning: \n",
            "A value is trying to be set on a copy of a slice from a DataFrame\n",
            "\n",
            "See the caveats in the documentation: https://pandas.pydata.org/pandas-docs/stable/user_guide/indexing.html#returning-a-view-versus-a-copy\n",
            "  df_selected.rename(columns=column_mapping, inplace=True)\n"
          ]
        }
      ],
      "source": [
        "column_mapping = {\n",
        "    2:'age',\n",
        "    3:'sex',\n",
        "    8:'cp',\n",
        "    9:'trestbps',\n",
        "    11:'chol',\n",
        "    15:'fbs',\n",
        "    18:'restecg',\n",
        "    31:'thalach',\n",
        "    37:'exang',\n",
        "    39:'oldpeak',\n",
        "    40:'slope',\n",
        "    43:'ca',\n",
        "    50:'thal',\n",
        "    57:'target',\n",
        "}\n",
        "\n",
        "df_selected.rename(columns=column_mapping, inplace=True)"
      ]
    },
    {
      "cell_type": "code",
      "execution_count": 19,
      "metadata": {
        "colab": {
          "base_uri": "https://localhost:8080/"
        },
        "id": "x69zEWSKNSx4",
        "outputId": "ff3a13d2-ddd2-403f-e6bf-29166f9fd85c"
      },
      "outputs": [
        {
          "name": "stdout",
          "output_type": "stream",
          "text": [
            "<class 'pandas.core.frame.DataFrame'>\n",
            "RangeIndex: 294 entries, 0 to 293\n",
            "Data columns (total 14 columns):\n",
            " #   Column    Non-Null Count  Dtype  \n",
            "---  ------    --------------  -----  \n",
            " 0   age       294 non-null    float64\n",
            " 1   sex       294 non-null    float64\n",
            " 2   cp        294 non-null    float64\n",
            " 3   trestbps  293 non-null    float64\n",
            " 4   chol      271 non-null    float64\n",
            " 5   fbs       286 non-null    float64\n",
            " 6   restecg   293 non-null    float64\n",
            " 7   thalach   293 non-null    float64\n",
            " 8   exang     293 non-null    float64\n",
            " 9   oldpeak   294 non-null    float64\n",
            " 10  slope     104 non-null    float64\n",
            " 11  ca        4 non-null      float64\n",
            " 12  thal      28 non-null     float64\n",
            " 13  target    294 non-null    float64\n",
            "dtypes: float64(14)\n",
            "memory usage: 32.3 KB\n"
          ]
        }
      ],
      "source": [
        "df_selected.info()"
      ]
    },
    {
      "cell_type": "markdown",
      "metadata": {
        "id": "ZM14LmDd2gf5"
      },
      "source": [
        "Menghitung jumlah fitur pada dataset"
      ]
    },
    {
      "cell_type": "code",
      "execution_count": 20,
      "metadata": {
        "colab": {
          "base_uri": "https://localhost:8080/"
        },
        "id": "iYKRMt842b_o",
        "outputId": "f0cd8b70-08ff-44c6-80b8-a895edcf6df0"
      },
      "outputs": [
        {
          "data": {
            "text/plain": [
              "age   sex  cp   trestbps  chol   fbs  restecg  thalach  exang  oldpeak  slope  ca   thal  target\n",
              "47.0  1.0  4.0  150.0     226.0  0.0  0.0      98.0     1.0    1.5      2.0    0.0  7.0   1.0       1\n",
              "Name: count, dtype: int64"
            ]
          },
          "execution_count": 20,
          "metadata": {},
          "output_type": "execute_result"
        }
      ],
      "source": [
        "df_selected.value_counts()"
      ]
    },
    {
      "cell_type": "markdown",
      "metadata": {
        "id": "a5G5qj3O25dx"
      },
      "source": [
        "5. Membersihkan data\n",
        "Sebelum melakukan pemodelan dilakukan pembersihan data agar model yang dihasilkan lebih akurat\n",
        "\n",
        "Menghitung jumlah null values yang ada didalam kolom\n"
      ]
    },
    {
      "cell_type": "code",
      "execution_count": 21,
      "metadata": {
        "colab": {
          "base_uri": "https://localhost:8080/"
        },
        "id": "1aPzhcmh3SH4",
        "outputId": "85ea722f-6804-4279-ee3a-2ee5131313bb"
      },
      "outputs": [
        {
          "data": {
            "text/plain": [
              "age           0\n",
              "sex           0\n",
              "cp            0\n",
              "trestbps      1\n",
              "chol         23\n",
              "fbs           8\n",
              "restecg       1\n",
              "thalach       1\n",
              "exang         1\n",
              "oldpeak       0\n",
              "slope       190\n",
              "ca          290\n",
              "thal        266\n",
              "target        0\n",
              "dtype: int64"
            ]
          },
          "execution_count": 21,
          "metadata": {},
          "output_type": "execute_result"
        }
      ],
      "source": [
        "df_selected.isnull().sum()"
      ]
    },
    {
      "cell_type": "markdown",
      "metadata": {
        "id": "X2iFELhu3g3d"
      },
      "source": [
        "Berdasarkan output kode program diatas ada beberapa fitur yang hampir 90% datanya memiliki nilai null sehingga perlu dilakukan penghapusan fitur menggunakan fungsi drop"
      ]
    },
    {
      "cell_type": "code",
      "execution_count": 22,
      "metadata": {
        "colab": {
          "base_uri": "https://localhost:8080/"
        },
        "id": "T93ZZ7rG4DgN",
        "outputId": "2fd6be02-4ef7-42de-baa4-fa2d026ae0e8"
      },
      "outputs": [
        {
          "data": {
            "text/plain": [
              "age          0\n",
              "sex          0\n",
              "cp           0\n",
              "trestbps     1\n",
              "chol        23\n",
              "fbs          8\n",
              "restecg      1\n",
              "thalach      1\n",
              "exang        1\n",
              "oldpeak      0\n",
              "target       0\n",
              "dtype: int64"
            ]
          },
          "execution_count": 22,
          "metadata": {},
          "output_type": "execute_result"
        }
      ],
      "source": [
        "columns_to_drop = ['ca', 'slope','thal']\n",
        "df_selected = df_selected.drop(columns_to_drop, axis=1)\n",
        "\n",
        "df_selected.isnull().sum()"
      ]
    },
    {
      "cell_type": "markdown",
      "metadata": {
        "id": "0-dNq7bZ42xa"
      },
      "source": [
        "Dikarenakan masih ada nilai null dibeberapa kolom fitur makan akan dilakukan pengisian nilai null menggunakan nilai mean di setiap kolomnya"
      ]
    },
    {
      "cell_type": "code",
      "execution_count": 23,
      "metadata": {
        "id": "JRcOu-BI5IIc"
      },
      "outputs": [],
      "source": [
        "meanTBPS = df_selected['trestbps'].dropna()\n",
        "meanChol = df_selected['chol'].dropna()\n",
        "meanfbs = df_selected['fbs'].dropna()\n",
        "meanRestCG = df_selected['restecg'].dropna()\n",
        "meanthalach = df_selected['thalach'].dropna()\n",
        "meanexang = df_selected['exang'].dropna()\n",
        "\n",
        "meanTBPS = meanTBPS.astype(float)\n",
        "meanChol = meanChol.astype(float)\n",
        "meanfbs = meanfbs.astype(float)\n",
        "meanthalach = meanthalach.astype(float)\n",
        "meanexang = meanexang.astype(float)\n",
        "meanRestCG = meanRestCG.astype(float)\n",
        "\n",
        "meanTBPS = round(meanTBPS.mean())\n",
        "meanChol = round(meanChol.mean())\n",
        "meanfbs = round(meanfbs.mean())\n",
        "meanthalach = round(meanthalach.mean())\n",
        "meanexang = round(meanexang.mean())\n",
        "meanRestCG = round(meanRestCG.mean())"
      ]
    },
    {
      "cell_type": "markdown",
      "metadata": {
        "id": "Ci0Z6tx05XBK"
      },
      "source": [
        "Mengubah nilai null menjadi nilai mean yang sudah ditentukan sebelumnya"
      ]
    },
    {
      "cell_type": "code",
      "execution_count": 24,
      "metadata": {
        "colab": {
          "base_uri": "https://localhost:8080/"
        },
        "id": "Cp-9DNBv5Xw9",
        "outputId": "c0eaa631-eb56-4543-f738-f7186a8c0ea7"
      },
      "outputs": [
        {
          "name": "stdout",
          "output_type": "stream",
          "text": [
            "<class 'pandas.core.frame.DataFrame'>\n",
            "RangeIndex: 294 entries, 0 to 293\n",
            "Data columns (total 11 columns):\n",
            " #   Column    Non-Null Count  Dtype  \n",
            "---  ------    --------------  -----  \n",
            " 0   age       294 non-null    float64\n",
            " 1   sex       294 non-null    float64\n",
            " 2   cp        294 non-null    float64\n",
            " 3   trestbps  294 non-null    float64\n",
            " 4   chol      294 non-null    float64\n",
            " 5   fbs       294 non-null    float64\n",
            " 6   restecg   294 non-null    float64\n",
            " 7   thalach   294 non-null    float64\n",
            " 8   exang     294 non-null    float64\n",
            " 9   oldpeak   294 non-null    float64\n",
            " 10  target    294 non-null    float64\n",
            "dtypes: float64(11)\n",
            "memory usage: 25.4 KB\n"
          ]
        }
      ],
      "source": [
        "fill_values = {'trestbps': meanTBPS, 'chol': meanChol, 'fbs': meanfbs,\n",
        "               'thalach':meanthalach,'exang':meanexang,'restecg':meanRestCG}\n",
        "dfClean = df_selected.fillna(value=fill_values)\n",
        "\n",
        "dfClean.info()"
      ]
    },
    {
      "cell_type": "code",
      "execution_count": 25,
      "metadata": {
        "colab": {
          "base_uri": "https://localhost:8080/"
        },
        "id": "jgF-2JQ15ig8",
        "outputId": "d8826826-2372-4ed2-9515-871e0729f095"
      },
      "outputs": [
        {
          "data": {
            "text/plain": [
              "age         0\n",
              "sex         0\n",
              "cp          0\n",
              "trestbps    0\n",
              "chol        0\n",
              "fbs         0\n",
              "restecg     0\n",
              "thalach     0\n",
              "exang       0\n",
              "oldpeak     0\n",
              "target      0\n",
              "dtype: int64"
            ]
          },
          "execution_count": 25,
          "metadata": {},
          "output_type": "execute_result"
        }
      ],
      "source": [
        "dfClean.isnull().sum()"
      ]
    },
    {
      "cell_type": "markdown",
      "metadata": {
        "id": "AVVdR7qf5ns6"
      },
      "source": [
        "Melalukan pengecekan terhadap duplikaksi data"
      ]
    },
    {
      "cell_type": "code",
      "execution_count": 26,
      "metadata": {
        "colab": {
          "base_uri": "https://localhost:8080/",
          "height": 81
        },
        "id": "DTNq0YNF5okC",
        "outputId": "c690f112-9107-4320-b169-52e7b199ab0e"
      },
      "outputs": [
        {
          "data": {
            "text/html": [
              "<div>\n",
              "<style scoped>\n",
              "    .dataframe tbody tr th:only-of-type {\n",
              "        vertical-align: middle;\n",
              "    }\n",
              "\n",
              "    .dataframe tbody tr th {\n",
              "        vertical-align: top;\n",
              "    }\n",
              "\n",
              "    .dataframe thead th {\n",
              "        text-align: right;\n",
              "    }\n",
              "</style>\n",
              "<table border=\"1\" class=\"dataframe\">\n",
              "  <thead>\n",
              "    <tr style=\"text-align: right;\">\n",
              "      <th></th>\n",
              "      <th>age</th>\n",
              "      <th>sex</th>\n",
              "      <th>cp</th>\n",
              "      <th>trestbps</th>\n",
              "      <th>chol</th>\n",
              "      <th>fbs</th>\n",
              "      <th>restecg</th>\n",
              "      <th>thalach</th>\n",
              "      <th>exang</th>\n",
              "      <th>oldpeak</th>\n",
              "      <th>target</th>\n",
              "    </tr>\n",
              "  </thead>\n",
              "  <tbody>\n",
              "    <tr>\n",
              "      <th>163</th>\n",
              "      <td>49.0</td>\n",
              "      <td>0.0</td>\n",
              "      <td>2.0</td>\n",
              "      <td>110.0</td>\n",
              "      <td>251.0</td>\n",
              "      <td>0.0</td>\n",
              "      <td>0.0</td>\n",
              "      <td>160.0</td>\n",
              "      <td>0.0</td>\n",
              "      <td>0.0</td>\n",
              "      <td>0.0</td>\n",
              "    </tr>\n",
              "  </tbody>\n",
              "</table>\n",
              "</div>"
            ],
            "text/plain": [
              "      age  sex   cp  trestbps   chol  fbs  restecg  thalach  exang  oldpeak  \\\n",
              "163  49.0  0.0  2.0     110.0  251.0  0.0      0.0    160.0    0.0      0.0   \n",
              "\n",
              "     target  \n",
              "163     0.0  "
            ]
          },
          "execution_count": 26,
          "metadata": {},
          "output_type": "execute_result"
        }
      ],
      "source": [
        "duplicate_rows = dfClean.duplicated()\n",
        "dfClean[duplicate_rows]"
      ]
    },
    {
      "cell_type": "code",
      "execution_count": 27,
      "metadata": {
        "colab": {
          "base_uri": "https://localhost:8080/",
          "height": 129
        },
        "id": "AjZGSbgV5rXd",
        "outputId": "fbd1ed0e-e19e-4a18-a492-870702c22c85"
      },
      "outputs": [
        {
          "name": "stdout",
          "output_type": "stream",
          "text": [
            "All Duplicate Rows:\n"
          ]
        },
        {
          "data": {
            "text/html": [
              "<div>\n",
              "<style scoped>\n",
              "    .dataframe tbody tr th:only-of-type {\n",
              "        vertical-align: middle;\n",
              "    }\n",
              "\n",
              "    .dataframe tbody tr th {\n",
              "        vertical-align: top;\n",
              "    }\n",
              "\n",
              "    .dataframe thead th {\n",
              "        text-align: right;\n",
              "    }\n",
              "</style>\n",
              "<table border=\"1\" class=\"dataframe\">\n",
              "  <thead>\n",
              "    <tr style=\"text-align: right;\">\n",
              "      <th></th>\n",
              "      <th>age</th>\n",
              "      <th>sex</th>\n",
              "      <th>cp</th>\n",
              "      <th>trestbps</th>\n",
              "      <th>chol</th>\n",
              "      <th>fbs</th>\n",
              "      <th>restecg</th>\n",
              "      <th>thalach</th>\n",
              "      <th>exang</th>\n",
              "      <th>oldpeak</th>\n",
              "      <th>target</th>\n",
              "    </tr>\n",
              "  </thead>\n",
              "  <tbody>\n",
              "    <tr>\n",
              "      <th>90</th>\n",
              "      <td>49.0</td>\n",
              "      <td>0.0</td>\n",
              "      <td>2.0</td>\n",
              "      <td>110.0</td>\n",
              "      <td>251.0</td>\n",
              "      <td>0.0</td>\n",
              "      <td>0.0</td>\n",
              "      <td>160.0</td>\n",
              "      <td>0.0</td>\n",
              "      <td>0.0</td>\n",
              "      <td>0.0</td>\n",
              "    </tr>\n",
              "    <tr>\n",
              "      <th>163</th>\n",
              "      <td>49.0</td>\n",
              "      <td>0.0</td>\n",
              "      <td>2.0</td>\n",
              "      <td>110.0</td>\n",
              "      <td>251.0</td>\n",
              "      <td>0.0</td>\n",
              "      <td>0.0</td>\n",
              "      <td>160.0</td>\n",
              "      <td>0.0</td>\n",
              "      <td>0.0</td>\n",
              "      <td>0.0</td>\n",
              "    </tr>\n",
              "  </tbody>\n",
              "</table>\n",
              "</div>"
            ],
            "text/plain": [
              "      age  sex   cp  trestbps   chol  fbs  restecg  thalach  exang  oldpeak  \\\n",
              "90   49.0  0.0  2.0     110.0  251.0  0.0      0.0    160.0    0.0      0.0   \n",
              "163  49.0  0.0  2.0     110.0  251.0  0.0      0.0    160.0    0.0      0.0   \n",
              "\n",
              "     target  \n",
              "90      0.0  \n",
              "163     0.0  "
            ]
          },
          "execution_count": 27,
          "metadata": {},
          "output_type": "execute_result"
        }
      ],
      "source": [
        "print(\"All Duplicate Rows:\")\n",
        "dfClean[dfClean.duplicated(keep=False)]"
      ]
    },
    {
      "cell_type": "markdown",
      "metadata": {
        "id": "psPbXXNo5yhf"
      },
      "source": []
    },
    {
      "cell_type": "markdown",
      "metadata": {
        "id": "ImpdwtDV5yGC"
      },
      "source": [
        "Menghapus data yang memiliki duplikat"
      ]
    },
    {
      "cell_type": "code",
      "execution_count": 28,
      "metadata": {
        "colab": {
          "base_uri": "https://localhost:8080/",
          "height": 70
        },
        "id": "nhu2fZ445uvD",
        "outputId": "e8784570-070a-4c7b-f817-da7ac8ef35b7"
      },
      "outputs": [
        {
          "name": "stdout",
          "output_type": "stream",
          "text": [
            "All Duplicate Rows:\n"
          ]
        },
        {
          "data": {
            "text/html": [
              "<div>\n",
              "<style scoped>\n",
              "    .dataframe tbody tr th:only-of-type {\n",
              "        vertical-align: middle;\n",
              "    }\n",
              "\n",
              "    .dataframe tbody tr th {\n",
              "        vertical-align: top;\n",
              "    }\n",
              "\n",
              "    .dataframe thead th {\n",
              "        text-align: right;\n",
              "    }\n",
              "</style>\n",
              "<table border=\"1\" class=\"dataframe\">\n",
              "  <thead>\n",
              "    <tr style=\"text-align: right;\">\n",
              "      <th></th>\n",
              "      <th>age</th>\n",
              "      <th>sex</th>\n",
              "      <th>cp</th>\n",
              "      <th>trestbps</th>\n",
              "      <th>chol</th>\n",
              "      <th>fbs</th>\n",
              "      <th>restecg</th>\n",
              "      <th>thalach</th>\n",
              "      <th>exang</th>\n",
              "      <th>oldpeak</th>\n",
              "      <th>target</th>\n",
              "    </tr>\n",
              "  </thead>\n",
              "  <tbody>\n",
              "  </tbody>\n",
              "</table>\n",
              "</div>"
            ],
            "text/plain": [
              "Empty DataFrame\n",
              "Columns: [age, sex, cp, trestbps, chol, fbs, restecg, thalach, exang, oldpeak, target]\n",
              "Index: []"
            ]
          },
          "execution_count": 28,
          "metadata": {},
          "output_type": "execute_result"
        }
      ],
      "source": [
        "dfClean = dfClean.drop_duplicates()\n",
        "print(\"All Duplicate Rows:\")\n",
        "dfClean[dfClean.duplicated(keep=False)]"
      ]
    },
    {
      "cell_type": "code",
      "execution_count": 29,
      "metadata": {
        "colab": {
          "base_uri": "https://localhost:8080/",
          "height": 206
        },
        "id": "LhgWoKuJ59dr",
        "outputId": "5ce45abb-87cb-4a3f-a365-21de7510adc3"
      },
      "outputs": [
        {
          "data": {
            "text/html": [
              "<div>\n",
              "<style scoped>\n",
              "    .dataframe tbody tr th:only-of-type {\n",
              "        vertical-align: middle;\n",
              "    }\n",
              "\n",
              "    .dataframe tbody tr th {\n",
              "        vertical-align: top;\n",
              "    }\n",
              "\n",
              "    .dataframe thead th {\n",
              "        text-align: right;\n",
              "    }\n",
              "</style>\n",
              "<table border=\"1\" class=\"dataframe\">\n",
              "  <thead>\n",
              "    <tr style=\"text-align: right;\">\n",
              "      <th></th>\n",
              "      <th>age</th>\n",
              "      <th>sex</th>\n",
              "      <th>cp</th>\n",
              "      <th>trestbps</th>\n",
              "      <th>chol</th>\n",
              "      <th>fbs</th>\n",
              "      <th>restecg</th>\n",
              "      <th>thalach</th>\n",
              "      <th>exang</th>\n",
              "      <th>oldpeak</th>\n",
              "      <th>target</th>\n",
              "    </tr>\n",
              "  </thead>\n",
              "  <tbody>\n",
              "    <tr>\n",
              "      <th>0</th>\n",
              "      <td>40.0</td>\n",
              "      <td>1.0</td>\n",
              "      <td>2.0</td>\n",
              "      <td>140.0</td>\n",
              "      <td>289.0</td>\n",
              "      <td>0.0</td>\n",
              "      <td>0.0</td>\n",
              "      <td>172.0</td>\n",
              "      <td>0.0</td>\n",
              "      <td>0.0</td>\n",
              "      <td>0.0</td>\n",
              "    </tr>\n",
              "    <tr>\n",
              "      <th>1</th>\n",
              "      <td>49.0</td>\n",
              "      <td>0.0</td>\n",
              "      <td>3.0</td>\n",
              "      <td>160.0</td>\n",
              "      <td>180.0</td>\n",
              "      <td>0.0</td>\n",
              "      <td>0.0</td>\n",
              "      <td>156.0</td>\n",
              "      <td>0.0</td>\n",
              "      <td>1.0</td>\n",
              "      <td>1.0</td>\n",
              "    </tr>\n",
              "    <tr>\n",
              "      <th>2</th>\n",
              "      <td>37.0</td>\n",
              "      <td>1.0</td>\n",
              "      <td>2.0</td>\n",
              "      <td>130.0</td>\n",
              "      <td>283.0</td>\n",
              "      <td>0.0</td>\n",
              "      <td>1.0</td>\n",
              "      <td>98.0</td>\n",
              "      <td>0.0</td>\n",
              "      <td>0.0</td>\n",
              "      <td>0.0</td>\n",
              "    </tr>\n",
              "    <tr>\n",
              "      <th>3</th>\n",
              "      <td>48.0</td>\n",
              "      <td>0.0</td>\n",
              "      <td>4.0</td>\n",
              "      <td>138.0</td>\n",
              "      <td>214.0</td>\n",
              "      <td>0.0</td>\n",
              "      <td>0.0</td>\n",
              "      <td>108.0</td>\n",
              "      <td>1.0</td>\n",
              "      <td>1.5</td>\n",
              "      <td>3.0</td>\n",
              "    </tr>\n",
              "    <tr>\n",
              "      <th>4</th>\n",
              "      <td>54.0</td>\n",
              "      <td>1.0</td>\n",
              "      <td>3.0</td>\n",
              "      <td>150.0</td>\n",
              "      <td>251.0</td>\n",
              "      <td>0.0</td>\n",
              "      <td>0.0</td>\n",
              "      <td>122.0</td>\n",
              "      <td>0.0</td>\n",
              "      <td>0.0</td>\n",
              "      <td>0.0</td>\n",
              "    </tr>\n",
              "  </tbody>\n",
              "</table>\n",
              "</div>"
            ],
            "text/plain": [
              "    age  sex   cp  trestbps   chol  fbs  restecg  thalach  exang  oldpeak  \\\n",
              "0  40.0  1.0  2.0     140.0  289.0  0.0      0.0    172.0    0.0      0.0   \n",
              "1  49.0  0.0  3.0     160.0  180.0  0.0      0.0    156.0    0.0      1.0   \n",
              "2  37.0  1.0  2.0     130.0  283.0  0.0      1.0     98.0    0.0      0.0   \n",
              "3  48.0  0.0  4.0     138.0  214.0  0.0      0.0    108.0    1.0      1.5   \n",
              "4  54.0  1.0  3.0     150.0  251.0  0.0      0.0    122.0    0.0      0.0   \n",
              "\n",
              "   target  \n",
              "0     0.0  \n",
              "1     1.0  \n",
              "2     0.0  \n",
              "3     3.0  \n",
              "4     0.0  "
            ]
          },
          "execution_count": 29,
          "metadata": {},
          "output_type": "execute_result"
        }
      ],
      "source": [
        "dfClean.head()"
      ]
    },
    {
      "cell_type": "code",
      "execution_count": 30,
      "metadata": {
        "colab": {
          "base_uri": "https://localhost:8080/"
        },
        "id": "UiGonlCR6IGu",
        "outputId": "a7b85c66-9a97-4644-fd5b-c24745404672"
      },
      "outputs": [
        {
          "data": {
            "text/plain": [
              "target\n",
              "0.0    187\n",
              "1.0     37\n",
              "3.0     28\n",
              "2.0     26\n",
              "4.0     15\n",
              "Name: count, dtype: int64"
            ]
          },
          "execution_count": 30,
          "metadata": {},
          "output_type": "execute_result"
        }
      ],
      "source": [
        "dfClean['target'].value_counts()"
      ]
    },
    {
      "cell_type": "code",
      "execution_count": 31,
      "metadata": {
        "id": "2UAMu_4q6Jg-"
      },
      "outputs": [],
      "source": [
        "import seaborn as sns\n",
        "import matplotlib.pyplot as plt"
      ]
    },
    {
      "cell_type": "markdown",
      "metadata": {
        "id": "LzS3RmgK6Qnl"
      },
      "source": [
        "Mencari korelasi antar fitur"
      ]
    },
    {
      "cell_type": "code",
      "execution_count": 32,
      "metadata": {
        "colab": {
          "base_uri": "https://localhost:8080/",
          "height": 394
        },
        "id": "UEI39S9Q6Rfu",
        "outputId": "19ce66f0-7f62-4bfc-e583-3e4188af6e92"
      },
      "outputs": [
        {
          "data": {
            "text/html": [
              "<div>\n",
              "<style scoped>\n",
              "    .dataframe tbody tr th:only-of-type {\n",
              "        vertical-align: middle;\n",
              "    }\n",
              "\n",
              "    .dataframe tbody tr th {\n",
              "        vertical-align: top;\n",
              "    }\n",
              "\n",
              "    .dataframe thead th {\n",
              "        text-align: right;\n",
              "    }\n",
              "</style>\n",
              "<table border=\"1\" class=\"dataframe\">\n",
              "  <thead>\n",
              "    <tr style=\"text-align: right;\">\n",
              "      <th></th>\n",
              "      <th>age</th>\n",
              "      <th>sex</th>\n",
              "      <th>cp</th>\n",
              "      <th>trestbps</th>\n",
              "      <th>chol</th>\n",
              "      <th>fbs</th>\n",
              "      <th>restecg</th>\n",
              "      <th>thalach</th>\n",
              "      <th>exang</th>\n",
              "      <th>oldpeak</th>\n",
              "      <th>target</th>\n",
              "    </tr>\n",
              "  </thead>\n",
              "  <tbody>\n",
              "    <tr>\n",
              "      <th>age</th>\n",
              "      <td>1.000000</td>\n",
              "      <td>0.014516</td>\n",
              "      <td>0.146616</td>\n",
              "      <td>0.246571</td>\n",
              "      <td>0.087101</td>\n",
              "      <td>0.181130</td>\n",
              "      <td>0.050672</td>\n",
              "      <td>-0.460514</td>\n",
              "      <td>0.239223</td>\n",
              "      <td>0.178172</td>\n",
              "      <td>0.210429</td>\n",
              "    </tr>\n",
              "    <tr>\n",
              "      <th>sex</th>\n",
              "      <td>0.014516</td>\n",
              "      <td>1.000000</td>\n",
              "      <td>0.245769</td>\n",
              "      <td>0.082064</td>\n",
              "      <td>0.027695</td>\n",
              "      <td>0.044372</td>\n",
              "      <td>-0.108656</td>\n",
              "      <td>-0.106959</td>\n",
              "      <td>0.154925</td>\n",
              "      <td>0.115959</td>\n",
              "      <td>0.220732</td>\n",
              "    </tr>\n",
              "    <tr>\n",
              "      <th>cp</th>\n",
              "      <td>0.146616</td>\n",
              "      <td>0.245769</td>\n",
              "      <td>1.000000</td>\n",
              "      <td>0.081293</td>\n",
              "      <td>0.134697</td>\n",
              "      <td>0.031930</td>\n",
              "      <td>-0.016372</td>\n",
              "      <td>-0.367819</td>\n",
              "      <td>0.494674</td>\n",
              "      <td>0.351735</td>\n",
              "      <td>0.427536</td>\n",
              "    </tr>\n",
              "    <tr>\n",
              "      <th>trestbps</th>\n",
              "      <td>0.246571</td>\n",
              "      <td>0.082064</td>\n",
              "      <td>0.081293</td>\n",
              "      <td>1.000000</td>\n",
              "      <td>0.080818</td>\n",
              "      <td>0.096222</td>\n",
              "      <td>0.011256</td>\n",
              "      <td>-0.181824</td>\n",
              "      <td>0.211507</td>\n",
              "      <td>0.204000</td>\n",
              "      <td>0.214898</td>\n",
              "    </tr>\n",
              "    <tr>\n",
              "      <th>chol</th>\n",
              "      <td>0.087101</td>\n",
              "      <td>0.027695</td>\n",
              "      <td>0.134697</td>\n",
              "      <td>0.080818</td>\n",
              "      <td>1.000000</td>\n",
              "      <td>0.107686</td>\n",
              "      <td>0.048081</td>\n",
              "      <td>-0.122038</td>\n",
              "      <td>0.161055</td>\n",
              "      <td>0.106743</td>\n",
              "      <td>0.256027</td>\n",
              "    </tr>\n",
              "    <tr>\n",
              "      <th>fbs</th>\n",
              "      <td>0.181130</td>\n",
              "      <td>0.044372</td>\n",
              "      <td>0.031930</td>\n",
              "      <td>0.096222</td>\n",
              "      <td>0.107686</td>\n",
              "      <td>1.000000</td>\n",
              "      <td>0.047988</td>\n",
              "      <td>-0.069722</td>\n",
              "      <td>0.115503</td>\n",
              "      <td>0.063179</td>\n",
              "      <td>0.154319</td>\n",
              "    </tr>\n",
              "    <tr>\n",
              "      <th>restecg</th>\n",
              "      <td>0.050672</td>\n",
              "      <td>-0.108656</td>\n",
              "      <td>-0.016372</td>\n",
              "      <td>0.011256</td>\n",
              "      <td>0.048081</td>\n",
              "      <td>0.047988</td>\n",
              "      <td>1.000000</td>\n",
              "      <td>0.006084</td>\n",
              "      <td>0.041290</td>\n",
              "      <td>0.042193</td>\n",
              "      <td>0.042643</td>\n",
              "    </tr>\n",
              "    <tr>\n",
              "      <th>thalach</th>\n",
              "      <td>-0.460514</td>\n",
              "      <td>-0.106959</td>\n",
              "      <td>-0.367819</td>\n",
              "      <td>-0.181824</td>\n",
              "      <td>-0.122038</td>\n",
              "      <td>-0.069722</td>\n",
              "      <td>0.006084</td>\n",
              "      <td>1.000000</td>\n",
              "      <td>-0.400508</td>\n",
              "      <td>-0.300458</td>\n",
              "      <td>-0.367525</td>\n",
              "    </tr>\n",
              "    <tr>\n",
              "      <th>exang</th>\n",
              "      <td>0.239223</td>\n",
              "      <td>0.154925</td>\n",
              "      <td>0.494674</td>\n",
              "      <td>0.211507</td>\n",
              "      <td>0.161055</td>\n",
              "      <td>0.115503</td>\n",
              "      <td>0.041290</td>\n",
              "      <td>-0.400508</td>\n",
              "      <td>1.000000</td>\n",
              "      <td>0.624965</td>\n",
              "      <td>0.571710</td>\n",
              "    </tr>\n",
              "    <tr>\n",
              "      <th>oldpeak</th>\n",
              "      <td>0.178172</td>\n",
              "      <td>0.115959</td>\n",
              "      <td>0.351735</td>\n",
              "      <td>0.204000</td>\n",
              "      <td>0.106743</td>\n",
              "      <td>0.063179</td>\n",
              "      <td>0.042193</td>\n",
              "      <td>-0.300458</td>\n",
              "      <td>0.624965</td>\n",
              "      <td>1.000000</td>\n",
              "      <td>0.580732</td>\n",
              "    </tr>\n",
              "    <tr>\n",
              "      <th>target</th>\n",
              "      <td>0.210429</td>\n",
              "      <td>0.220732</td>\n",
              "      <td>0.427536</td>\n",
              "      <td>0.214898</td>\n",
              "      <td>0.256027</td>\n",
              "      <td>0.154319</td>\n",
              "      <td>0.042643</td>\n",
              "      <td>-0.367525</td>\n",
              "      <td>0.571710</td>\n",
              "      <td>0.580732</td>\n",
              "      <td>1.000000</td>\n",
              "    </tr>\n",
              "  </tbody>\n",
              "</table>\n",
              "</div>"
            ],
            "text/plain": [
              "               age       sex        cp  trestbps      chol       fbs  \\\n",
              "age       1.000000  0.014516  0.146616  0.246571  0.087101  0.181130   \n",
              "sex       0.014516  1.000000  0.245769  0.082064  0.027695  0.044372   \n",
              "cp        0.146616  0.245769  1.000000  0.081293  0.134697  0.031930   \n",
              "trestbps  0.246571  0.082064  0.081293  1.000000  0.080818  0.096222   \n",
              "chol      0.087101  0.027695  0.134697  0.080818  1.000000  0.107686   \n",
              "fbs       0.181130  0.044372  0.031930  0.096222  0.107686  1.000000   \n",
              "restecg   0.050672 -0.108656 -0.016372  0.011256  0.048081  0.047988   \n",
              "thalach  -0.460514 -0.106959 -0.367819 -0.181824 -0.122038 -0.069722   \n",
              "exang     0.239223  0.154925  0.494674  0.211507  0.161055  0.115503   \n",
              "oldpeak   0.178172  0.115959  0.351735  0.204000  0.106743  0.063179   \n",
              "target    0.210429  0.220732  0.427536  0.214898  0.256027  0.154319   \n",
              "\n",
              "           restecg   thalach     exang   oldpeak    target  \n",
              "age       0.050672 -0.460514  0.239223  0.178172  0.210429  \n",
              "sex      -0.108656 -0.106959  0.154925  0.115959  0.220732  \n",
              "cp       -0.016372 -0.367819  0.494674  0.351735  0.427536  \n",
              "trestbps  0.011256 -0.181824  0.211507  0.204000  0.214898  \n",
              "chol      0.048081 -0.122038  0.161055  0.106743  0.256027  \n",
              "fbs       0.047988 -0.069722  0.115503  0.063179  0.154319  \n",
              "restecg   1.000000  0.006084  0.041290  0.042193  0.042643  \n",
              "thalach   0.006084  1.000000 -0.400508 -0.300458 -0.367525  \n",
              "exang     0.041290 -0.400508  1.000000  0.624965  0.571710  \n",
              "oldpeak   0.042193 -0.300458  0.624965  1.000000  0.580732  \n",
              "target    0.042643 -0.367525  0.571710  0.580732  1.000000  "
            ]
          },
          "execution_count": 32,
          "metadata": {},
          "output_type": "execute_result"
        }
      ],
      "source": [
        "dfClean.corr()"
      ]
    },
    {
      "cell_type": "markdown",
      "metadata": {
        "id": "jfY3MqTr6QO1"
      },
      "source": []
    },
    {
      "cell_type": "code",
      "execution_count": 33,
      "metadata": {
        "colab": {
          "base_uri": "https://localhost:8080/",
          "height": 852
        },
        "id": "1-IANjOc6URF",
        "outputId": "4126a294-c788-4e3a-8542-214157daead4"
      },
      "outputs": [
        {
          "data": {
            "text/plain": [
              "<Axes: >"
            ]
          },
          "execution_count": 33,
          "metadata": {},
          "output_type": "execute_result"
        },
        {
          "data": {
            "image/png": "[encoded data removed]",
            "text/plain": [
              "<Figure size 1500x1000 with 2 Axes>"
            ]
          },
          "metadata": {},
          "output_type": "display_data"
        }
      ],
      "source": [
        "cor_mat=dfClean.corr()\n",
        "fig,ax=plt.subplots(figsize=(15,10))\n",
        "sns.heatmap(cor_mat,annot=True,linewidths=0.5,fmt=\".3f\")"
      ]
    },
    {
      "cell_type": "markdown",
      "metadata": {
        "id": "UZbaLjWh1q_s"
      },
      "source": [
        "6. Kontruksi Data\n",
        "Dalam tahap ini Kontruksi data salah satu tujuanya yaitu untuk menyesuaikan semua tipe data yang ada didalam dataset. Namun pada tahap ini dataset sudah memiliki tipe data yang sesuai sehingga tidak perlu dilakukan penyesuaian kembali"
      ]
    },
    {
      "cell_type": "code",
      "execution_count": 34,
      "metadata": {
        "colab": {
          "base_uri": "https://localhost:8080/"
        },
        "id": "IGvURWiE4wUE",
        "outputId": "ae9686b3-7fd1-4e1b-b8d0-a2e3a915140c"
      },
      "outputs": [
        {
          "name": "stdout",
          "output_type": "stream",
          "text": [
            "<class 'pandas.core.frame.DataFrame'>\n",
            "Index: 293 entries, 0 to 293\n",
            "Data columns (total 11 columns):\n",
            " #   Column    Non-Null Count  Dtype  \n",
            "---  ------    --------------  -----  \n",
            " 0   age       293 non-null    float64\n",
            " 1   sex       293 non-null    float64\n",
            " 2   cp        293 non-null    float64\n",
            " 3   trestbps  293 non-null    float64\n",
            " 4   chol      293 non-null    float64\n",
            " 5   fbs       293 non-null    float64\n",
            " 6   restecg   293 non-null    float64\n",
            " 7   thalach   293 non-null    float64\n",
            " 8   exang     293 non-null    float64\n",
            " 9   oldpeak   293 non-null    float64\n",
            " 10  target    293 non-null    float64\n",
            "dtypes: float64(11)\n",
            "memory usage: 27.5 KB\n"
          ]
        }
      ],
      "source": [
        "dfClean.info()"
      ]
    },
    {
      "cell_type": "code",
      "execution_count": 35,
      "metadata": {
        "colab": {
          "base_uri": "https://localhost:8080/",
          "height": 206
        },
        "id": "cld-WheS5Azv",
        "outputId": "602285a7-7159-4e95-c6c5-2887fdf9a3c3"
      },
      "outputs": [
        {
          "data": {
            "text/html": [
              "<div>\n",
              "<style scoped>\n",
              "    .dataframe tbody tr th:only-of-type {\n",
              "        vertical-align: middle;\n",
              "    }\n",
              "\n",
              "    .dataframe tbody tr th {\n",
              "        vertical-align: top;\n",
              "    }\n",
              "\n",
              "    .dataframe thead th {\n",
              "        text-align: right;\n",
              "    }\n",
              "</style>\n",
              "<table border=\"1\" class=\"dataframe\">\n",
              "  <thead>\n",
              "    <tr style=\"text-align: right;\">\n",
              "      <th></th>\n",
              "      <th>age</th>\n",
              "      <th>sex</th>\n",
              "      <th>cp</th>\n",
              "      <th>trestbps</th>\n",
              "      <th>chol</th>\n",
              "      <th>fbs</th>\n",
              "      <th>restecg</th>\n",
              "      <th>thalach</th>\n",
              "      <th>exang</th>\n",
              "      <th>oldpeak</th>\n",
              "      <th>target</th>\n",
              "    </tr>\n",
              "  </thead>\n",
              "  <tbody>\n",
              "    <tr>\n",
              "      <th>0</th>\n",
              "      <td>40.0</td>\n",
              "      <td>1.0</td>\n",
              "      <td>2.0</td>\n",
              "      <td>140.0</td>\n",
              "      <td>289.0</td>\n",
              "      <td>0.0</td>\n",
              "      <td>0.0</td>\n",
              "      <td>172.0</td>\n",
              "      <td>0.0</td>\n",
              "      <td>0.0</td>\n",
              "      <td>0.0</td>\n",
              "    </tr>\n",
              "    <tr>\n",
              "      <th>1</th>\n",
              "      <td>49.0</td>\n",
              "      <td>0.0</td>\n",
              "      <td>3.0</td>\n",
              "      <td>160.0</td>\n",
              "      <td>180.0</td>\n",
              "      <td>0.0</td>\n",
              "      <td>0.0</td>\n",
              "      <td>156.0</td>\n",
              "      <td>0.0</td>\n",
              "      <td>1.0</td>\n",
              "      <td>1.0</td>\n",
              "    </tr>\n",
              "    <tr>\n",
              "      <th>2</th>\n",
              "      <td>37.0</td>\n",
              "      <td>1.0</td>\n",
              "      <td>2.0</td>\n",
              "      <td>130.0</td>\n",
              "      <td>283.0</td>\n",
              "      <td>0.0</td>\n",
              "      <td>1.0</td>\n",
              "      <td>98.0</td>\n",
              "      <td>0.0</td>\n",
              "      <td>0.0</td>\n",
              "      <td>0.0</td>\n",
              "    </tr>\n",
              "    <tr>\n",
              "      <th>3</th>\n",
              "      <td>48.0</td>\n",
              "      <td>0.0</td>\n",
              "      <td>4.0</td>\n",
              "      <td>138.0</td>\n",
              "      <td>214.0</td>\n",
              "      <td>0.0</td>\n",
              "      <td>0.0</td>\n",
              "      <td>108.0</td>\n",
              "      <td>1.0</td>\n",
              "      <td>1.5</td>\n",
              "      <td>3.0</td>\n",
              "    </tr>\n",
              "    <tr>\n",
              "      <th>4</th>\n",
              "      <td>54.0</td>\n",
              "      <td>1.0</td>\n",
              "      <td>3.0</td>\n",
              "      <td>150.0</td>\n",
              "      <td>251.0</td>\n",
              "      <td>0.0</td>\n",
              "      <td>0.0</td>\n",
              "      <td>122.0</td>\n",
              "      <td>0.0</td>\n",
              "      <td>0.0</td>\n",
              "      <td>0.0</td>\n",
              "    </tr>\n",
              "  </tbody>\n",
              "</table>\n",
              "</div>"
            ],
            "text/plain": [
              "    age  sex   cp  trestbps   chol  fbs  restecg  thalach  exang  oldpeak  \\\n",
              "0  40.0  1.0  2.0     140.0  289.0  0.0      0.0    172.0    0.0      0.0   \n",
              "1  49.0  0.0  3.0     160.0  180.0  0.0      0.0    156.0    0.0      1.0   \n",
              "2  37.0  1.0  2.0     130.0  283.0  0.0      1.0     98.0    0.0      0.0   \n",
              "3  48.0  0.0  4.0     138.0  214.0  0.0      0.0    108.0    1.0      1.5   \n",
              "4  54.0  1.0  3.0     150.0  251.0  0.0      0.0    122.0    0.0      0.0   \n",
              "\n",
              "   target  \n",
              "0     0.0  \n",
              "1     1.0  \n",
              "2     0.0  \n",
              "3     3.0  \n",
              "4     0.0  "
            ]
          },
          "execution_count": 35,
          "metadata": {},
          "output_type": "execute_result"
        }
      ],
      "source": [
        "dfClean.head(5)"
      ]
    },
    {
      "cell_type": "markdown",
      "metadata": {
        "id": "kUOwmtCq5H2j"
      },
      "source": [
        "Setelah Menyesuaikan tipe dataset kita, kita harus memisahkan antara fitur dan target lalu simpan kedalam variabel"
      ]
    },
    {
      "cell_type": "code",
      "execution_count": 36,
      "metadata": {
        "id": "DGlF2KeN5YfC"
      },
      "outputs": [],
      "source": [
        "x = dfClean.drop(\"target\", axis=1).values\n",
        "y = dfClean.iloc[:,-1]"
      ]
    },
    {
      "cell_type": "markdown",
      "metadata": {
        "id": "Beiw9z2B5udk"
      },
      "source": [
        "Setelah kita memisahkan antara fitur dan target, sebaliknya kita melakukan pengecekan terlebih dahulu terhadap persabaran jumlah target terlebih dahulu"
      ]
    },
    {
      "cell_type": "code",
      "execution_count": 37,
      "metadata": {
        "colab": {
          "base_uri": "https://localhost:8080/",
          "height": 545
        },
        "id": "8F8CszW16LsN",
        "outputId": "efc51dbc-e457-4731-baaa-c8b6162342c4"
      },
      "outputs": [
        {
          "data": {
            "image/png": "[encoded data removed]",
            "text/plain": [
              "<Figure size 1000x600 with 1 Axes>"
            ]
          },
          "metadata": {},
          "output_type": "display_data"
        }
      ],
      "source": [
        "dfClean['target'].value_counts().plot(kind='bar',figsize=(10,6),color=['green','blue'])\n",
        "plt.title(\"Count of the target\")\n",
        "plt.xticks(rotation=0);"
      ]
    },
    {
      "cell_type": "markdown",
      "metadata": {
        "id": "t-v0TqEs7m9c"
      },
      "source": [
        "Pada Grafik diatas menunjukan bahwa persebaran jumlah target tidak seimbang oleh karena itu perlu diseimbangkan terlebih dahulu.\n",
        "Menyeimbangkan target ada 2 cara yaitu oversampling dan undersampling. Oversampling dilakukan jika jumlah dataset sedikit sedangkan undersampling dilakukan jika jumlah data terlalu banyak.\n",
        "Disini kita akan melakukan oversampling dikarenakan jumlah data kita tidak banyak. Salah satu metode yang Oversampling yang akan kita gunakan adalah SMOTE"
      ]
    },
    {
      "cell_type": "code",
      "execution_count": 38,
      "metadata": {
        "colab": {
          "base_uri": "https://localhost:8080/",
          "height": 607
        },
        "id": "XsevyTcP8mJG",
        "outputId": "a5222d48-3a14-472d-d4fd-e169c6da4c92"
      },
      "outputs": [
        {
          "data": {
            "image/png": "[encoded data removed]",
            "text/plain": [
              "<Figure size 1000x600 with 2 Axes>"
            ]
          },
          "metadata": {},
          "output_type": "display_data"
        }
      ],
      "source": [
        "from imblearn.over_sampling import SMOTE\n",
        "\n",
        "# oversampling\n",
        "smote = SMOTE(random_state=42)\n",
        "X_smote_resampled, y_smote_resampled = smote.fit_resample(x, y)\n",
        "\n",
        "plt.figure(figsize=(12, 4))\n",
        "\n",
        "new_df1 = pd.DataFrame(data=y)\n",
        "\n",
        "plt.subplot(1,2,1)\n",
        "new_df1.value_counts().plot(kind='bar',figsize=(10,6),color=['green','blue','red','yellow'])\n",
        "plt.title(\"target before over sampling with SMOTE\")\n",
        "plt.xticks(rotation=0);\n",
        "\n",
        "plt.subplot(1,2,2)\n",
        "new_df2 = pd.DataFrame(data=y_smote_resampled)\n",
        "\n",
        "new_df1.value_counts().plot(kind='bar',figsize=(10,6),color=['green','blue','red','yellow'])\n",
        "plt.title(\"target after over sampling with SMOTE\")\n",
        "plt.xticks(rotation=0);\n",
        "\n",
        "plt.tight_layout()\n",
        "plt.show()"
      ]
    },
    {
      "cell_type": "markdown",
      "metadata": {
        "id": "e3RyvfWNWkTW"
      },
      "source": [
        "Pada grafik diatas dapat dilihat ketika target belum di seimbangkan dan sudah diseimbangkan menggunakan oversampling"
      ]
    },
    {
      "cell_type": "code",
      "execution_count": 39,
      "metadata": {
        "colab": {
          "base_uri": "https://localhost:8080/"
        },
        "id": "5KcsaxTbW0ar",
        "outputId": "d813c61c-6205-45f5-9b18-6504fb5609df"
      },
      "outputs": [
        {
          "data": {
            "text/plain": [
              "target\n",
              "0.0       187\n",
              "1.0        37\n",
              "3.0        28\n",
              "2.0        26\n",
              "4.0        15\n",
              "Name: count, dtype: int64"
            ]
          },
          "execution_count": 39,
          "metadata": {},
          "output_type": "execute_result"
        }
      ],
      "source": [
        "new_df1 = pd.DataFrame(data=y)\n",
        "new_df1.value_counts()"
      ]
    },
    {
      "cell_type": "code",
      "execution_count": 40,
      "metadata": {
        "colab": {
          "base_uri": "https://localhost:8080/"
        },
        "id": "ELQSOo_xXPge",
        "outputId": "70bab2b2-2d7a-4625-a587-55defb76af2a"
      },
      "outputs": [
        {
          "data": {
            "text/plain": [
              "target\n",
              "0.0       187\n",
              "1.0       187\n",
              "2.0       187\n",
              "3.0       187\n",
              "4.0       187\n",
              "Name: count, dtype: int64"
            ]
          },
          "execution_count": 40,
          "metadata": {},
          "output_type": "execute_result"
        }
      ],
      "source": [
        "# over\n",
        "new_df2 = pd.DataFrame(data=y_smote_resampled)\n",
        "new_df2.value_counts()"
      ]
    },
    {
      "cell_type": "markdown",
      "metadata": {
        "id": "7KLx_OMoXlHJ"
      },
      "source": [
        "Setelah menyeimbangkan persebaran jumlah target kita akan melakukan mengecekan apakah perlu dilakukan normalisasi/standarsasi pada dataset kita."
      ]
    },
    {
      "cell_type": "code",
      "execution_count": 41,
      "metadata": {
        "colab": {
          "base_uri": "https://localhost:8080/",
          "height": 300
        },
        "id": "LVlIwc0SX0l6",
        "outputId": "e48ec5cd-5c5a-469e-adc7-0a7c1e5530c0"
      },
      "outputs": [
        {
          "data": {
            "text/html": [
              "<div>\n",
              "<style scoped>\n",
              "    .dataframe tbody tr th:only-of-type {\n",
              "        vertical-align: middle;\n",
              "    }\n",
              "\n",
              "    .dataframe tbody tr th {\n",
              "        vertical-align: top;\n",
              "    }\n",
              "\n",
              "    .dataframe thead th {\n",
              "        text-align: right;\n",
              "    }\n",
              "</style>\n",
              "<table border=\"1\" class=\"dataframe\">\n",
              "  <thead>\n",
              "    <tr style=\"text-align: right;\">\n",
              "      <th></th>\n",
              "      <th>age</th>\n",
              "      <th>sex</th>\n",
              "      <th>cp</th>\n",
              "      <th>trestbps</th>\n",
              "      <th>chol</th>\n",
              "      <th>fbs</th>\n",
              "      <th>restecg</th>\n",
              "      <th>thalach</th>\n",
              "      <th>exang</th>\n",
              "      <th>oldpeak</th>\n",
              "      <th>target</th>\n",
              "    </tr>\n",
              "  </thead>\n",
              "  <tbody>\n",
              "    <tr>\n",
              "      <th>count</th>\n",
              "      <td>293.000000</td>\n",
              "      <td>293.000000</td>\n",
              "      <td>293.000000</td>\n",
              "      <td>293.000000</td>\n",
              "      <td>293.000000</td>\n",
              "      <td>293.000000</td>\n",
              "      <td>293.000000</td>\n",
              "      <td>293.000000</td>\n",
              "      <td>293.000000</td>\n",
              "      <td>293.000000</td>\n",
              "      <td>293.000000</td>\n",
              "    </tr>\n",
              "    <tr>\n",
              "      <th>mean</th>\n",
              "      <td>47.822526</td>\n",
              "      <td>0.726962</td>\n",
              "      <td>2.986348</td>\n",
              "      <td>132.662116</td>\n",
              "      <td>250.860068</td>\n",
              "      <td>0.068259</td>\n",
              "      <td>0.218430</td>\n",
              "      <td>139.058020</td>\n",
              "      <td>0.303754</td>\n",
              "      <td>0.588055</td>\n",
              "      <td>0.795222</td>\n",
              "    </tr>\n",
              "    <tr>\n",
              "      <th>std</th>\n",
              "      <td>7.824875</td>\n",
              "      <td>0.446282</td>\n",
              "      <td>0.965049</td>\n",
              "      <td>17.576793</td>\n",
              "      <td>65.059069</td>\n",
              "      <td>0.252622</td>\n",
              "      <td>0.460868</td>\n",
              "      <td>23.558003</td>\n",
              "      <td>0.460665</td>\n",
              "      <td>0.909554</td>\n",
              "      <td>1.238251</td>\n",
              "    </tr>\n",
              "    <tr>\n",
              "      <th>min</th>\n",
              "      <td>28.000000</td>\n",
              "      <td>0.000000</td>\n",
              "      <td>1.000000</td>\n",
              "      <td>92.000000</td>\n",
              "      <td>85.000000</td>\n",
              "      <td>0.000000</td>\n",
              "      <td>0.000000</td>\n",
              "      <td>82.000000</td>\n",
              "      <td>0.000000</td>\n",
              "      <td>0.000000</td>\n",
              "      <td>0.000000</td>\n",
              "    </tr>\n",
              "    <tr>\n",
              "      <th>25%</th>\n",
              "      <td>42.000000</td>\n",
              "      <td>0.000000</td>\n",
              "      <td>2.000000</td>\n",
              "      <td>120.000000</td>\n",
              "      <td>211.000000</td>\n",
              "      <td>0.000000</td>\n",
              "      <td>0.000000</td>\n",
              "      <td>122.000000</td>\n",
              "      <td>0.000000</td>\n",
              "      <td>0.000000</td>\n",
              "      <td>0.000000</td>\n",
              "    </tr>\n",
              "    <tr>\n",
              "      <th>50%</th>\n",
              "      <td>49.000000</td>\n",
              "      <td>1.000000</td>\n",
              "      <td>3.000000</td>\n",
              "      <td>130.000000</td>\n",
              "      <td>248.000000</td>\n",
              "      <td>0.000000</td>\n",
              "      <td>0.000000</td>\n",
              "      <td>140.000000</td>\n",
              "      <td>0.000000</td>\n",
              "      <td>0.000000</td>\n",
              "      <td>0.000000</td>\n",
              "    </tr>\n",
              "    <tr>\n",
              "      <th>75%</th>\n",
              "      <td>54.000000</td>\n",
              "      <td>1.000000</td>\n",
              "      <td>4.000000</td>\n",
              "      <td>140.000000</td>\n",
              "      <td>277.000000</td>\n",
              "      <td>0.000000</td>\n",
              "      <td>0.000000</td>\n",
              "      <td>155.000000</td>\n",
              "      <td>1.000000</td>\n",
              "      <td>1.000000</td>\n",
              "      <td>1.000000</td>\n",
              "    </tr>\n",
              "    <tr>\n",
              "      <th>max</th>\n",
              "      <td>66.000000</td>\n",
              "      <td>1.000000</td>\n",
              "      <td>4.000000</td>\n",
              "      <td>200.000000</td>\n",
              "      <td>603.000000</td>\n",
              "      <td>1.000000</td>\n",
              "      <td>2.000000</td>\n",
              "      <td>190.000000</td>\n",
              "      <td>1.000000</td>\n",
              "      <td>5.000000</td>\n",
              "      <td>4.000000</td>\n",
              "    </tr>\n",
              "  </tbody>\n",
              "</table>\n",
              "</div>"
            ],
            "text/plain": [
              "              age         sex          cp    trestbps        chol         fbs  \\\n",
              "count  293.000000  293.000000  293.000000  293.000000  293.000000  293.000000   \n",
              "mean    47.822526    0.726962    2.986348  132.662116  250.860068    0.068259   \n",
              "std      7.824875    0.446282    0.965049   17.576793   65.059069    0.252622   \n",
              "min     28.000000    0.000000    1.000000   92.000000   85.000000    0.000000   \n",
              "25%     42.000000    0.000000    2.000000  120.000000  211.000000    0.000000   \n",
              "50%     49.000000    1.000000    3.000000  130.000000  248.000000    0.000000   \n",
              "75%     54.000000    1.000000    4.000000  140.000000  277.000000    0.000000   \n",
              "max     66.000000    1.000000    4.000000  200.000000  603.000000    1.000000   \n",
              "\n",
              "          restecg     thalach       exang     oldpeak      target  \n",
              "count  293.000000  293.000000  293.000000  293.000000  293.000000  \n",
              "mean     0.218430  139.058020    0.303754    0.588055    0.795222  \n",
              "std      0.460868   23.558003    0.460665    0.909554    1.238251  \n",
              "min      0.000000   82.000000    0.000000    0.000000    0.000000  \n",
              "25%      0.000000  122.000000    0.000000    0.000000    0.000000  \n",
              "50%      0.000000  140.000000    0.000000    0.000000    0.000000  \n",
              "75%      0.000000  155.000000    1.000000    1.000000    1.000000  \n",
              "max      2.000000  190.000000    1.000000    5.000000    4.000000  "
            ]
          },
          "execution_count": 41,
          "metadata": {},
          "output_type": "execute_result"
        }
      ],
      "source": [
        "dfClean.describe()"
      ]
    },
    {
      "cell_type": "markdown",
      "metadata": {
        "id": "WTF9QAt1X7jJ"
      },
      "source": [
        "Pada deskripsi diatas dapat dilihat bahwa terdapat rentang nilai yang cukup jauh pada standar deviasi setiap fitur dataset yang kita miliki, Oleh karena itu perlu dilakukan normalisasi/standarisasi agar memperkecil rentang antara standar deviasi setiap kolom."
      ]
    },
    {
      "cell_type": "code",
      "execution_count": 42,
      "metadata": {
        "colab": {
          "base_uri": "https://localhost:8080/",
          "height": 300
        },
        "id": "f3gS9SjRYbm3",
        "outputId": "106633e9-a09c-4e1a-e528-398bb28c75f3"
      },
      "outputs": [
        {
          "data": {
            "text/html": [
              "<div>\n",
              "<style scoped>\n",
              "    .dataframe tbody tr th:only-of-type {\n",
              "        vertical-align: middle;\n",
              "    }\n",
              "\n",
              "    .dataframe tbody tr th {\n",
              "        vertical-align: top;\n",
              "    }\n",
              "\n",
              "    .dataframe thead th {\n",
              "        text-align: right;\n",
              "    }\n",
              "</style>\n",
              "<table border=\"1\" class=\"dataframe\">\n",
              "  <thead>\n",
              "    <tr style=\"text-align: right;\">\n",
              "      <th></th>\n",
              "      <th>0</th>\n",
              "      <th>1</th>\n",
              "      <th>2</th>\n",
              "      <th>3</th>\n",
              "      <th>4</th>\n",
              "      <th>5</th>\n",
              "      <th>6</th>\n",
              "      <th>7</th>\n",
              "      <th>8</th>\n",
              "      <th>9</th>\n",
              "    </tr>\n",
              "  </thead>\n",
              "  <tbody>\n",
              "    <tr>\n",
              "      <th>count</th>\n",
              "      <td>935.000000</td>\n",
              "      <td>935.000000</td>\n",
              "      <td>935.000000</td>\n",
              "      <td>935.000000</td>\n",
              "      <td>935.000000</td>\n",
              "      <td>935.000000</td>\n",
              "      <td>935.000000</td>\n",
              "      <td>935.000000</td>\n",
              "      <td>935.000000</td>\n",
              "      <td>935.000000</td>\n",
              "    </tr>\n",
              "    <tr>\n",
              "      <th>mean</th>\n",
              "      <td>0.563739</td>\n",
              "      <td>0.842507</td>\n",
              "      <td>0.818224</td>\n",
              "      <td>0.403413</td>\n",
              "      <td>0.341027</td>\n",
              "      <td>0.094277</td>\n",
              "      <td>0.117938</td>\n",
              "      <td>0.453354</td>\n",
              "      <td>0.598398</td>\n",
              "      <td>0.227015</td>\n",
              "    </tr>\n",
              "    <tr>\n",
              "      <th>std</th>\n",
              "      <td>0.174873</td>\n",
              "      <td>0.332492</td>\n",
              "      <td>0.274211</td>\n",
              "      <td>0.147493</td>\n",
              "      <td>0.110990</td>\n",
              "      <td>0.252030</td>\n",
              "      <td>0.199527</td>\n",
              "      <td>0.197232</td>\n",
              "      <td>0.450288</td>\n",
              "      <td>0.201293</td>\n",
              "    </tr>\n",
              "    <tr>\n",
              "      <th>min</th>\n",
              "      <td>0.000000</td>\n",
              "      <td>0.000000</td>\n",
              "      <td>0.000000</td>\n",
              "      <td>0.000000</td>\n",
              "      <td>0.000000</td>\n",
              "      <td>0.000000</td>\n",
              "      <td>0.000000</td>\n",
              "      <td>0.000000</td>\n",
              "      <td>0.000000</td>\n",
              "      <td>0.000000</td>\n",
              "    </tr>\n",
              "    <tr>\n",
              "      <th>25%</th>\n",
              "      <td>0.473283</td>\n",
              "      <td>1.000000</td>\n",
              "      <td>0.666667</td>\n",
              "      <td>0.305556</td>\n",
              "      <td>0.267954</td>\n",
              "      <td>0.000000</td>\n",
              "      <td>0.000000</td>\n",
              "      <td>0.312720</td>\n",
              "      <td>0.000000</td>\n",
              "      <td>0.000000</td>\n",
              "    </tr>\n",
              "    <tr>\n",
              "      <th>50%</th>\n",
              "      <td>0.578947</td>\n",
              "      <td>1.000000</td>\n",
              "      <td>1.000000</td>\n",
              "      <td>0.387952</td>\n",
              "      <td>0.330240</td>\n",
              "      <td>0.000000</td>\n",
              "      <td>0.000000</td>\n",
              "      <td>0.440606</td>\n",
              "      <td>0.962447</td>\n",
              "      <td>0.200000</td>\n",
              "    </tr>\n",
              "    <tr>\n",
              "      <th>75%</th>\n",
              "      <td>0.683363</td>\n",
              "      <td>1.000000</td>\n",
              "      <td>1.000000</td>\n",
              "      <td>0.487481</td>\n",
              "      <td>0.393811</td>\n",
              "      <td>0.000000</td>\n",
              "      <td>0.201473</td>\n",
              "      <td>0.593629</td>\n",
              "      <td>1.000000</td>\n",
              "      <td>0.386166</td>\n",
              "    </tr>\n",
              "    <tr>\n",
              "      <th>max</th>\n",
              "      <td>1.000000</td>\n",
              "      <td>1.000000</td>\n",
              "      <td>1.000000</td>\n",
              "      <td>1.000000</td>\n",
              "      <td>1.000000</td>\n",
              "      <td>1.000000</td>\n",
              "      <td>1.000000</td>\n",
              "      <td>1.000000</td>\n",
              "      <td>1.000000</td>\n",
              "      <td>1.000000</td>\n",
              "    </tr>\n",
              "  </tbody>\n",
              "</table>\n",
              "</div>"
            ],
            "text/plain": [
              "                0           1           2           3           4           5  \\\n",
              "count  935.000000  935.000000  935.000000  935.000000  935.000000  935.000000   \n",
              "mean     0.563739    0.842507    0.818224    0.403413    0.341027    0.094277   \n",
              "std      0.174873    0.332492    0.274211    0.147493    0.110990    0.252030   \n",
              "min      0.000000    0.000000    0.000000    0.000000    0.000000    0.000000   \n",
              "25%      0.473283    1.000000    0.666667    0.305556    0.267954    0.000000   \n",
              "50%      0.578947    1.000000    1.000000    0.387952    0.330240    0.000000   \n",
              "75%      0.683363    1.000000    1.000000    0.487481    0.393811    0.000000   \n",
              "max      1.000000    1.000000    1.000000    1.000000    1.000000    1.000000   \n",
              "\n",
              "                6           7           8           9  \n",
              "count  935.000000  935.000000  935.000000  935.000000  \n",
              "mean     0.117938    0.453354    0.598398    0.227015  \n",
              "std      0.199527    0.197232    0.450288    0.201293  \n",
              "min      0.000000    0.000000    0.000000    0.000000  \n",
              "25%      0.000000    0.312720    0.000000    0.000000  \n",
              "50%      0.000000    0.440606    0.962447    0.200000  \n",
              "75%      0.201473    0.593629    1.000000    0.386166  \n",
              "max      1.000000    1.000000    1.000000    1.000000  "
            ]
          },
          "execution_count": 42,
          "metadata": {},
          "output_type": "execute_result"
        }
      ],
      "source": [
        "from sklearn.preprocessing import MinMaxScaler\n",
        "\n",
        "scaler = MinMaxScaler()\n",
        "\n",
        "X_smote_resampled_normal = scaler.fit_transform(X_smote_resampled)\n",
        "\n",
        "len(X_smote_resampled_normal)\n",
        "dfcek1 = pd.DataFrame(X_smote_resampled_normal)\n",
        "dfcek1.describe()"
      ]
    },
    {
      "cell_type": "markdown",
      "metadata": {
        "id": "dY0l1oynaD9A"
      },
      "source": [
        "Setelah dilakukan normalisasi pada fitur, selanjutnya kita perlu membagi fitur dan target menjadi data train dan test."
      ]
    },
    {
      "cell_type": "code",
      "execution_count": 43,
      "metadata": {
        "id": "XX0RGDauaRfA"
      },
      "outputs": [],
      "source": [
        "from sklearn.model_selection import train_test_split\n",
        "\n",
        "# membagi fitur dan target menjadi data train dan test (untuk yang oversampling saja)\n",
        "X_train, X_test, y_train, y_test = train_test_split(X_smote_resampled, y_smote_resampled, test_size=0.2, random_state=42, stratify=y_smote_resampled)\n",
        "\n",
        "# membagi fitur dan target menjadi data train dan test (untuk yang oversample + normalization)\n",
        "X_train_normal, X_test_normal, y_train_normal, y_test_normal = train_test_split(X_smote_resampled_normal, y_smote_resampled, test_size=0.2, random_state=42, stratify = y_smote_resampled)"
      ]
    },
    {
      "cell_type": "markdown",
      "metadata": {
        "id": "F0e5v_uycuSH"
      },
      "source": [
        "7. Model"
      ]
    },
    {
      "cell_type": "markdown",
      "metadata": {
        "id": "GpW2rNkTdtDu"
      },
      "source": [
        "Pada tahap ini kita akan memulai untuk membangun sebuah model."
      ]
    },
    {
      "cell_type": "markdown",
      "metadata": {
        "id": "lum8Jnjnd4Jc"
      },
      "source": [
        "Dibawah ini merupakan sebuah fungsi untuk menampilkan hasil akurasi dan rata-rata dari recall, f1 dan precision score setiap model. Fungsi ini nantinya akan di pangil di setiap model. Membuat Fungsi ini bersifat opsional"
      ]
    },
    {
      "cell_type": "code",
      "execution_count": 44,
      "metadata": {
        "id": "HdTLq_A2gbjV"
      },
      "outputs": [],
      "source": [
        "from sklearn.metrics import accuracy_score,recall_score,f1_score,precision_score,roc_auc_score,confusion_matrix,precision_score\n",
        "\n",
        "def evaluation (Y_test,Y_pred):\n",
        "  acc = accuracy_score(Y_test, Y_pred)\n",
        "  rcl = recall_score(Y_test,Y_pred,average = 'weighted')\n",
        "  f1 = f1_score(Y_test,Y_pred,average = 'weighted')\n",
        "  ps = precision_score(Y_test,Y_pred,average = 'weighted')\n",
        "\n",
        "  metric_dict={'accuracy' : round(acc,3),\n",
        "              'recall' : round(rcl,3),\n",
        "              'F1 score' : round(f1,3),\n",
        "              'Precision score ' : round(ps,3)\n",
        "              }\n",
        "\n",
        "  return print(metric_dict)\n"
      ]
    },
    {
      "cell_type": "markdown",
      "metadata": {
        "id": "Q_FfCr3BoqeE"
      },
      "source": [
        "- Oversample\n",
        "- KNN\n",
        "\n",
        "Pada tahap ini kita akan memulai membangun model dengan Algoritma KKN dengan niai neighbors yaitu 3.\n"
      ]
    },
    {
      "cell_type": "code",
      "execution_count": 45,
      "metadata": {
        "colab": {
          "base_uri": "https://localhost:8080/",
          "height": 75
        },
        "id": "JwgCzLC3pdQk",
        "outputId": "dfb5b7f3-cb44-4a00-9844-f2f5945c7db0"
      },
      "outputs": [
        {
          "data": {
            "text/html": [
              "<style>#sk-container-id-1 {color: black;}#sk-container-id-1 pre{padding: 0;}#sk-container-id-1 div.sk-toggleable {background-color: white;}#sk-container-id-1 label.sk-toggleable__label {cursor: pointer;display: block;width: 100%;margin-bottom: 0;padding: 0.3em;box-sizing: border-box;text-align: center;}#sk-container-id-1 label.sk-toggleable__label-arrow:before {content: \"▸\";float: left;margin-right: 0.25em;color: #696969;}#sk-container-id-1 label.sk-toggleable__label-arrow:hover:before {color: black;}#sk-container-id-1 div.sk-estimator:hover label.sk-toggleable__label-arrow:before {color: black;}#sk-container-id-1 div.sk-toggleable__content {max-height: 0;max-width: 0;overflow: hidden;text-align: left;background-color: #f0f8ff;}#sk-container-id-1 div.sk-toggleable__content pre {margin: 0.2em;color: black;border-radius: 0.25em;background-color: #f0f8ff;}#sk-container-id-1 input.sk-toggleable__control:checked~div.sk-toggleable__content {max-height: 200px;max-width: 100%;overflow: auto;}#sk-container-id-1 input.sk-toggleable__control:checked~label.sk-toggleable__label-arrow:before {content: \"▾\";}#sk-container-id-1 div.sk-estimator input.sk-toggleable__control:checked~label.sk-toggleable__label {background-color: #d4ebff;}#sk-container-id-1 div.sk-label input.sk-toggleable__control:checked~label.sk-toggleable__label {background-color: #d4ebff;}#sk-container-id-1 input.sk-hidden--visually {border: 0;clip: rect(1px 1px 1px 1px);clip: rect(1px, 1px, 1px, 1px);height: 1px;margin: -1px;overflow: hidden;padding: 0;position: absolute;width: 1px;}#sk-container-id-1 div.sk-estimator {font-family: monospace;background-color: #f0f8ff;border: 1px dotted black;border-radius: 0.25em;box-sizing: border-box;margin-bottom: 0.5em;}#sk-container-id-1 div.sk-estimator:hover {background-color: #d4ebff;}#sk-container-id-1 div.sk-parallel-item::after {content: \"\";width: 100%;border-bottom: 1px solid gray;flex-grow: 1;}#sk-container-id-1 div.sk-label:hover label.sk-toggleable__label {background-color: #d4ebff;}#sk-container-id-1 div.sk-serial::before {content: \"\";position: absolute;border-left: 1px solid gray;box-sizing: border-box;top: 0;bottom: 0;left: 50%;z-index: 0;}#sk-container-id-1 div.sk-serial {display: flex;flex-direction: column;align-items: center;background-color: white;padding-right: 0.2em;padding-left: 0.2em;position: relative;}#sk-container-id-1 div.sk-item {position: relative;z-index: 1;}#sk-container-id-1 div.sk-parallel {display: flex;align-items: stretch;justify-content: center;background-color: white;position: relative;}#sk-container-id-1 div.sk-item::before, #sk-container-id-1 div.sk-parallel-item::before {content: \"\";position: absolute;border-left: 1px solid gray;box-sizing: border-box;top: 0;bottom: 0;left: 50%;z-index: -1;}#sk-container-id-1 div.sk-parallel-item {display: flex;flex-direction: column;z-index: 1;position: relative;background-color: white;}#sk-container-id-1 div.sk-parallel-item:first-child::after {align-self: flex-end;width: 50%;}#sk-container-id-1 div.sk-parallel-item:last-child::after {align-self: flex-start;width: 50%;}#sk-container-id-1 div.sk-parallel-item:only-child::after {width: 0;}#sk-container-id-1 div.sk-dashed-wrapped {border: 1px dashed gray;margin: 0 0.4em 0.5em 0.4em;box-sizing: border-box;padding-bottom: 0.4em;background-color: white;}#sk-container-id-1 div.sk-label label {font-family: monospace;font-weight: bold;display: inline-block;line-height: 1.2em;}#sk-container-id-1 div.sk-label-container {text-align: center;}#sk-container-id-1 div.sk-container {/* jupyter's `normalize.less` sets `[hidden] { display: none; }` but bootstrap.min.css set `[hidden] { display: none !important; }` so we also need the `!important` here to be able to override the default hidden behavior on the sphinx rendered scikit-learn.org. See: https://github.com/scikit-learn/scikit-learn/issues/21755 */display: inline-block !important;position: relative;}#sk-container-id-1 div.sk-text-repr-fallback {display: none;}</style><div id=\"sk-container-id-1\" class=\"sk-top-container\"><div class=\"sk-text-repr-fallback\"><pre>KNeighborsClassifier(n_neighbors=3)</pre><b>In a Jupyter environment, please rerun this cell to show the HTML representation or trust the notebook. <br />On GitHub, the HTML representation is unable to render, please try loading this page with nbviewer.org.</b></div><div class=\"sk-container\" hidden><div class=\"sk-item\"><div class=\"sk-estimator sk-toggleable\"><input class=\"sk-toggleable__control sk-hidden--visually\" id=\"sk-estimator-id-1\" type=\"checkbox\" checked><label for=\"sk-estimator-id-1\" class=\"sk-toggleable__label sk-toggleable__label-arrow\">KNeighborsClassifier</label><div class=\"sk-toggleable__content\"><pre>KNeighborsClassifier(n_neighbors=3)</pre></div></div></div></div></div>"
            ],
            "text/plain": [
              "KNeighborsClassifier(n_neighbors=3)"
            ]
          },
          "execution_count": 45,
          "metadata": {},
          "output_type": "execute_result"
        }
      ],
      "source": [
        "from sklearn.neighbors import KNeighborsClassifier\n",
        "from sklearn.ensemble import RandomForestClassifier\n",
        "from xgboost import XGBClassifier\n",
        "from sklearn.metrics import accuracy_score, classification_report\n",
        "\n",
        "knn_model = KNeighborsClassifier(n_neighbors =3 )\n",
        "knn_model.fit(X_train, y_train)"
      ]
    },
    {
      "cell_type": "markdown",
      "metadata": {
        "id": "OF6qgAyBq3Jx"
      },
      "source": [
        "Berikut adalah kode program untuk menampilkan hasil akurasi dengan algoritma KNN"
      ]
    },
    {
      "cell_type": "code",
      "execution_count": 46,
      "metadata": {
        "colab": {
          "base_uri": "https://localhost:8080/"
        },
        "id": "C0WVjxbjrcSS",
        "outputId": "9e1fc952-494d-4a49-d998-81f3c7dfbc33"
      },
      "outputs": [
        {
          "name": "stdout",
          "output_type": "stream",
          "text": [
            "K-Nearst Neighbors (KNN) Model :\n",
            "Accuracy: 0.754\n",
            "Classification Report:\n",
            "              precision    recall  f1-score   support\n",
            "\n",
            "         0.0       0.65      0.39      0.49        38\n",
            "         1.0       0.73      0.81      0.77        37\n",
            "         2.0       0.80      0.86      0.83        37\n",
            "         3.0       0.77      0.87      0.81        38\n",
            "         4.0       0.78      0.84      0.81        37\n",
            "\n",
            "    accuracy                           0.75       187\n",
            "   macro avg       0.75      0.76      0.74       187\n",
            "weighted avg       0.74      0.75      0.74       187\n",
            "\n"
          ]
        }
      ],
      "source": [
        "y_pred_knn = knn_model.predict(X_test)\n",
        "\n",
        "#Evaluate the KNN model\n",
        "print(\"K-Nearst Neighbors (KNN) Model :\")\n",
        "accuracy_knn_smote = round(accuracy_score(y_test,y_pred_knn),3)\n",
        "print(\"Accuracy:\", accuracy_knn_smote)\n",
        "print(\"Classification Report:\")\n",
        "print(classification_report(y_test, y_pred_knn))"
      ]
    },
    {
      "cell_type": "code",
      "execution_count": 47,
      "metadata": {
        "colab": {
          "base_uri": "https://localhost:8080/"
        },
        "id": "ypIq-_iZtRa7",
        "outputId": "a3852e24-d9f4-4e25-e2b4-cccc0704b3eb"
      },
      "outputs": [
        {
          "name": "stdout",
          "output_type": "stream",
          "text": [
            "{'accuracy': 0.754, 'recall': 0.754, 'F1 score': 0.741, 'Precision score ': 0.745}\n"
          ]
        }
      ],
      "source": [
        "evaluation(y_test,y_pred_knn)\n",
        "\n"
      ]
    },
    {
      "cell_type": "markdown",
      "metadata": {
        "id": "sCQfuOWuwm6h"
      },
      "source": [
        "Pada visualisasi ini ditampilkan visualisasi confusion matrix untuk membandingkan hasil prediksi model dengan nilai sebenarnya."
      ]
    },
    {
      "cell_type": "code",
      "execution_count": 48,
      "metadata": {
        "colab": {
          "base_uri": "https://localhost:8080/",
          "height": 564
        },
        "id": "Tnt1D_QWw2ac",
        "outputId": "a8668457-81cb-4239-a6dc-8ab748852ad8"
      },
      "outputs": [
        {
          "data": {
            "image/png": "[encoded data removed]",
            "text/plain": [
              "<Figure size 800x600 with 2 Axes>"
            ]
          },
          "metadata": {},
          "output_type": "display_data"
        }
      ],
      "source": [
        "cm = confusion_matrix(y_test, y_pred_knn)\n",
        "\n",
        "plt.figure(figsize=(8, 6))\n",
        "sns.heatmap(cm,annot=True, fmt=\"d\", cmap=\"Greens\")\n",
        "plt.title('Confusion Matrix')\n",
        "plt.xlabel('True')\n",
        "plt.ylabel('Predict')\n",
        "plt.show()"
      ]
    },
    {
      "cell_type": "markdown",
      "metadata": {
        "id": "Y8H6jPYmySpi"
      },
      "source": [
        "- Random Forest\n",
        "\n",
        "Selanjutnya kita akan membangun model dengan algoritma random forest dengan n_estimators yaitu 100, n_estimators sendiri berguna mengatur jumlah pohon keputusan yang akan dibangun"
      ]
    },
    {
      "cell_type": "code",
      "execution_count": 49,
      "metadata": {
        "colab": {
          "base_uri": "https://localhost:8080/",
          "height": 75
        },
        "id": "5xEkYWAfy9cq",
        "outputId": "3d87b663-3c19-4af6-8ee5-80d253dc625a"
      },
      "outputs": [
        {
          "data": {
            "text/html": [
              "<style>#sk-container-id-2 {color: black;}#sk-container-id-2 pre{padding: 0;}#sk-container-id-2 div.sk-toggleable {background-color: white;}#sk-container-id-2 label.sk-toggleable__label {cursor: pointer;display: block;width: 100%;margin-bottom: 0;padding: 0.3em;box-sizing: border-box;text-align: center;}#sk-container-id-2 label.sk-toggleable__label-arrow:before {content: \"▸\";float: left;margin-right: 0.25em;color: #696969;}#sk-container-id-2 label.sk-toggleable__label-arrow:hover:before {color: black;}#sk-container-id-2 div.sk-estimator:hover label.sk-toggleable__label-arrow:before {color: black;}#sk-container-id-2 div.sk-toggleable__content {max-height: 0;max-width: 0;overflow: hidden;text-align: left;background-color: #f0f8ff;}#sk-container-id-2 div.sk-toggleable__content pre {margin: 0.2em;color: black;border-radius: 0.25em;background-color: #f0f8ff;}#sk-container-id-2 input.sk-toggleable__control:checked~div.sk-toggleable__content {max-height: 200px;max-width: 100%;overflow: auto;}#sk-container-id-2 input.sk-toggleable__control:checked~label.sk-toggleable__label-arrow:before {content: \"▾\";}#sk-container-id-2 div.sk-estimator input.sk-toggleable__control:checked~label.sk-toggleable__label {background-color: #d4ebff;}#sk-container-id-2 div.sk-label input.sk-toggleable__control:checked~label.sk-toggleable__label {background-color: #d4ebff;}#sk-container-id-2 input.sk-hidden--visually {border: 0;clip: rect(1px 1px 1px 1px);clip: rect(1px, 1px, 1px, 1px);height: 1px;margin: -1px;overflow: hidden;padding: 0;position: absolute;width: 1px;}#sk-container-id-2 div.sk-estimator {font-family: monospace;background-color: #f0f8ff;border: 1px dotted black;border-radius: 0.25em;box-sizing: border-box;margin-bottom: 0.5em;}#sk-container-id-2 div.sk-estimator:hover {background-color: #d4ebff;}#sk-container-id-2 div.sk-parallel-item::after {content: \"\";width: 100%;border-bottom: 1px solid gray;flex-grow: 1;}#sk-container-id-2 div.sk-label:hover label.sk-toggleable__label {background-color: #d4ebff;}#sk-container-id-2 div.sk-serial::before {content: \"\";position: absolute;border-left: 1px solid gray;box-sizing: border-box;top: 0;bottom: 0;left: 50%;z-index: 0;}#sk-container-id-2 div.sk-serial {display: flex;flex-direction: column;align-items: center;background-color: white;padding-right: 0.2em;padding-left: 0.2em;position: relative;}#sk-container-id-2 div.sk-item {position: relative;z-index: 1;}#sk-container-id-2 div.sk-parallel {display: flex;align-items: stretch;justify-content: center;background-color: white;position: relative;}#sk-container-id-2 div.sk-item::before, #sk-container-id-2 div.sk-parallel-item::before {content: \"\";position: absolute;border-left: 1px solid gray;box-sizing: border-box;top: 0;bottom: 0;left: 50%;z-index: -1;}#sk-container-id-2 div.sk-parallel-item {display: flex;flex-direction: column;z-index: 1;position: relative;background-color: white;}#sk-container-id-2 div.sk-parallel-item:first-child::after {align-self: flex-end;width: 50%;}#sk-container-id-2 div.sk-parallel-item:last-child::after {align-self: flex-start;width: 50%;}#sk-container-id-2 div.sk-parallel-item:only-child::after {width: 0;}#sk-container-id-2 div.sk-dashed-wrapped {border: 1px dashed gray;margin: 0 0.4em 0.5em 0.4em;box-sizing: border-box;padding-bottom: 0.4em;background-color: white;}#sk-container-id-2 div.sk-label label {font-family: monospace;font-weight: bold;display: inline-block;line-height: 1.2em;}#sk-container-id-2 div.sk-label-container {text-align: center;}#sk-container-id-2 div.sk-container {/* jupyter's `normalize.less` sets `[hidden] { display: none; }` but bootstrap.min.css set `[hidden] { display: none !important; }` so we also need the `!important` here to be able to override the default hidden behavior on the sphinx rendered scikit-learn.org. See: https://github.com/scikit-learn/scikit-learn/issues/21755 */display: inline-block !important;position: relative;}#sk-container-id-2 div.sk-text-repr-fallback {display: none;}</style><div id=\"sk-container-id-2\" class=\"sk-top-container\"><div class=\"sk-text-repr-fallback\"><pre>RandomForestClassifier(random_state=42)</pre><b>In a Jupyter environment, please rerun this cell to show the HTML representation or trust the notebook. <br />On GitHub, the HTML representation is unable to render, please try loading this page with nbviewer.org.</b></div><div class=\"sk-container\" hidden><div class=\"sk-item\"><div class=\"sk-estimator sk-toggleable\"><input class=\"sk-toggleable__control sk-hidden--visually\" id=\"sk-estimator-id-2\" type=\"checkbox\" checked><label for=\"sk-estimator-id-2\" class=\"sk-toggleable__label sk-toggleable__label-arrow\">RandomForestClassifier</label><div class=\"sk-toggleable__content\"><pre>RandomForestClassifier(random_state=42)</pre></div></div></div></div></div>"
            ],
            "text/plain": [
              "RandomForestClassifier(random_state=42)"
            ]
          },
          "execution_count": 49,
          "metadata": {},
          "output_type": "execute_result"
        }
      ],
      "source": [
        "rf_model = RandomForestClassifier(n_estimators=100, random_state=42)\n",
        "rf_model.fit(X_train, y_train)"
      ]
    },
    {
      "cell_type": "code",
      "execution_count": 50,
      "metadata": {
        "colab": {
          "base_uri": "https://localhost:8080/"
        },
        "id": "hZ-ihWeYzFhU",
        "outputId": "7f740627-3197-44df-ce02-904b3be9b147"
      },
      "outputs": [
        {
          "name": "stdout",
          "output_type": "stream",
          "text": [
            "\n",
            "Random Forest Model: \n",
            "Accuracy: 0.92\n",
            "Classification Report:\n",
            "              precision    recall  f1-score   support\n",
            "\n",
            "         0.0       0.94      0.89      0.92        38\n",
            "         1.0       0.85      0.92      0.88        37\n",
            "         2.0       0.89      0.89      0.89        37\n",
            "         3.0       0.95      0.97      0.96        38\n",
            "         4.0       0.97      0.92      0.94        37\n",
            "\n",
            "    accuracy                           0.92       187\n",
            "   macro avg       0.92      0.92      0.92       187\n",
            "weighted avg       0.92      0.92      0.92       187\n",
            "\n"
          ]
        }
      ],
      "source": [
        "y_pred_rf = rf_model.predict(X_test)\n",
        "\n",
        "#Evaluate the Random Forest model\n",
        "print(\"\\nRandom Forest Model: \")\n",
        "accuracy_rf_smote = round(accuracy_score(y_test, y_pred_rf),3)\n",
        "print(\"Accuracy:\",accuracy_rf_smote)\n",
        "print(\"Classification Report:\")\n",
        "print(classification_report(y_test, y_pred_rf))"
      ]
    },
    {
      "cell_type": "code",
      "execution_count": 51,
      "metadata": {
        "colab": {
          "base_uri": "https://localhost:8080/"
        },
        "id": "fggxOhCC0EJQ",
        "outputId": "4e7e2ef3-d71f-4b9b-9722-ad66be4de641"
      },
      "outputs": [
        {
          "name": "stdout",
          "output_type": "stream",
          "text": [
            "{'accuracy': 0.92, 'recall': 0.92, 'F1 score': 0.92, 'Precision score ': 0.922}\n"
          ]
        }
      ],
      "source": [
        "evaluation(y_test,y_pred_rf)"
      ]
    },
    {
      "cell_type": "code",
      "execution_count": 52,
      "metadata": {
        "colab": {
          "base_uri": "https://localhost:8080/",
          "height": 564
        },
        "id": "eLH2YTa20Lxs",
        "outputId": "132e56d4-0a39-466b-be59-3a3af76c5c61"
      },
      "outputs": [
        {
          "data": {
            "image/png": "[encoded data removed]",
            "text/plain": [
              "<Figure size 800x600 with 2 Axes>"
            ]
          },
          "metadata": {},
          "output_type": "display_data"
        }
      ],
      "source": [
        "cm = confusion_matrix(y_test, y_pred_rf)\n",
        "\n",
        "plt.figure(figsize=(8, 6))\n",
        "sns.heatmap(cm,annot=True, fmt=\"d\", cmap=\"Blues\")\n",
        "plt.title('Confusion Matrix')\n",
        "plt.xlabel('True')\n",
        "plt.ylabel('Predict')\n",
        "plt.show()"
      ]
    },
    {
      "cell_type": "markdown",
      "metadata": {
        "id": "QrGrVwV61IHv"
      },
      "source": [
        "- XGBoost\n",
        "\n",
        "Pada tahap ini dalam membangun model, kita akan menggunakan algoritma XGBoost dengan learning rate yaitu 0.1. learning rate berguna untuk mengontrol seberapa besar kita menyesuaikan bobot model."
      ]
    },
    {
      "cell_type": "code",
      "execution_count": 53,
      "metadata": {
        "colab": {
          "base_uri": "https://localhost:8080/",
          "height": 248
        },
        "id": "cvwvQH5A1bDu",
        "outputId": "3a0be62a-0571-47bc-f4ef-1da258c58ac9"
      },
      "outputs": [
        {
          "data": {
            "text/html": [
              "<style>#sk-container-id-3 {color: black;}#sk-container-id-3 pre{padding: 0;}#sk-container-id-3 div.sk-toggleable {background-color: white;}#sk-container-id-3 label.sk-toggleable__label {cursor: pointer;display: block;width: 100%;margin-bottom: 0;padding: 0.3em;box-sizing: border-box;text-align: center;}#sk-container-id-3 label.sk-toggleable__label-arrow:before {content: \"▸\";float: left;margin-right: 0.25em;color: #696969;}#sk-container-id-3 label.sk-toggleable__label-arrow:hover:before {color: black;}#sk-container-id-3 div.sk-estimator:hover label.sk-toggleable__label-arrow:before {color: black;}#sk-container-id-3 div.sk-toggleable__content {max-height: 0;max-width: 0;overflow: hidden;text-align: left;background-color: #f0f8ff;}#sk-container-id-3 div.sk-toggleable__content pre {margin: 0.2em;color: black;border-radius: 0.25em;background-color: #f0f8ff;}#sk-container-id-3 input.sk-toggleable__control:checked~div.sk-toggleable__content {max-height: 200px;max-width: 100%;overflow: auto;}#sk-container-id-3 input.sk-toggleable__control:checked~label.sk-toggleable__label-arrow:before {content: \"▾\";}#sk-container-id-3 div.sk-estimator input.sk-toggleable__control:checked~label.sk-toggleable__label {background-color: #d4ebff;}#sk-container-id-3 div.sk-label input.sk-toggleable__control:checked~label.sk-toggleable__label {background-color: #d4ebff;}#sk-container-id-3 input.sk-hidden--visually {border: 0;clip: rect(1px 1px 1px 1px);clip: rect(1px, 1px, 1px, 1px);height: 1px;margin: -1px;overflow: hidden;padding: 0;position: absolute;width: 1px;}#sk-container-id-3 div.sk-estimator {font-family: monospace;background-color: #f0f8ff;border: 1px dotted black;border-radius: 0.25em;box-sizing: border-box;margin-bottom: 0.5em;}#sk-container-id-3 div.sk-estimator:hover {background-color: #d4ebff;}#sk-container-id-3 div.sk-parallel-item::after {content: \"\";width: 100%;border-bottom: 1px solid gray;flex-grow: 1;}#sk-container-id-3 div.sk-label:hover label.sk-toggleable__label {background-color: #d4ebff;}#sk-container-id-3 div.sk-serial::before {content: \"\";position: absolute;border-left: 1px solid gray;box-sizing: border-box;top: 0;bottom: 0;left: 50%;z-index: 0;}#sk-container-id-3 div.sk-serial {display: flex;flex-direction: column;align-items: center;background-color: white;padding-right: 0.2em;padding-left: 0.2em;position: relative;}#sk-container-id-3 div.sk-item {position: relative;z-index: 1;}#sk-container-id-3 div.sk-parallel {display: flex;align-items: stretch;justify-content: center;background-color: white;position: relative;}#sk-container-id-3 div.sk-item::before, #sk-container-id-3 div.sk-parallel-item::before {content: \"\";position: absolute;border-left: 1px solid gray;box-sizing: border-box;top: 0;bottom: 0;left: 50%;z-index: -1;}#sk-container-id-3 div.sk-parallel-item {display: flex;flex-direction: column;z-index: 1;position: relative;background-color: white;}#sk-container-id-3 div.sk-parallel-item:first-child::after {align-self: flex-end;width: 50%;}#sk-container-id-3 div.sk-parallel-item:last-child::after {align-self: flex-start;width: 50%;}#sk-container-id-3 div.sk-parallel-item:only-child::after {width: 0;}#sk-container-id-3 div.sk-dashed-wrapped {border: 1px dashed gray;margin: 0 0.4em 0.5em 0.4em;box-sizing: border-box;padding-bottom: 0.4em;background-color: white;}#sk-container-id-3 div.sk-label label {font-family: monospace;font-weight: bold;display: inline-block;line-height: 1.2em;}#sk-container-id-3 div.sk-label-container {text-align: center;}#sk-container-id-3 div.sk-container {/* jupyter's `normalize.less` sets `[hidden] { display: none; }` but bootstrap.min.css set `[hidden] { display: none !important; }` so we also need the `!important` here to be able to override the default hidden behavior on the sphinx rendered scikit-learn.org. See: https://github.com/scikit-learn/scikit-learn/issues/21755 */display: inline-block !important;position: relative;}#sk-container-id-3 div.sk-text-repr-fallback {display: none;}</style><div id=\"sk-container-id-3\" class=\"sk-top-container\"><div class=\"sk-text-repr-fallback\"><pre>XGBClassifier(base_score=None, booster=None, callbacks=None,\n",
              "              colsample_bylevel=None, colsample_bynode=None,\n",
              "              colsample_bytree=None, device=None, early_stopping_rounds=None,\n",
              "              enable_categorical=False, eval_metric=None, feature_types=None,\n",
              "              gamma=None, grow_policy=None, importance_type=None,\n",
              "              interaction_constraints=None, learning_rate=0.1, max_bin=None,\n",
              "              max_cat_threshold=None, max_cat_to_onehot=None,\n",
              "              max_delta_step=None, max_depth=None, max_leaves=None,\n",
              "              min_child_weight=None, missing=nan, monotone_constraints=None,\n",
              "              multi_strategy=None, n_estimators=100, n_jobs=None,\n",
              "              num_parallel_tree=None, objective=&#x27;multi:softprob&#x27;, ...)</pre><b>In a Jupyter environment, please rerun this cell to show the HTML representation or trust the notebook. <br />On GitHub, the HTML representation is unable to render, please try loading this page with nbviewer.org.</b></div><div class=\"sk-container\" hidden><div class=\"sk-item\"><div class=\"sk-estimator sk-toggleable\"><input class=\"sk-toggleable__control sk-hidden--visually\" id=\"sk-estimator-id-3\" type=\"checkbox\" checked><label for=\"sk-estimator-id-3\" class=\"sk-toggleable__label sk-toggleable__label-arrow\">XGBClassifier</label><div class=\"sk-toggleable__content\"><pre>XGBClassifier(base_score=None, booster=None, callbacks=None,\n",
              "              colsample_bylevel=None, colsample_bynode=None,\n",
              "              colsample_bytree=None, device=None, early_stopping_rounds=None,\n",
              "              enable_categorical=False, eval_metric=None, feature_types=None,\n",
              "              gamma=None, grow_policy=None, importance_type=None,\n",
              "              interaction_constraints=None, learning_rate=0.1, max_bin=None,\n",
              "              max_cat_threshold=None, max_cat_to_onehot=None,\n",
              "              max_delta_step=None, max_depth=None, max_leaves=None,\n",
              "              min_child_weight=None, missing=nan, monotone_constraints=None,\n",
              "              multi_strategy=None, n_estimators=100, n_jobs=None,\n",
              "              num_parallel_tree=None, objective=&#x27;multi:softprob&#x27;, ...)</pre></div></div></div></div></div>"
            ],
            "text/plain": [
              "XGBClassifier(base_score=None, booster=None, callbacks=None,\n",
              "              colsample_bylevel=None, colsample_bynode=None,\n",
              "              colsample_bytree=None, device=None, early_stopping_rounds=None,\n",
              "              enable_categorical=False, eval_metric=None, feature_types=None,\n",
              "              gamma=None, grow_policy=None, importance_type=None,\n",
              "              interaction_constraints=None, learning_rate=0.1, max_bin=None,\n",
              "              max_cat_threshold=None, max_cat_to_onehot=None,\n",
              "              max_delta_step=None, max_depth=None, max_leaves=None,\n",
              "              min_child_weight=None, missing=nan, monotone_constraints=None,\n",
              "              multi_strategy=None, n_estimators=100, n_jobs=None,\n",
              "              num_parallel_tree=None, objective='multi:softprob', ...)"
            ]
          },
          "execution_count": 53,
          "metadata": {},
          "output_type": "execute_result"
        }
      ],
      "source": [
        "xgb_model = XGBClassifier(learning_rate=0.1, n_estimators=100, random_state=42)\n",
        "xgb_model.fit(X_train, y_train)"
      ]
    },
    {
      "cell_type": "code",
      "execution_count": 54,
      "metadata": {
        "colab": {
          "base_uri": "https://localhost:8080/"
        },
        "id": "dOkDj2XD1-yQ",
        "outputId": "636aee51-da9c-4a35-bc11-b93f74cee39f"
      },
      "outputs": [
        {
          "name": "stdout",
          "output_type": "stream",
          "text": [
            "\n",
            "XGBoost Model : \n",
            "Accuracy :  0.904\n",
            "Classification Report : \n",
            "              precision    recall  f1-score   support\n",
            "\n",
            "         0.0       0.92      0.89      0.91        38\n",
            "         1.0       0.94      0.84      0.89        37\n",
            "         2.0       0.85      0.89      0.87        37\n",
            "         3.0       0.88      0.97      0.93        38\n",
            "         4.0       0.94      0.92      0.93        37\n",
            "\n",
            "    accuracy                           0.90       187\n",
            "   macro avg       0.91      0.90      0.90       187\n",
            "weighted avg       0.91      0.90      0.90       187\n",
            "\n"
          ]
        }
      ],
      "source": [
        "y_pred_xgb = xgb_model.predict(X_test)\n",
        "\n",
        "# Evaluate the XGBoost model\n",
        "print(\"\\nXGBoost Model : \" )\n",
        "accuracy_xgb_smote = round(accuracy_score(y_test, y_pred_xgb),3)\n",
        "print(\"Accuracy : \",accuracy_xgb_smote)\n",
        "print(\"Classification Report : \" )\n",
        "print(classification_report(y_test, y_pred_xgb))"
      ]
    },
    {
      "cell_type": "code",
      "execution_count": 55,
      "metadata": {
        "colab": {
          "base_uri": "https://localhost:8080/"
        },
        "id": "YyCtboAb3IM7",
        "outputId": "51bf4551-d6ff-4c5a-cc81-81533d1a7ed5"
      },
      "outputs": [
        {
          "name": "stdout",
          "output_type": "stream",
          "text": [
            "{'accuracy': 0.904, 'recall': 0.904, 'F1 score': 0.904, 'Precision score ': 0.906}\n"
          ]
        }
      ],
      "source": [
        "evaluation(y_test,y_pred_xgb)"
      ]
    },
    {
      "cell_type": "code",
      "execution_count": 56,
      "metadata": {
        "colab": {
          "base_uri": "https://localhost:8080/",
          "height": 564
        },
        "id": "17UvM0y-3O5e",
        "outputId": "fb9a96c7-492a-454d-a45e-755ff01cbdc6"
      },
      "outputs": [
        {
          "data": {
            "image/png": "[encoded data removed]",
            "text/plain": [
              "<Figure size 800x600 with 2 Axes>"
            ]
          },
          "metadata": {},
          "output_type": "display_data"
        }
      ],
      "source": [
        "cm = confusion_matrix(y_test,y_pred_xgb)\n",
        "\n",
        "plt.figure(figsize=(8, 6))\n",
        "sns.heatmap(cm, annot=True, fmt=\"d\", cmap=\"Reds\")\n",
        "plt.title('Confusion Matrix')\n",
        "plt.xlabel('True')\n",
        "plt.ylabel('Predict')\n",
        "plt.show()"
      ]
    },
    {
      "cell_type": "markdown",
      "metadata": {
        "id": "d8dz8gta4hs7"
      },
      "source": [
        "- Oversample + Normalisasi\n",
        "\n",
        "Pada bagian ini kita akan membuat sebuah model yang dimana data yang dipakai kali ini yang sudah dilakukan oversample dan normalisasi.\n",
        "Algoritma yang digunakan sama seperti sebelumnya yaitu KNN,Random Forest, dan XGBoost. Sekaligus dibuat visualisasi hasil evaluasi pada masing masing model.\n",
        "\n",
        "- KNN"
      ]
    },
    {
      "cell_type": "code",
      "execution_count": 57,
      "metadata": {
        "colab": {
          "base_uri": "https://localhost:8080/",
          "height": 75
        },
        "id": "GPv85Vf25Hox",
        "outputId": "88fbc447-8969-4b0b-ee5b-377942ad69e6"
      },
      "outputs": [
        {
          "data": {
            "text/html": [
              "<style>#sk-container-id-4 {color: black;}#sk-container-id-4 pre{padding: 0;}#sk-container-id-4 div.sk-toggleable {background-color: white;}#sk-container-id-4 label.sk-toggleable__label {cursor: pointer;display: block;width: 100%;margin-bottom: 0;padding: 0.3em;box-sizing: border-box;text-align: center;}#sk-container-id-4 label.sk-toggleable__label-arrow:before {content: \"▸\";float: left;margin-right: 0.25em;color: #696969;}#sk-container-id-4 label.sk-toggleable__label-arrow:hover:before {color: black;}#sk-container-id-4 div.sk-estimator:hover label.sk-toggleable__label-arrow:before {color: black;}#sk-container-id-4 div.sk-toggleable__content {max-height: 0;max-width: 0;overflow: hidden;text-align: left;background-color: #f0f8ff;}#sk-container-id-4 div.sk-toggleable__content pre {margin: 0.2em;color: black;border-radius: 0.25em;background-color: #f0f8ff;}#sk-container-id-4 input.sk-toggleable__control:checked~div.sk-toggleable__content {max-height: 200px;max-width: 100%;overflow: auto;}#sk-container-id-4 input.sk-toggleable__control:checked~label.sk-toggleable__label-arrow:before {content: \"▾\";}#sk-container-id-4 div.sk-estimator input.sk-toggleable__control:checked~label.sk-toggleable__label {background-color: #d4ebff;}#sk-container-id-4 div.sk-label input.sk-toggleable__control:checked~label.sk-toggleable__label {background-color: #d4ebff;}#sk-container-id-4 input.sk-hidden--visually {border: 0;clip: rect(1px 1px 1px 1px);clip: rect(1px, 1px, 1px, 1px);height: 1px;margin: -1px;overflow: hidden;padding: 0;position: absolute;width: 1px;}#sk-container-id-4 div.sk-estimator {font-family: monospace;background-color: #f0f8ff;border: 1px dotted black;border-radius: 0.25em;box-sizing: border-box;margin-bottom: 0.5em;}#sk-container-id-4 div.sk-estimator:hover {background-color: #d4ebff;}#sk-container-id-4 div.sk-parallel-item::after {content: \"\";width: 100%;border-bottom: 1px solid gray;flex-grow: 1;}#sk-container-id-4 div.sk-label:hover label.sk-toggleable__label {background-color: #d4ebff;}#sk-container-id-4 div.sk-serial::before {content: \"\";position: absolute;border-left: 1px solid gray;box-sizing: border-box;top: 0;bottom: 0;left: 50%;z-index: 0;}#sk-container-id-4 div.sk-serial {display: flex;flex-direction: column;align-items: center;background-color: white;padding-right: 0.2em;padding-left: 0.2em;position: relative;}#sk-container-id-4 div.sk-item {position: relative;z-index: 1;}#sk-container-id-4 div.sk-parallel {display: flex;align-items: stretch;justify-content: center;background-color: white;position: relative;}#sk-container-id-4 div.sk-item::before, #sk-container-id-4 div.sk-parallel-item::before {content: \"\";position: absolute;border-left: 1px solid gray;box-sizing: border-box;top: 0;bottom: 0;left: 50%;z-index: -1;}#sk-container-id-4 div.sk-parallel-item {display: flex;flex-direction: column;z-index: 1;position: relative;background-color: white;}#sk-container-id-4 div.sk-parallel-item:first-child::after {align-self: flex-end;width: 50%;}#sk-container-id-4 div.sk-parallel-item:last-child::after {align-self: flex-start;width: 50%;}#sk-container-id-4 div.sk-parallel-item:only-child::after {width: 0;}#sk-container-id-4 div.sk-dashed-wrapped {border: 1px dashed gray;margin: 0 0.4em 0.5em 0.4em;box-sizing: border-box;padding-bottom: 0.4em;background-color: white;}#sk-container-id-4 div.sk-label label {font-family: monospace;font-weight: bold;display: inline-block;line-height: 1.2em;}#sk-container-id-4 div.sk-label-container {text-align: center;}#sk-container-id-4 div.sk-container {/* jupyter's `normalize.less` sets `[hidden] { display: none; }` but bootstrap.min.css set `[hidden] { display: none !important; }` so we also need the `!important` here to be able to override the default hidden behavior on the sphinx rendered scikit-learn.org. See: https://github.com/scikit-learn/scikit-learn/issues/21755 */display: inline-block !important;position: relative;}#sk-container-id-4 div.sk-text-repr-fallback {display: none;}</style><div id=\"sk-container-id-4\" class=\"sk-top-container\"><div class=\"sk-text-repr-fallback\"><pre>KNeighborsClassifier(n_neighbors=3)</pre><b>In a Jupyter environment, please rerun this cell to show the HTML representation or trust the notebook. <br />On GitHub, the HTML representation is unable to render, please try loading this page with nbviewer.org.</b></div><div class=\"sk-container\" hidden><div class=\"sk-item\"><div class=\"sk-estimator sk-toggleable\"><input class=\"sk-toggleable__control sk-hidden--visually\" id=\"sk-estimator-id-4\" type=\"checkbox\" checked><label for=\"sk-estimator-id-4\" class=\"sk-toggleable__label sk-toggleable__label-arrow\">KNeighborsClassifier</label><div class=\"sk-toggleable__content\"><pre>KNeighborsClassifier(n_neighbors=3)</pre></div></div></div></div></div>"
            ],
            "text/plain": [
              "KNeighborsClassifier(n_neighbors=3)"
            ]
          },
          "execution_count": 57,
          "metadata": {},
          "output_type": "execute_result"
        }
      ],
      "source": [
        "from sklearn.neighbors import KNeighborsClassifier\n",
        "from sklearn.ensemble import RandomForestClassifier\n",
        "from xgboost import XGBClassifier\n",
        "from sklearn.metrics import accuracy_score, classification_report\n",
        "\n",
        "knn_model = KNeighborsClassifier(n_neighbors =3 )\n",
        "knn_model.fit(X_train_normal, y_train_normal)"
      ]
    },
    {
      "cell_type": "code",
      "execution_count": 58,
      "metadata": {
        "colab": {
          "base_uri": "https://localhost:8080/"
        },
        "id": "Fxkl2ray7WVC",
        "outputId": "7566f4d8-ee13-42b4-c270-981aff4eee00"
      },
      "outputs": [
        {
          "name": "stdout",
          "output_type": "stream",
          "text": [
            "K-Nearest Neighbors (KNN) Model : \n",
            "Accuracy: 0.861\n",
            "Classification Report:\n",
            "              precision    recall  f1-score   support\n",
            "\n",
            "         0.0       0.88      0.76      0.82        38\n",
            "         1.0       0.78      0.84      0.81        37\n",
            "         2.0       0.87      0.92      0.89        37\n",
            "         3.0       0.92      0.87      0.89        38\n",
            "         4.0       0.87      0.92      0.89        37\n",
            "\n",
            "    accuracy                           0.86       187\n",
            "   macro avg       0.86      0.86      0.86       187\n",
            "weighted avg       0.86      0.86      0.86       187\n",
            "\n"
          ]
        }
      ],
      "source": [
        "y_pred_knn = knn_model.predict(X_test_normal)\n",
        "\n",
        "#Evaluate the KNN model\n",
        "print(\"K-Nearest Neighbors (KNN) Model : \")\n",
        "accuracy_knn_smote_normal = round(accuracy_score(y_test_normal, y_pred_knn),3)\n",
        "print(\"Accuracy:\",accuracy_knn_smote_normal)\n",
        "print(\"Classification Report:\")\n",
        "print(classification_report(y_test_normal, y_pred_knn))"
      ]
    },
    {
      "cell_type": "code",
      "execution_count": 59,
      "metadata": {
        "colab": {
          "base_uri": "https://localhost:8080/"
        },
        "id": "rYsLKvXg8mjs",
        "outputId": "a9f12437-cbc9-4f4f-e974-85f088dfdaaf"
      },
      "outputs": [
        {
          "name": "stdout",
          "output_type": "stream",
          "text": [
            "{'accuracy': 0.861, 'recall': 0.861, 'F1 score': 0.861, 'Precision score ': 0.863}\n"
          ]
        }
      ],
      "source": [
        "evaluation(y_test_normal,y_pred_knn)"
      ]
    },
    {
      "cell_type": "code",
      "execution_count": 60,
      "metadata": {
        "colab": {
          "base_uri": "https://localhost:8080/",
          "height": 564
        },
        "id": "oCUVE1N48xSo",
        "outputId": "d68f3149-49b6-45db-eca5-f46575ad5db6"
      },
      "outputs": [
        {
          "data": {
            "image/png": "[encoded data removed]",
            "text/plain": [
              "<Figure size 800x600 with 2 Axes>"
            ]
          },
          "metadata": {},
          "output_type": "display_data"
        }
      ],
      "source": [
        "cm = confusion_matrix(y_test_normal, y_pred_knn)\n",
        "\n",
        "plt.figure(figsize=(8, 6))\n",
        "sns.heatmap(cm, annot=True, fmt=\"d\", cmap=\"Blues\")\n",
        "plt.title('Confusion Matrix')\n",
        "plt.xlabel('True')\n",
        "plt.ylabel('Predict')\n",
        "plt.show()"
      ]
    },
    {
      "cell_type": "markdown",
      "metadata": {
        "id": "2r3zkBHoCvcf"
      },
      "source": [
        "- Random Forest"
      ]
    },
    {
      "cell_type": "code",
      "execution_count": 61,
      "metadata": {
        "colab": {
          "base_uri": "https://localhost:8080/",
          "height": 75
        },
        "id": "QMy10FTLCz-u",
        "outputId": "2550732e-35f9-4269-f46a-2d6ac366b894"
      },
      "outputs": [
        {
          "data": {
            "text/html": [
              "<style>#sk-container-id-5 {color: black;}#sk-container-id-5 pre{padding: 0;}#sk-container-id-5 div.sk-toggleable {background-color: white;}#sk-container-id-5 label.sk-toggleable__label {cursor: pointer;display: block;width: 100%;margin-bottom: 0;padding: 0.3em;box-sizing: border-box;text-align: center;}#sk-container-id-5 label.sk-toggleable__label-arrow:before {content: \"▸\";float: left;margin-right: 0.25em;color: #696969;}#sk-container-id-5 label.sk-toggleable__label-arrow:hover:before {color: black;}#sk-container-id-5 div.sk-estimator:hover label.sk-toggleable__label-arrow:before {color: black;}#sk-container-id-5 div.sk-toggleable__content {max-height: 0;max-width: 0;overflow: hidden;text-align: left;background-color: #f0f8ff;}#sk-container-id-5 div.sk-toggleable__content pre {margin: 0.2em;color: black;border-radius: 0.25em;background-color: #f0f8ff;}#sk-container-id-5 input.sk-toggleable__control:checked~div.sk-toggleable__content {max-height: 200px;max-width: 100%;overflow: auto;}#sk-container-id-5 input.sk-toggleable__control:checked~label.sk-toggleable__label-arrow:before {content: \"▾\";}#sk-container-id-5 div.sk-estimator input.sk-toggleable__control:checked~label.sk-toggleable__label {background-color: #d4ebff;}#sk-container-id-5 div.sk-label input.sk-toggleable__control:checked~label.sk-toggleable__label {background-color: #d4ebff;}#sk-container-id-5 input.sk-hidden--visually {border: 0;clip: rect(1px 1px 1px 1px);clip: rect(1px, 1px, 1px, 1px);height: 1px;margin: -1px;overflow: hidden;padding: 0;position: absolute;width: 1px;}#sk-container-id-5 div.sk-estimator {font-family: monospace;background-color: #f0f8ff;border: 1px dotted black;border-radius: 0.25em;box-sizing: border-box;margin-bottom: 0.5em;}#sk-container-id-5 div.sk-estimator:hover {background-color: #d4ebff;}#sk-container-id-5 div.sk-parallel-item::after {content: \"\";width: 100%;border-bottom: 1px solid gray;flex-grow: 1;}#sk-container-id-5 div.sk-label:hover label.sk-toggleable__label {background-color: #d4ebff;}#sk-container-id-5 div.sk-serial::before {content: \"\";position: absolute;border-left: 1px solid gray;box-sizing: border-box;top: 0;bottom: 0;left: 50%;z-index: 0;}#sk-container-id-5 div.sk-serial {display: flex;flex-direction: column;align-items: center;background-color: white;padding-right: 0.2em;padding-left: 0.2em;position: relative;}#sk-container-id-5 div.sk-item {position: relative;z-index: 1;}#sk-container-id-5 div.sk-parallel {display: flex;align-items: stretch;justify-content: center;background-color: white;position: relative;}#sk-container-id-5 div.sk-item::before, #sk-container-id-5 div.sk-parallel-item::before {content: \"\";position: absolute;border-left: 1px solid gray;box-sizing: border-box;top: 0;bottom: 0;left: 50%;z-index: -1;}#sk-container-id-5 div.sk-parallel-item {display: flex;flex-direction: column;z-index: 1;position: relative;background-color: white;}#sk-container-id-5 div.sk-parallel-item:first-child::after {align-self: flex-end;width: 50%;}#sk-container-id-5 div.sk-parallel-item:last-child::after {align-self: flex-start;width: 50%;}#sk-container-id-5 div.sk-parallel-item:only-child::after {width: 0;}#sk-container-id-5 div.sk-dashed-wrapped {border: 1px dashed gray;margin: 0 0.4em 0.5em 0.4em;box-sizing: border-box;padding-bottom: 0.4em;background-color: white;}#sk-container-id-5 div.sk-label label {font-family: monospace;font-weight: bold;display: inline-block;line-height: 1.2em;}#sk-container-id-5 div.sk-label-container {text-align: center;}#sk-container-id-5 div.sk-container {/* jupyter's `normalize.less` sets `[hidden] { display: none; }` but bootstrap.min.css set `[hidden] { display: none !important; }` so we also need the `!important` here to be able to override the default hidden behavior on the sphinx rendered scikit-learn.org. See: https://github.com/scikit-learn/scikit-learn/issues/21755 */display: inline-block !important;position: relative;}#sk-container-id-5 div.sk-text-repr-fallback {display: none;}</style><div id=\"sk-container-id-5\" class=\"sk-top-container\"><div class=\"sk-text-repr-fallback\"><pre>RandomForestClassifier(random_state=42)</pre><b>In a Jupyter environment, please rerun this cell to show the HTML representation or trust the notebook. <br />On GitHub, the HTML representation is unable to render, please try loading this page with nbviewer.org.</b></div><div class=\"sk-container\" hidden><div class=\"sk-item\"><div class=\"sk-estimator sk-toggleable\"><input class=\"sk-toggleable__control sk-hidden--visually\" id=\"sk-estimator-id-5\" type=\"checkbox\" checked><label for=\"sk-estimator-id-5\" class=\"sk-toggleable__label sk-toggleable__label-arrow\">RandomForestClassifier</label><div class=\"sk-toggleable__content\"><pre>RandomForestClassifier(random_state=42)</pre></div></div></div></div></div>"
            ],
            "text/plain": [
              "RandomForestClassifier(random_state=42)"
            ]
          },
          "execution_count": 61,
          "metadata": {},
          "output_type": "execute_result"
        }
      ],
      "source": [
        "rf_model = RandomForestClassifier(n_estimators=100, random_state=42)\n",
        "rf_model.fit(X_train_normal, y_train_normal)"
      ]
    },
    {
      "cell_type": "code",
      "execution_count": 62,
      "metadata": {
        "colab": {
          "base_uri": "https://localhost:8080/"
        },
        "id": "8wnAKY7CDYlC",
        "outputId": "e4166c96-0d5c-4557-db58-5413aa571fef"
      },
      "outputs": [
        {
          "name": "stdout",
          "output_type": "stream",
          "text": [
            "\n",
            "Random Forest Model: \n",
            "Accuracy: 0.92\n",
            "Classification Report:\n",
            "              precision    recall  f1-score   support\n",
            "\n",
            "         0.0       0.94      0.89      0.92        38\n",
            "         1.0       0.85      0.92      0.88        37\n",
            "         2.0       0.89      0.89      0.89        37\n",
            "         3.0       0.95      0.97      0.96        38\n",
            "         4.0       0.97      0.92      0.94        37\n",
            "\n",
            "    accuracy                           0.92       187\n",
            "   macro avg       0.92      0.92      0.92       187\n",
            "weighted avg       0.92      0.92      0.92       187\n",
            "\n"
          ]
        }
      ],
      "source": [
        "y_pred_rf = rf_model.predict(X_test_normal)\n",
        "\n",
        "#Evaluate the Random Forest model\n",
        "print(\"\\nRandom Forest Model: \")\n",
        "accuracy_rf_smote_normal = round(accuracy_score(y_test_normal, y_pred_rf),3)\n",
        "print(\"Accuracy:\",accuracy_rf_smote_normal)\n",
        "print(\"Classification Report:\")\n",
        "print(classification_report(y_test_normal, y_pred_rf))"
      ]
    },
    {
      "cell_type": "code",
      "execution_count": 63,
      "metadata": {
        "colab": {
          "base_uri": "https://localhost:8080/"
        },
        "id": "GdRwy80kDtfh",
        "outputId": "aa35aec5-0283-42e1-887d-cf04fdaa61e1"
      },
      "outputs": [
        {
          "name": "stdout",
          "output_type": "stream",
          "text": [
            "{'accuracy': 0.92, 'recall': 0.92, 'F1 score': 0.92, 'Precision score ': 0.922}\n"
          ]
        }
      ],
      "source": [
        "evaluation(y_test_normal,y_pred_rf)"
      ]
    },
    {
      "cell_type": "code",
      "execution_count": 64,
      "metadata": {
        "colab": {
          "base_uri": "https://localhost:8080/",
          "height": 564
        },
        "id": "kmR2hKMGD6TM",
        "outputId": "be6caaca-6519-464a-9593-bf0a2827604c"
      },
      "outputs": [
        {
          "data": {
            "image/png": "[encoded data removed]",
            "text/plain": [
              "<Figure size 800x600 with 2 Axes>"
            ]
          },
          "metadata": {},
          "output_type": "display_data"
        }
      ],
      "source": [
        "cm = confusion_matrix(y_test_normal, y_pred_rf)\n",
        "\n",
        "plt.figure(figsize=(8, 6))\n",
        "sns.heatmap(cm,annot=True, fmt=\"d\", cmap=\"Blues\")\n",
        "plt.title('Confusion Matrix')\n",
        "plt.xlabel('True')\n",
        "plt.ylabel('Predict')\n",
        "plt.show()"
      ]
    },
    {
      "cell_type": "code",
      "execution_count": 65,
      "metadata": {},
      "outputs": [],
      "source": [
        "import pickle\n",
        "\n",
        "with open('model/rf_model.pkl', 'wb') as file:\n",
        "    pickle.dump(rf_model, file)"
      ]
    },
    {
      "cell_type": "code",
      "execution_count": 66,
      "metadata": {
        "colab": {
          "base_uri": "https://localhost:8080/",
          "height": 248
        },
        "id": "qq19vjuyEqWT",
        "outputId": "73bbd2ff-73e2-4b75-85bc-62dfcfb942cb"
      },
      "outputs": [
        {
          "data": {
            "text/html": [
              "<style>#sk-container-id-6 {color: black;}#sk-container-id-6 pre{padding: 0;}#sk-container-id-6 div.sk-toggleable {background-color: white;}#sk-container-id-6 label.sk-toggleable__label {cursor: pointer;display: block;width: 100%;margin-bottom: 0;padding: 0.3em;box-sizing: border-box;text-align: center;}#sk-container-id-6 label.sk-toggleable__label-arrow:before {content: \"▸\";float: left;margin-right: 0.25em;color: #696969;}#sk-container-id-6 label.sk-toggleable__label-arrow:hover:before {color: black;}#sk-container-id-6 div.sk-estimator:hover label.sk-toggleable__label-arrow:before {color: black;}#sk-container-id-6 div.sk-toggleable__content {max-height: 0;max-width: 0;overflow: hidden;text-align: left;background-color: #f0f8ff;}#sk-container-id-6 div.sk-toggleable__content pre {margin: 0.2em;color: black;border-radius: 0.25em;background-color: #f0f8ff;}#sk-container-id-6 input.sk-toggleable__control:checked~div.sk-toggleable__content {max-height: 200px;max-width: 100%;overflow: auto;}#sk-container-id-6 input.sk-toggleable__control:checked~label.sk-toggleable__label-arrow:before {content: \"▾\";}#sk-container-id-6 div.sk-estimator input.sk-toggleable__control:checked~label.sk-toggleable__label {background-color: #d4ebff;}#sk-container-id-6 div.sk-label input.sk-toggleable__control:checked~label.sk-toggleable__label {background-color: #d4ebff;}#sk-container-id-6 input.sk-hidden--visually {border: 0;clip: rect(1px 1px 1px 1px);clip: rect(1px, 1px, 1px, 1px);height: 1px;margin: -1px;overflow: hidden;padding: 0;position: absolute;width: 1px;}#sk-container-id-6 div.sk-estimator {font-family: monospace;background-color: #f0f8ff;border: 1px dotted black;border-radius: 0.25em;box-sizing: border-box;margin-bottom: 0.5em;}#sk-container-id-6 div.sk-estimator:hover {background-color: #d4ebff;}#sk-container-id-6 div.sk-parallel-item::after {content: \"\";width: 100%;border-bottom: 1px solid gray;flex-grow: 1;}#sk-container-id-6 div.sk-label:hover label.sk-toggleable__label {background-color: #d4ebff;}#sk-container-id-6 div.sk-serial::before {content: \"\";position: absolute;border-left: 1px solid gray;box-sizing: border-box;top: 0;bottom: 0;left: 50%;z-index: 0;}#sk-container-id-6 div.sk-serial {display: flex;flex-direction: column;align-items: center;background-color: white;padding-right: 0.2em;padding-left: 0.2em;position: relative;}#sk-container-id-6 div.sk-item {position: relative;z-index: 1;}#sk-container-id-6 div.sk-parallel {display: flex;align-items: stretch;justify-content: center;background-color: white;position: relative;}#sk-container-id-6 div.sk-item::before, #sk-container-id-6 div.sk-parallel-item::before {content: \"\";position: absolute;border-left: 1px solid gray;box-sizing: border-box;top: 0;bottom: 0;left: 50%;z-index: -1;}#sk-container-id-6 div.sk-parallel-item {display: flex;flex-direction: column;z-index: 1;position: relative;background-color: white;}#sk-container-id-6 div.sk-parallel-item:first-child::after {align-self: flex-end;width: 50%;}#sk-container-id-6 div.sk-parallel-item:last-child::after {align-self: flex-start;width: 50%;}#sk-container-id-6 div.sk-parallel-item:only-child::after {width: 0;}#sk-container-id-6 div.sk-dashed-wrapped {border: 1px dashed gray;margin: 0 0.4em 0.5em 0.4em;box-sizing: border-box;padding-bottom: 0.4em;background-color: white;}#sk-container-id-6 div.sk-label label {font-family: monospace;font-weight: bold;display: inline-block;line-height: 1.2em;}#sk-container-id-6 div.sk-label-container {text-align: center;}#sk-container-id-6 div.sk-container {/* jupyter's `normalize.less` sets `[hidden] { display: none; }` but bootstrap.min.css set `[hidden] { display: none !important; }` so we also need the `!important` here to be able to override the default hidden behavior on the sphinx rendered scikit-learn.org. See: https://github.com/scikit-learn/scikit-learn/issues/21755 */display: inline-block !important;position: relative;}#sk-container-id-6 div.sk-text-repr-fallback {display: none;}</style><div id=\"sk-container-id-6\" class=\"sk-top-container\"><div class=\"sk-text-repr-fallback\"><pre>XGBClassifier(base_score=None, booster=None, callbacks=None,\n",
              "              colsample_bylevel=None, colsample_bynode=None,\n",
              "              colsample_bytree=None, device=None, early_stopping_rounds=None,\n",
              "              enable_categorical=False, eval_metric=None, feature_types=None,\n",
              "              gamma=None, grow_policy=None, importance_type=None,\n",
              "              interaction_constraints=None, learning_rate=0.1, max_bin=None,\n",
              "              max_cat_threshold=None, max_cat_to_onehot=None,\n",
              "              max_delta_step=None, max_depth=None, max_leaves=None,\n",
              "              min_child_weight=None, missing=nan, monotone_constraints=None,\n",
              "              multi_strategy=None, n_estimators=100, n_jobs=None,\n",
              "              num_parallel_tree=None, objective=&#x27;multi:softprob&#x27;, ...)</pre><b>In a Jupyter environment, please rerun this cell to show the HTML representation or trust the notebook. <br />On GitHub, the HTML representation is unable to render, please try loading this page with nbviewer.org.</b></div><div class=\"sk-container\" hidden><div class=\"sk-item\"><div class=\"sk-estimator sk-toggleable\"><input class=\"sk-toggleable__control sk-hidden--visually\" id=\"sk-estimator-id-6\" type=\"checkbox\" checked><label for=\"sk-estimator-id-6\" class=\"sk-toggleable__label sk-toggleable__label-arrow\">XGBClassifier</label><div class=\"sk-toggleable__content\"><pre>XGBClassifier(base_score=None, booster=None, callbacks=None,\n",
              "              colsample_bylevel=None, colsample_bynode=None,\n",
              "              colsample_bytree=None, device=None, early_stopping_rounds=None,\n",
              "              enable_categorical=False, eval_metric=None, feature_types=None,\n",
              "              gamma=None, grow_policy=None, importance_type=None,\n",
              "              interaction_constraints=None, learning_rate=0.1, max_bin=None,\n",
              "              max_cat_threshold=None, max_cat_to_onehot=None,\n",
              "              max_delta_step=None, max_depth=None, max_leaves=None,\n",
              "              min_child_weight=None, missing=nan, monotone_constraints=None,\n",
              "              multi_strategy=None, n_estimators=100, n_jobs=None,\n",
              "              num_parallel_tree=None, objective=&#x27;multi:softprob&#x27;, ...)</pre></div></div></div></div></div>"
            ],
            "text/plain": [
              "XGBClassifier(base_score=None, booster=None, callbacks=None,\n",
              "              colsample_bylevel=None, colsample_bynode=None,\n",
              "              colsample_bytree=None, device=None, early_stopping_rounds=None,\n",
              "              enable_categorical=False, eval_metric=None, feature_types=None,\n",
              "              gamma=None, grow_policy=None, importance_type=None,\n",
              "              interaction_constraints=None, learning_rate=0.1, max_bin=None,\n",
              "              max_cat_threshold=None, max_cat_to_onehot=None,\n",
              "              max_delta_step=None, max_depth=None, max_leaves=None,\n",
              "              min_child_weight=None, missing=nan, monotone_constraints=None,\n",
              "              multi_strategy=None, n_estimators=100, n_jobs=None,\n",
              "              num_parallel_tree=None, objective='multi:softprob', ...)"
            ]
          },
          "execution_count": 66,
          "metadata": {},
          "output_type": "execute_result"
        }
      ],
      "source": [
        "xgb_model = XGBClassifier(learning_rate=0.1, n_estimators=100, random_state=42)\n",
        "xgb_model.fit(X_train_normal, y_train_normal)"
      ]
    },
    {
      "cell_type": "code",
      "execution_count": 67,
      "metadata": {
        "colab": {
          "base_uri": "https://localhost:8080/"
        },
        "id": "xZnAEdgcE4QY",
        "outputId": "79fe62c7-b97f-4ecb-baa7-c02ab427b54b"
      },
      "outputs": [
        {
          "name": "stdout",
          "output_type": "stream",
          "text": [
            "\n",
            "XGBoost Model : \n",
            "Accuracy :  0.904\n",
            "Classification Report : \n",
            "              precision    recall  f1-score   support\n",
            "\n",
            "         0.0       0.92      0.89      0.91        38\n",
            "         1.0       0.94      0.84      0.89        37\n",
            "         2.0       0.85      0.89      0.87        37\n",
            "         3.0       0.88      0.97      0.93        38\n",
            "         4.0       0.94      0.92      0.93        37\n",
            "\n",
            "    accuracy                           0.90       187\n",
            "   macro avg       0.91      0.90      0.90       187\n",
            "weighted avg       0.91      0.90      0.90       187\n",
            "\n"
          ]
        }
      ],
      "source": [
        "y_pred_xgb = xgb_model.predict(X_test_normal)\n",
        "\n",
        "# Evaluate the XGBoost model\n",
        "print(\"\\nXGBoost Model : \" )\n",
        "accuracy_xgb_smote_normal = round(accuracy_score(y_test_normal, y_pred_xgb),3)\n",
        "print(\"Accuracy : \",accuracy_xgb_smote_normal)\n",
        "print(\"Classification Report : \" )\n",
        "print(classification_report(y_test_normal, y_pred_xgb))"
      ]
    },
    {
      "cell_type": "code",
      "execution_count": 68,
      "metadata": {
        "colab": {
          "base_uri": "https://localhost:8080/"
        },
        "id": "wHxPhlIWFmWI",
        "outputId": "546e43ba-c014-4eec-fd48-2f1df353c51b"
      },
      "outputs": [
        {
          "name": "stdout",
          "output_type": "stream",
          "text": [
            "{'accuracy': 0.904, 'recall': 0.904, 'F1 score': 0.904, 'Precision score ': 0.906}\n"
          ]
        }
      ],
      "source": [
        "evaluation(y_test_normal,y_pred_xgb)"
      ]
    },
    {
      "cell_type": "code",
      "execution_count": 69,
      "metadata": {
        "colab": {
          "base_uri": "https://localhost:8080/",
          "height": 564
        },
        "id": "Z1wRxa0ZFvWO",
        "outputId": "9abb6def-a9cc-41bf-ddd9-f66d5046d9ab"
      },
      "outputs": [
        {
          "data": {
            "image/png": "[encoded data removed]",
            "text/plain": [
              "<Figure size 800x600 with 2 Axes>"
            ]
          },
          "metadata": {},
          "output_type": "display_data"
        }
      ],
      "source": [
        "cm = confusion_matrix(y_test_normal,y_pred_xgb)\n",
        "\n",
        "plt.figure(figsize=(8, 6))\n",
        "sns.heatmap(cm, annot=True, fmt=\"d\", cmap=\"Reds\")\n",
        "plt.title('Confusion Matrix')\n",
        "plt.xlabel('True')\n",
        "plt.ylabel('Predict')\n",
        "plt.show()"
      ]
    },
    {
      "cell_type": "markdown",
      "metadata": {
        "id": "DFn6crroH6EU"
      },
      "source": [
        "- Tunning + Normalization + Oversample\n",
        "\n",
        "Pada pembuatan model kali ini menggunakan algoritma yang sama (KNN,Random Forest, dan XGBoost), namun data yang digunakan adalah data yang sudah dilakukan Tunning Parameter, Normalisasi dan Oversample\n",
        "\n",
        "- KNN"
      ]
    },
    {
      "cell_type": "code",
      "execution_count": 70,
      "metadata": {
        "colab": {
          "base_uri": "https://localhost:8080/",
          "height": 75
        },
        "id": "h9LLjIh-H656",
        "outputId": "0d0696d2-f403-4e45-8e07-af1a089a128b"
      },
      "outputs": [
        {
          "data": {
            "text/html": [
              "<style>#sk-container-id-7 {color: black;}#sk-container-id-7 pre{padding: 0;}#sk-container-id-7 div.sk-toggleable {background-color: white;}#sk-container-id-7 label.sk-toggleable__label {cursor: pointer;display: block;width: 100%;margin-bottom: 0;padding: 0.3em;box-sizing: border-box;text-align: center;}#sk-container-id-7 label.sk-toggleable__label-arrow:before {content: \"▸\";float: left;margin-right: 0.25em;color: #696969;}#sk-container-id-7 label.sk-toggleable__label-arrow:hover:before {color: black;}#sk-container-id-7 div.sk-estimator:hover label.sk-toggleable__label-arrow:before {color: black;}#sk-container-id-7 div.sk-toggleable__content {max-height: 0;max-width: 0;overflow: hidden;text-align: left;background-color: #f0f8ff;}#sk-container-id-7 div.sk-toggleable__content pre {margin: 0.2em;color: black;border-radius: 0.25em;background-color: #f0f8ff;}#sk-container-id-7 input.sk-toggleable__control:checked~div.sk-toggleable__content {max-height: 200px;max-width: 100%;overflow: auto;}#sk-container-id-7 input.sk-toggleable__control:checked~label.sk-toggleable__label-arrow:before {content: \"▾\";}#sk-container-id-7 div.sk-estimator input.sk-toggleable__control:checked~label.sk-toggleable__label {background-color: #d4ebff;}#sk-container-id-7 div.sk-label input.sk-toggleable__control:checked~label.sk-toggleable__label {background-color: #d4ebff;}#sk-container-id-7 input.sk-hidden--visually {border: 0;clip: rect(1px 1px 1px 1px);clip: rect(1px, 1px, 1px, 1px);height: 1px;margin: -1px;overflow: hidden;padding: 0;position: absolute;width: 1px;}#sk-container-id-7 div.sk-estimator {font-family: monospace;background-color: #f0f8ff;border: 1px dotted black;border-radius: 0.25em;box-sizing: border-box;margin-bottom: 0.5em;}#sk-container-id-7 div.sk-estimator:hover {background-color: #d4ebff;}#sk-container-id-7 div.sk-parallel-item::after {content: \"\";width: 100%;border-bottom: 1px solid gray;flex-grow: 1;}#sk-container-id-7 div.sk-label:hover label.sk-toggleable__label {background-color: #d4ebff;}#sk-container-id-7 div.sk-serial::before {content: \"\";position: absolute;border-left: 1px solid gray;box-sizing: border-box;top: 0;bottom: 0;left: 50%;z-index: 0;}#sk-container-id-7 div.sk-serial {display: flex;flex-direction: column;align-items: center;background-color: white;padding-right: 0.2em;padding-left: 0.2em;position: relative;}#sk-container-id-7 div.sk-item {position: relative;z-index: 1;}#sk-container-id-7 div.sk-parallel {display: flex;align-items: stretch;justify-content: center;background-color: white;position: relative;}#sk-container-id-7 div.sk-item::before, #sk-container-id-7 div.sk-parallel-item::before {content: \"\";position: absolute;border-left: 1px solid gray;box-sizing: border-box;top: 0;bottom: 0;left: 50%;z-index: -1;}#sk-container-id-7 div.sk-parallel-item {display: flex;flex-direction: column;z-index: 1;position: relative;background-color: white;}#sk-container-id-7 div.sk-parallel-item:first-child::after {align-self: flex-end;width: 50%;}#sk-container-id-7 div.sk-parallel-item:last-child::after {align-self: flex-start;width: 50%;}#sk-container-id-7 div.sk-parallel-item:only-child::after {width: 0;}#sk-container-id-7 div.sk-dashed-wrapped {border: 1px dashed gray;margin: 0 0.4em 0.5em 0.4em;box-sizing: border-box;padding-bottom: 0.4em;background-color: white;}#sk-container-id-7 div.sk-label label {font-family: monospace;font-weight: bold;display: inline-block;line-height: 1.2em;}#sk-container-id-7 div.sk-label-container {text-align: center;}#sk-container-id-7 div.sk-container {/* jupyter's `normalize.less` sets `[hidden] { display: none; }` but bootstrap.min.css set `[hidden] { display: none !important; }` so we also need the `!important` here to be able to override the default hidden behavior on the sphinx rendered scikit-learn.org. See: https://github.com/scikit-learn/scikit-learn/issues/21755 */display: inline-block !important;position: relative;}#sk-container-id-7 div.sk-text-repr-fallback {display: none;}</style><div id=\"sk-container-id-7\" class=\"sk-top-container\"><div class=\"sk-text-repr-fallback\"><pre>KNeighborsClassifier(n_neighbors=3)</pre><b>In a Jupyter environment, please rerun this cell to show the HTML representation or trust the notebook. <br />On GitHub, the HTML representation is unable to render, please try loading this page with nbviewer.org.</b></div><div class=\"sk-container\" hidden><div class=\"sk-item\"><div class=\"sk-estimator sk-toggleable\"><input class=\"sk-toggleable__control sk-hidden--visually\" id=\"sk-estimator-id-7\" type=\"checkbox\" checked><label for=\"sk-estimator-id-7\" class=\"sk-toggleable__label sk-toggleable__label-arrow\">KNeighborsClassifier</label><div class=\"sk-toggleable__content\"><pre>KNeighborsClassifier(n_neighbors=3)</pre></div></div></div></div></div>"
            ],
            "text/plain": [
              "KNeighborsClassifier(n_neighbors=3)"
            ]
          },
          "execution_count": 70,
          "metadata": {},
          "output_type": "execute_result"
        }
      ],
      "source": [
        "from sklearn.neighbors import KNeighborsClassifier\n",
        "from sklearn.ensemble import RandomForestClassifier\n",
        "from xgboost import XGBClassifier\n",
        "from sklearn.metrics import accuracy_score, classification_report\n",
        "from sklearn.model_selection import RandomizedSearchCV\n",
        "\n",
        "knn_model = KNeighborsClassifier(n_neighbors =3 )\n",
        "knn_model.fit(X_train_normal, y_train_normal)"
      ]
    },
    {
      "cell_type": "markdown",
      "metadata": {
        "id": "VHlgE9eoI89V"
      },
      "source": [
        "Setiap parameter tunning tidak selalu sama karena bergantung pada algoritma yang digunakan"
      ]
    },
    {
      "cell_type": "code",
      "execution_count": 71,
      "metadata": {
        "colab": {
          "base_uri": "https://localhost:8080/"
        },
        "id": "3P_m75RdJKr_",
        "outputId": "ef4b1f18-fb79-4f3f-f277-a157356534db"
      },
      "outputs": [
        {
          "name": "stdout",
          "output_type": "stream",
          "text": [
            "Best parameters: {'weights': 'distance', 'n_neighbors': 3, 'metric': 'manhattan', 'leaf_size': 18, 'algorithm': 'ball_tree'}\n"
          ]
        }
      ],
      "source": [
        "knn_model = KNeighborsClassifier()\n",
        "\n",
        "param_grid = {\n",
        "    \"n_neighbors\": range(3, 21),\n",
        "    \"metric\" : [\"euclidean\",\"manhattan\",\"chebyshev\"],\n",
        "    \"weights\" : [\"uniform\",\"distance\"],\n",
        "    \"algorithm\" : [\"auto\",\"ball_tree\",\"kd_tree\"],\n",
        "    \"leaf_size\" : range(10, 61),\n",
        "}\n",
        "\n",
        "knn_model = RandomizedSearchCV(estimator=knn_model, param_distributions=param_grid, n_iter=100, scoring=\"accuracy\", cv=5)\n",
        "\n",
        "knn_model.fit(X_train_normal, y_train_normal)\n",
        "\n",
        "best_params = knn_model.best_params_\n",
        "print(f\"Best parameters: {best_params}\")"
      ]
    },
    {
      "cell_type": "code",
      "execution_count": 72,
      "metadata": {
        "colab": {
          "base_uri": "https://localhost:8080/"
        },
        "id": "QFpFCM9lfUs3",
        "outputId": "0062d2fc-ed61-4dc8-8b42-eafe6c4b45ad"
      },
      "outputs": [
        {
          "name": "stdout",
          "output_type": "stream",
          "text": [
            "K-Nearest Neighbors (KNN) Model : \n",
            "Accuracy :  0.904\n",
            "Classification Report : \n",
            "              precision    recall  f1-score   support\n",
            "\n",
            "         0.0       0.97      0.84      0.90        38\n",
            "         1.0       0.80      0.86      0.83        37\n",
            "         2.0       0.92      0.95      0.93        37\n",
            "         3.0       0.97      0.95      0.96        38\n",
            "         4.0       0.95      1.00      0.97        37\n",
            "\n",
            "    accuracy                           0.92       187\n",
            "   macro avg       0.92      0.92      0.92       187\n",
            "weighted avg       0.92      0.92      0.92       187\n",
            "\n"
          ]
        }
      ],
      "source": [
        "y_pred_knn = knn_model.predict(X_test_normal)\n",
        "\n",
        "# Evaluate the KNN model\n",
        "print(\"K-Nearest Neighbors (KNN) Model : \" )\n",
        "accuracy_knn_smote_normal_Tun = round(accuracy_score(y_test_normal, y_pred_xgb),3)\n",
        "print(\"Accuracy : \",accuracy_knn_smote_normal_Tun)\n",
        "print(\"Classification Report : \" )\n",
        "print(classification_report(y_test_normal, y_pred_knn))"
      ]
    },
    {
      "cell_type": "code",
      "execution_count": 73,
      "metadata": {
        "colab": {
          "base_uri": "https://localhost:8080/"
        },
        "id": "hjon6lGcgdxI",
        "outputId": "1bd1a128-dd8a-4b83-ffa6-2a610e6a6252"
      },
      "outputs": [
        {
          "name": "stdout",
          "output_type": "stream",
          "text": [
            "{'accuracy': 0.92, 'recall': 0.92, 'F1 score': 0.92, 'Precision score ': 0.923}\n"
          ]
        }
      ],
      "source": [
        "evaluation(y_test_normal,y_pred_knn)"
      ]
    },
    {
      "cell_type": "code",
      "execution_count": 74,
      "metadata": {
        "colab": {
          "base_uri": "https://localhost:8080/",
          "height": 564
        },
        "id": "mv914z-Hgo2z",
        "outputId": "1de49d3e-6002-4a18-ab96-fa68d55f7bea"
      },
      "outputs": [
        {
          "data": {
            "image/png": "[encoded data removed]",
            "text/plain": [
              "<Figure size 800x600 with 2 Axes>"
            ]
          },
          "metadata": {},
          "output_type": "display_data"
        }
      ],
      "source": [
        "cm = confusion_matrix(y_test_normal,y_pred_knn)\n",
        "\n",
        "plt.figure(figsize=(8, 6))\n",
        "sns.heatmap(cm, annot=True, fmt=\"d\", cmap=\"Greens\")\n",
        "plt.title('Confusion Matrix')\n",
        "plt.xlabel('True')\n",
        "plt.ylabel('Predict')\n",
        "plt.show()"
      ]
    },
    {
      "cell_type": "markdown",
      "metadata": {
        "id": "Tiv_la0jg67a"
      },
      "source": [
        "Random Forest"
      ]
    },
    {
      "cell_type": "code",
      "execution_count": 75,
      "metadata": {
        "colab": {
          "base_uri": "https://localhost:8080/"
        },
        "id": "vdtAM9z-hDrC",
        "outputId": "53a7fded-5987-4b23-e80f-9b85a89b820d"
      },
      "outputs": [
        {
          "name": "stderr",
          "output_type": "stream",
          "text": [
            "C:\\Users\\habib\\AppData\\Local\\Packages\\PythonSoftwareFoundation.Python.3.10_qbz5n2kfra8p0\\LocalCache\\local-packages\\Python310\\site-packages\\sklearn\\model_selection\\_search.py:307: UserWarning: The total space of parameters 32 is smaller than n_iter=100. Running 32 iterations. For exhaustive searches, use GridSearchCV.\n",
            "  warnings.warn(\n"
          ]
        },
        {
          "name": "stdout",
          "output_type": "stream",
          "text": [
            "Best parameters:{'n_estimators': 200, 'min_samples_split': 2, 'min_samples_leaf': 1, 'max_features': 'sqrt', 'max_depth': 15}\n"
          ]
        }
      ],
      "source": [
        "rf_model = RandomForestClassifier()\n",
        "\n",
        "param_grid = {\n",
        "    \"n_estimators\": [100,200],\n",
        "    \"max_depth\": [10,15],\n",
        "    \"min_samples_leaf\": [1,2],\n",
        "    \"min_samples_split\": [2,5],\n",
        "    \"max_features\": [\"sqrt\",\"log2\"],\n",
        "    #\"random_state\": [42,100,200]\n",
        "}\n",
        "\n",
        "rf_model = RandomizedSearchCV(rf_model, param_grid, n_iter=100, cv=5, n_jobs=-1)\n",
        "rf_model.fit(X_train_normal, y_train_normal)\n",
        "\n",
        "best_params = rf_model.best_params_\n",
        "print(f\"Best parameters:{best_params}\")"
      ]
    },
    {
      "cell_type": "code",
      "execution_count": 76,
      "metadata": {
        "colab": {
          "base_uri": "https://localhost:8080/"
        },
        "id": "fBbY5Gcqirw7",
        "outputId": "259890a9-76ac-4726-fb6c-46877e2fc8bf"
      },
      "outputs": [
        {
          "name": "stdout",
          "output_type": "stream",
          "text": [
            "\n",
            "Random Forest Model: \n",
            "Accuracy: 0.92\n",
            "Classification Report:\n",
            "              precision    recall  f1-score   support\n",
            "\n",
            "         0.0       0.95      0.92      0.93        38\n",
            "         1.0       0.89      0.89      0.89        37\n",
            "         2.0       0.87      0.89      0.88        37\n",
            "         3.0       0.93      0.97      0.95        38\n",
            "         4.0       0.97      0.92      0.94        37\n",
            "\n",
            "    accuracy                           0.92       187\n",
            "   macro avg       0.92      0.92      0.92       187\n",
            "weighted avg       0.92      0.92      0.92       187\n",
            "\n"
          ]
        }
      ],
      "source": [
        "y_pred_rf = rf_model.predict(X_test_normal)\n",
        "\n",
        "#Evaluate the Random Forest model\n",
        "print(\"\\nRandom Forest Model: \")\n",
        "accuracy_rf_smote_normal_Tun = round(accuracy_score(y_test_normal, y_pred_rf),3)\n",
        "print(\"Accuracy:\",accuracy_rf_smote_normal_Tun)\n",
        "print(\"Classification Report:\")\n",
        "print(classification_report(y_test_normal, y_pred_rf))"
      ]
    },
    {
      "cell_type": "code",
      "execution_count": 77,
      "metadata": {
        "colab": {
          "base_uri": "https://localhost:8080/"
        },
        "id": "NS8191WOjJd4",
        "outputId": "03f66a06-351b-49d9-af7a-07089c6f487b"
      },
      "outputs": [
        {
          "name": "stdout",
          "output_type": "stream",
          "text": [
            "{'accuracy': 0.92, 'recall': 0.92, 'F1 score': 0.92, 'Precision score ': 0.921}\n"
          ]
        }
      ],
      "source": [
        "evaluation(y_test_normal, y_pred_rf)"
      ]
    },
    {
      "cell_type": "code",
      "execution_count": 78,
      "metadata": {
        "colab": {
          "base_uri": "https://localhost:8080/",
          "height": 564
        },
        "id": "88_KbJQOjZ9T",
        "outputId": "a56752bd-c5c2-4704-ecbc-72d5f886fa26"
      },
      "outputs": [
        {
          "data": {
            "image/png": "[encoded data removed]",
            "text/plain": [
              "<Figure size 800x600 with 2 Axes>"
            ]
          },
          "metadata": {},
          "output_type": "display_data"
        }
      ],
      "source": [
        "cm = confusion_matrix(y_test_normal, y_pred_knn)\n",
        "\n",
        "plt.figure(figsize=(8, 6))\n",
        "sns.heatmap(cm,annot=True, fmt=\"d\", cmap=\"Reds\")\n",
        "plt.title('Confusion Matrix')\n",
        "plt.xlabel('True')\n",
        "plt.ylabel('Predict')\n",
        "plt.show()"
      ]
    },
    {
      "cell_type": "markdown",
      "metadata": {
        "id": "cs7ESqtFju_4"
      },
      "source": [
        "- XGBosst"
      ]
    },
    {
      "cell_type": "code",
      "execution_count": 79,
      "metadata": {
        "colab": {
          "base_uri": "https://localhost:8080/"
        },
        "id": "bSMCT2nvjyTR",
        "outputId": "6b0d3e9a-c5d8-4ff0-8f91-1984446c5e9c"
      },
      "outputs": [
        {
          "name": "stdout",
          "output_type": "stream",
          "text": [
            "Best parameters: {'n_estimators': 100, 'max_depth': 7, 'learning_rate': 0.1, 'gamma': 0, 'colsample_bytree': 0.7}\n"
          ]
        }
      ],
      "source": [
        "xgb_model = XGBClassifier()\n",
        "\n",
        "param_grid = {\n",
        "    \"max_depth\": [3,5,7],\n",
        "    \"learning_rate\":[0.10,0.1],\n",
        "    \"n_estimators\": [100, 200],\n",
        "    \"gamma\": [0,0.1],\n",
        "    \"colsample_bytree\": [0.7, 0.8],\n",
        "}\n",
        "\n",
        "xgb_model = RandomizedSearchCV(xgb_model, param_grid, n_iter=10, cv=5, n_jobs=-1)\n",
        "\n",
        "xgb_model.fit(X_train_normal, y_train_normal)\n",
        "\n",
        "best_params = xgb_model.best_params_\n",
        "print(f\"Best parameters: {best_params}\")"
      ]
    },
    {
      "cell_type": "code",
      "execution_count": 80,
      "metadata": {
        "colab": {
          "base_uri": "https://localhost:8080/"
        },
        "id": "6RFd5I0Fme8Z",
        "outputId": "0bb555d3-e545-4595-ffc9-7ae515607f3a"
      },
      "outputs": [
        {
          "name": "stdout",
          "output_type": "stream",
          "text": [
            "\n",
            "XGBoost Model : \n",
            "Accuracy :  0.92\n",
            "Classification Report : \n",
            "              precision    recall  f1-score   support\n",
            "\n",
            "         0.0       0.90      0.95      0.92        38\n",
            "         1.0       0.89      0.84      0.86        37\n",
            "         2.0       0.89      0.86      0.88        37\n",
            "         3.0       0.95      1.00      0.97        38\n",
            "         4.0       0.97      0.95      0.96        37\n",
            "\n",
            "    accuracy                           0.92       187\n",
            "   macro avg       0.92      0.92      0.92       187\n",
            "weighted avg       0.92      0.92      0.92       187\n",
            "\n"
          ]
        }
      ],
      "source": [
        "y_pred_xgb = xgb_model.predict(X_test_normal)\n",
        "\n",
        "# Evaluate the XGBoost model\n",
        "print(\"\\nXGBoost Model : \" )\n",
        "accuracy_xgb_smote_normal_Tun = round(accuracy_score(y_test_normal, y_pred_xgb),3)\n",
        "print(\"Accuracy : \",accuracy_xgb_smote_normal_Tun)\n",
        "print(\"Classification Report : \" )\n",
        "print(classification_report(y_test_normal, y_pred_xgb))"
      ]
    },
    {
      "cell_type": "code",
      "execution_count": 81,
      "metadata": {
        "colab": {
          "base_uri": "https://localhost:8080/"
        },
        "id": "8YXjQiEkm0YD",
        "outputId": "dfa3547d-3699-4b27-b61d-f9313bee9dbd"
      },
      "outputs": [
        {
          "name": "stdout",
          "output_type": "stream",
          "text": [
            "{'accuracy': 0.92, 'recall': 0.92, 'F1 score': 0.919, 'Precision score ': 0.919}\n"
          ]
        }
      ],
      "source": [
        "evaluation(y_test_normal, y_pred_xgb)"
      ]
    },
    {
      "cell_type": "code",
      "execution_count": 82,
      "metadata": {
        "colab": {
          "base_uri": "https://localhost:8080/",
          "height": 564
        },
        "id": "UoGyYTzunBpa",
        "outputId": "7f5841aa-82f1-467d-eb21-0207150b5507"
      },
      "outputs": [
        {
          "data": {
            "image/png": "[encoded data removed]",
            "text/plain": [
              "<Figure size 800x600 with 2 Axes>"
            ]
          },
          "metadata": {},
          "output_type": "display_data"
        }
      ],
      "source": [
        "cm = confusion_matrix(y_test_normal,y_pred_xgb)\n",
        "\n",
        "plt.figure(figsize=(8, 6))\n",
        "sns.heatmap(cm, annot=True, fmt=\"d\", cmap=\"Blues\")\n",
        "plt.title('Confusion Matrix')\n",
        "plt.xlabel('True')\n",
        "plt.ylabel('Predict')\n",
        "plt.show()"
      ]
    },
    {
      "cell_type": "markdown",
      "metadata": {
        "id": "NQ-30FMCoEev"
      },
      "source": [
        "8. Evaluasi\n",
        "\n",
        "Selanjutnya kita akan melakukan evaluasi data sekaligus membandingkan antara algoritma guna dengan tujuan mengetahui jenis model algoritma yang menghasilkan hasil akurasi terbaik"
      ]
    },
    {
      "cell_type": "code",
      "execution_count": 83,
      "metadata": {
        "colab": {
          "base_uri": "https://localhost:8080/",
          "height": 143
        },
        "id": "hY6Ec4NBoepS",
        "outputId": "08408d55-23df-4386-abbd-92595f109f51"
      },
      "outputs": [
        {
          "data": {
            "text/html": [
              "<div>\n",
              "<style scoped>\n",
              "    .dataframe tbody tr th:only-of-type {\n",
              "        vertical-align: middle;\n",
              "    }\n",
              "\n",
              "    .dataframe tbody tr th {\n",
              "        vertical-align: top;\n",
              "    }\n",
              "\n",
              "    .dataframe thead th {\n",
              "        text-align: right;\n",
              "    }\n",
              "</style>\n",
              "<table border=\"1\" class=\"dataframe\">\n",
              "  <thead>\n",
              "    <tr style=\"text-align: right;\">\n",
              "      <th></th>\n",
              "      <th>Model</th>\n",
              "      <th>Accuracy</th>\n",
              "    </tr>\n",
              "  </thead>\n",
              "  <tbody>\n",
              "    <tr>\n",
              "      <th>0</th>\n",
              "      <td>K-Nearest Neighbour</td>\n",
              "      <td>75.4</td>\n",
              "    </tr>\n",
              "    <tr>\n",
              "      <th>1</th>\n",
              "      <td>Random Forest</td>\n",
              "      <td>92.0</td>\n",
              "    </tr>\n",
              "    <tr>\n",
              "      <th>2</th>\n",
              "      <td>XGBoost</td>\n",
              "      <td>90.4</td>\n",
              "    </tr>\n",
              "  </tbody>\n",
              "</table>\n",
              "</div>"
            ],
            "text/plain": [
              "                 Model  Accuracy\n",
              "0  K-Nearest Neighbour      75.4\n",
              "1        Random Forest      92.0\n",
              "2              XGBoost      90.4"
            ]
          },
          "execution_count": 83,
          "metadata": {},
          "output_type": "execute_result"
        }
      ],
      "source": [
        "import matplotlib.pyplot as plt\n",
        "\n",
        "model_comp1 = pd.DataFrame({'Model' :['K-Nearest Neighbour','Random Forest',\n",
        "                                      'XGBoost'], 'Accuracy' : [accuracy_knn_smote*100,\n",
        "                                                                accuracy_rf_smote*100,accuracy_xgb_smote*100]})\n",
        "\n",
        "model_comp1.head()"
      ]
    },
    {
      "cell_type": "code",
      "execution_count": 84,
      "metadata": {
        "colab": {
          "base_uri": "https://localhost:8080/",
          "height": 569
        },
        "id": "H0y1fELQrmIU",
        "outputId": "6758fd25-1460-4a32-c7a3-b3296e9182ab"
      },
      "outputs": [
        {
          "data": {
            "image/png": "[encoded data removed]",
            "text/plain": [
              "<Figure size 640x480 with 1 Axes>"
            ]
          },
          "metadata": {},
          "output_type": "display_data"
        }
      ],
      "source": [
        "# Membuat bar plot dengan keterangan jumlah\n",
        "\n",
        "fig, ax = plt.subplots()\n",
        "bars = plt.bar(model_comp1['Model'], model_comp1['Accuracy'], color=['purple','yellow','black'])\n",
        "plt.xlabel('Model')\n",
        "plt.ylabel('Accuracy (%)')\n",
        "plt.title('Oversample')\n",
        "plt.xticks(rotation=45, ha='right') # Untuk memutar label sumbu x agar lebih mudah dibaca\n",
        "\n",
        "# Menambahkan keterangan jumlah di atas setiap bar\n",
        "for bar in bars:\n",
        "  yval = bar.get_height()\n",
        "  plt.text(bar.get_x() + bar.get_width()/2, yval, round(yval,2), ha='center', va='bottom')\n",
        "\n",
        "plt.show()"
      ]
    },
    {
      "cell_type": "code",
      "execution_count": 85,
      "metadata": {
        "colab": {
          "base_uri": "https://localhost:8080/",
          "height": 143
        },
        "id": "lR-B1YIouG0i",
        "outputId": "70a61496-521a-4233-c85d-916561779289"
      },
      "outputs": [
        {
          "data": {
            "text/html": [
              "<div>\n",
              "<style scoped>\n",
              "    .dataframe tbody tr th:only-of-type {\n",
              "        vertical-align: middle;\n",
              "    }\n",
              "\n",
              "    .dataframe tbody tr th {\n",
              "        vertical-align: top;\n",
              "    }\n",
              "\n",
              "    .dataframe thead th {\n",
              "        text-align: right;\n",
              "    }\n",
              "</style>\n",
              "<table border=\"1\" class=\"dataframe\">\n",
              "  <thead>\n",
              "    <tr style=\"text-align: right;\">\n",
              "      <th></th>\n",
              "      <th>Model</th>\n",
              "      <th>Accuracy</th>\n",
              "    </tr>\n",
              "  </thead>\n",
              "  <tbody>\n",
              "    <tr>\n",
              "      <th>0</th>\n",
              "      <td>K-Nearest Neighbour</td>\n",
              "      <td>86.1</td>\n",
              "    </tr>\n",
              "    <tr>\n",
              "      <th>1</th>\n",
              "      <td>Random Forest</td>\n",
              "      <td>92.0</td>\n",
              "    </tr>\n",
              "    <tr>\n",
              "      <th>2</th>\n",
              "      <td>XGBoost</td>\n",
              "      <td>90.4</td>\n",
              "    </tr>\n",
              "  </tbody>\n",
              "</table>\n",
              "</div>"
            ],
            "text/plain": [
              "                 Model  Accuracy\n",
              "0  K-Nearest Neighbour      86.1\n",
              "1        Random Forest      92.0\n",
              "2              XGBoost      90.4"
            ]
          },
          "execution_count": 85,
          "metadata": {},
          "output_type": "execute_result"
        }
      ],
      "source": [
        "model_comp2 = pd.DataFrame({'Model' :['K-Nearest Neighbour','Random Forest',\n",
        "                                      'XGBoost'], 'Accuracy' : [accuracy_knn_smote_normal*100,\n",
        "                                                                accuracy_rf_smote_normal*100,accuracy_xgb_smote_normal*100]})\n",
        "\n",
        "model_comp2.head()"
      ]
    },
    {
      "cell_type": "code",
      "execution_count": 86,
      "metadata": {
        "colab": {
          "base_uri": "https://localhost:8080/",
          "height": 569
        },
        "id": "CvR3-cy5vFL1",
        "outputId": "ffac2368-1818-4277-c641-10466d5fad84"
      },
      "outputs": [
        {
          "data": {
            "image/png": "[encoded data removed]",
            "text/plain": [
              "<Figure size 640x480 with 1 Axes>"
            ]
          },
          "metadata": {},
          "output_type": "display_data"
        }
      ],
      "source": [
        "# Membuat bar plot dengan keterangan jumlah\n",
        "\n",
        "fig, ax = plt.subplots()\n",
        "bars = plt.bar(model_comp2['Model'], model_comp2['Accuracy'], color=['purple','yellow','black'])\n",
        "plt.xlabel('Model')\n",
        "plt.ylabel('Accuracy (%)')\n",
        "plt.title('Normalization + Oversampling')\n",
        "plt.xticks(rotation=45, ha='right') # Untuk memutar label sumbu x agar lebih mudah dibaca\n",
        "\n",
        "# Menambahkan keterangan jumlah di atas setiap bar\n",
        "for bar in bars:\n",
        "  yval = bar.get_height()\n",
        "  plt.text(bar.get_x() + bar.get_width()/2, yval, round(yval,2), ha='center', va='bottom')\n",
        "\n",
        "plt.show()"
      ]
    },
    {
      "cell_type": "code",
      "execution_count": 87,
      "metadata": {
        "colab": {
          "base_uri": "https://localhost:8080/",
          "height": 143
        },
        "id": "mh7XVhN_vf6V",
        "outputId": "fcf910b7-a601-4780-c2aa-a8eea3fa6209"
      },
      "outputs": [
        {
          "data": {
            "text/html": [
              "<div>\n",
              "<style scoped>\n",
              "    .dataframe tbody tr th:only-of-type {\n",
              "        vertical-align: middle;\n",
              "    }\n",
              "\n",
              "    .dataframe tbody tr th {\n",
              "        vertical-align: top;\n",
              "    }\n",
              "\n",
              "    .dataframe thead th {\n",
              "        text-align: right;\n",
              "    }\n",
              "</style>\n",
              "<table border=\"1\" class=\"dataframe\">\n",
              "  <thead>\n",
              "    <tr style=\"text-align: right;\">\n",
              "      <th></th>\n",
              "      <th>Model</th>\n",
              "      <th>Accuracy</th>\n",
              "    </tr>\n",
              "  </thead>\n",
              "  <tbody>\n",
              "    <tr>\n",
              "      <th>0</th>\n",
              "      <td>K-Nearest Neighbour</td>\n",
              "      <td>90.4</td>\n",
              "    </tr>\n",
              "    <tr>\n",
              "      <th>1</th>\n",
              "      <td>Random Forest</td>\n",
              "      <td>92.0</td>\n",
              "    </tr>\n",
              "    <tr>\n",
              "      <th>2</th>\n",
              "      <td>XGBoost</td>\n",
              "      <td>92.0</td>\n",
              "    </tr>\n",
              "  </tbody>\n",
              "</table>\n",
              "</div>"
            ],
            "text/plain": [
              "                 Model  Accuracy\n",
              "0  K-Nearest Neighbour      90.4\n",
              "1        Random Forest      92.0\n",
              "2              XGBoost      92.0"
            ]
          },
          "execution_count": 87,
          "metadata": {},
          "output_type": "execute_result"
        }
      ],
      "source": [
        "model_comp3 = pd.DataFrame({'Model' :['K-Nearest Neighbour','Random Forest',\n",
        "                                      'XGBoost'], 'Accuracy' : [accuracy_knn_smote_normal_Tun*100,\n",
        "                                                                accuracy_rf_smote_normal_Tun*100,accuracy_xgb_smote_normal_Tun*100]})\n",
        "\n",
        "model_comp3.head()"
      ]
    },
    {
      "cell_type": "code",
      "execution_count": 88,
      "metadata": {
        "colab": {
          "base_uri": "https://localhost:8080/",
          "height": 569
        },
        "id": "HPSsisdUv9-M",
        "outputId": "a70cf63d-6788-43d8-f50e-7dfc4cf1fe17"
      },
      "outputs": [
        {
          "data": {
            "image/png": "[encoded data removed]",
            "text/plain": [
              "<Figure size 640x480 with 1 Axes>"
            ]
          },
          "metadata": {},
          "output_type": "display_data"
        }
      ],
      "source": [
        "# Membuat bar plot dengan keterangan jumlah\n",
        "\n",
        "fig, ax = plt.subplots()\n",
        "bars = plt.bar(model_comp2['Model'], model_comp3['Accuracy'], color=['purple','yellow','black'])\n",
        "plt.xlabel('Model')\n",
        "plt.ylabel('Accuracy (%)')\n",
        "plt.title('Normalization + Oversample + Tunning')\n",
        "plt.xticks(rotation=45, ha='right') # Untuk memutar label sumbu x agar lebih mudah dibaca\n",
        "\n",
        "# Menambahkan keterangan jumlah di atas setiap bar\n",
        "for bar in bars:\n",
        "  yval = bar.get_height()\n",
        "  plt.text(bar.get_x() + bar.get_width()/2, yval, round(yval,2), ha='center', va='bottom')\n",
        "\n",
        "plt.show()"
      ]
    },
    {
      "cell_type": "code",
      "execution_count": 89,
      "metadata": {
        "colab": {
          "base_uri": "https://localhost:8080/",
          "height": 674
        },
        "id": "epjpQqprw7nP",
        "outputId": "b741c7d7-5fdd-440f-af79-7dbb73fad920"
      },
      "outputs": [
        {
          "data": {
            "image/png": "[encoded data removed]",
            "text/plain": [
              "<Figure size 640x480 with 1 Axes>"
            ]
          },
          "metadata": {},
          "output_type": "display_data"
        }
      ],
      "source": [
        "# Data Frame\n",
        "model_compBest = pd.DataFrame ({\n",
        "    'Model': ['K-Nearest Neighbour OverSample Tunning', 'Random Forest OverSample',\n",
        "              'XGB OverSample Standarization Tunning'],\n",
        "    'Accuracy': [accuracy_knn_smote_normal_Tun*100, accuracy_rf_smote_normal*100,\n",
        "                 accuracy_xgb_smote_normal_Tun*100]\n",
        "})\n",
        "\n",
        "# Membuat bar plot dengan keterangan jumlah\n",
        "\n",
        "fig, ax = plt.subplots()\n",
        "bars = plt.bar(model_compBest['Model'], model_compBest['Accuracy'], color=['purple','yellow','black'])\n",
        "plt.xlabel('Model')\n",
        "plt.ylabel('Accuracy (%)')\n",
        "plt.title('Best Model Comparison')\n",
        "plt.xticks(rotation=45, ha='right') # Untuk meutar label sumbu x agar lebih mudah dibaca\n",
        "\n",
        "# Menambahkan keterangan jumlah di atas setiap bar\n",
        "for bar in bars:\n",
        "  yval = bar.get_height()\n",
        "  plt.text(bar.get_x() + bar.get_width()/2, yval, round(yval,2), ha='center', va='bottom')\n",
        "\n",
        "plt.show()"
      ]
    },
    {
      "cell_type": "markdown",
      "metadata": {
        "id": "niPvdVvc0KvZ"
      },
      "source": [
        "- Kesimpulan\n",
        "\n",
        "Dari penelitian diatas setelah melakukan pemodelan dengan algoritma KNN, Random Forest, dan XGBoost dengan berbagai penanganan data antara lain menggunakan random over sampling SMOTE untuk penanganan imbalance data, RandomSearchCV untuk tunning, dan Normalisasi data. Dapat disimpulkan bahwa klasifikasi menggunakan Random Over Sampling SMOTE pada model KNN menghasilkan akurasi 75.4 %, model Random Forest dengan akurasi yang dihasilkan yaitu 92%, dan model XGBoots menghasilkan akurasi 90.4%. Disamping itu bila klasifikasi menggunakan data yang sudah dilakukan normalisasi dan Random Over Sampling SMOTE pada model KNN menghasilkan akurasi 86.1%, model Random Forest menghasilkan akurasi 92%, dan model XGBoots menghasilkan akurasi 90.4%. Dan pada klasifikasi menggunakan data yang telah dilakukan tunning RandomSearchCV, normalisasi, dan Random Over Sampling SMOTE dalam model KNN menghasilkan akurasi 93%, pada model Random Forest menghasilkan akurasi 87.7%. dan model XGBoots menghasilkan akurasi 92%. Oleh karena itu, dalam penanganan data yang optimal untuk mengatasi ketidakseimbangan data adalah dengan menggunakan metode random Oversampling SMOTE sekaligus yang dilengkapi dengan tuning menggunakan RandomSearchCV dan normalisasi data, memberikan hasil yang signifikan dalam meningkatkan akurasi model klasifikasi khususnya pada model KNN dan XGBoots, namun hal itu tidak terjadi pada model Random Forest yang\n",
        "mengalami penurunan akurasi yang signifikan. Secara keseluruhan, penanganan dalam ketidakseimbangan data dengan menggunakan tunning parameter, normalisasi, dan oversampling dapat memberikan dampak signifikan terhadap performa model klasifikasi. Pemilihan model terbaik dan parameter optimal dapat meningkatkan akurasi dan kinerja model secara keseluruhan."
      ]
    },
    {
      "cell_type": "markdown",
      "metadata": {
        "id": "ScxUpprW0p5Z"
      },
      "source": []
    }
  ],
  "metadata": {
    "colab": {
      "provenance": [],
      "toc_visible": true
    },
    "kernelspec": {
      "display_name": "Python 3",
      "name": "python3"
    },
    "language_info": {
      "codemirror_mode": {
        "name": "ipython",
        "version": 3
      },
      "file_extension": ".py",
      "mimetype": "text/x-python",
      "name": "python",
      "nbconvert_exporter": "python",
      "pygments_lexer": "ipython3",
      "version": "3.10.11"
    }
  },
  "nbformat": 4,
  "nbformat_minor": 0
}
